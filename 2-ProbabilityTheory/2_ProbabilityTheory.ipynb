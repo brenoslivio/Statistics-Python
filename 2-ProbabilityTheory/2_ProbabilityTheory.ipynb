{
 "metadata": {
  "language_info": {
   "codemirror_mode": {
    "name": "ipython",
    "version": 3
   },
   "file_extension": ".py",
   "mimetype": "text/x-python",
   "name": "python",
   "nbconvert_exporter": "python",
   "pygments_lexer": "ipython3",
   "version": "3.8.3-final"
  },
  "orig_nbformat": 2,
  "kernelspec": {
   "name": "python3",
   "display_name": "Python 3.8.3 64-bit ('base': conda)",
   "metadata": {
    "interpreter": {
     "hash": "748e54b33c6e51f8c99c8c54785a2bc5e27e5faf9f6b0f4d62c65bbe9dab73b6"
    }
   }
  }
 },
 "nbformat": 4,
 "nbformat_minor": 2,
 "cells": [
  {
   "source": [
    "# Probability Theory"
   ],
   "cell_type": "markdown",
   "metadata": {}
  },
  {
   "source": [
    "*The theory of probability consists in using human intuition to study the phenomena of our daily work. For this, we will use the basic principle of human learning, which is the idea of experiment.*\n",
    "\n",
    "*We can classify experiments into two types: random (casual) and non-random (deterministic). The deterministic experiments are totally characterized a priori, that is, they are phenomena in which the result is known even before it occurs and in this way, we have nothing to do.*\n",
    "\n",
    "*The experiments that we will study are the random ones, of which we do not know the result a priori, that is, they are events whose results cannot be predicted.*\n",
    "\n",
    "*Most of this material comes from the course '[Introduction to Probability Theory](https://uspdigital.usp.br/apolo/apoObterCurso?cod_curso=550400491&cod_edicao=20001&numseqofeedi=1)' given by [Francisco A. Rodrigues](https://github.com/franciscoicmc) at ICMC - USP, and the online book '[Introduction to probability, statistics, and random processes](https://www.probabilitycourse.com/)' by H. Pishro-Nik.*"
   ],
   "cell_type": "markdown",
   "metadata": {}
  },
  {
   "source": [
    "---"
   ],
   "cell_type": "markdown",
   "metadata": {}
  },
  {
   "source": [
    "## Table of contents\n",
    "\n",
    "\n",
    "1. [Introduction](#intro)\n",
    "\n",
    "  1.1 [Fundamental concepts](#fundamental)\n",
    "\n",
    "    * [Inclusion-Exclusion Principle](#inclusion)\n",
    "\n",
    "    * [More properties](#proper)\n",
    "\n",
    "  1.2 [Coin tossing simulation](#coin)\n",
    "\n",
    "  1.3 [Urn problem simulation](#urn)\n",
    "\n",
    "2. [Conditional probability and independence](#condprob)\n",
    "\n",
    "  2.1 [Conditional probability](#cond)\n",
    "\n",
    "  2.2 [Independence](#indep)\n",
    "\n",
    "  2.3 [Conditional probability simulation](#condsim)\n",
    "\n",
    "  2.4 [Law of Total Probability](#lawtotal)\n",
    "\n",
    "  2.5 [Bayes Rule](#bayes)\n",
    "\n",
    "  2.6 [Bayes Rule Simulation](#bayessim)\n",
    "\n",
    "  2.7 [Base rate fallacy](#fallacy)\n",
    "\n",
    "3. [Random variables](#rand)\n",
    "\n",
    "  3.1 [Discrete random variables](#disc)\n",
    "\n",
    "  3.2 [Continuous random variables](#cont)\n",
    "\n",
    "  3.3 [Random variable simulation](#randsim)\n",
    "\n",
    "4. [Expected value and variance](#expvar)\n",
    "\n",
    "  4.1 [Expected value](#exp)\n",
    "\n",
    "    * [Properties](#expproper)\n",
    "\n",
    "    * [Expected value simulation](#expsim)\n",
    "\n",
    "  4.2 [Variance](#variance)\n",
    "\n",
    "    * [Variance example](#varianceex)"
   ],
   "cell_type": "markdown",
   "metadata": {}
  },
  {
   "source": [
    "---"
   ],
   "cell_type": "markdown",
   "metadata": {}
  },
  {
   "source": [
    "## Introduction <a name=\"intro\"></a>"
   ],
   "cell_type": "markdown",
   "metadata": {}
  },
  {
   "source": [
    "### Fundamental concepts <a name=\"fundamental\"></a>"
   ],
   "cell_type": "markdown",
   "metadata": {}
  },
  {
   "source": [
    "- Outcome: A result of a random experiment;\n",
    "\n",
    "- Sample space ($\\Omega$): The set of all possible outcomes;\n",
    "\n",
    "- Event ($A$): A subset of the sample space.\n",
    "\n",
    "Relation between events:\n",
    "\n",
    "- Impossible event: $\\varnothing$;\n",
    "\n",
    "- Possible event: $\\Omega$;\n",
    "\n",
    "- $A \\cup B$: Event that occurs if $A$ or $B$ (or both) occur;\n",
    "\n",
    "- $A \\cap B$: Event that occurs if and only if A and B occur;\n",
    "\n",
    "- $\\bar{A}$: Event that occurs if A doesn't occur;\n",
    "\n",
    "- Mutual exclusive event: $A \\cap B = \\varnothing$."
   ],
   "cell_type": "markdown",
   "metadata": {}
  },
  {
   "source": [
    "#### Inclusion-Exclusion Principle <a name=\"inclusion\"></a>"
   ],
   "cell_type": "markdown",
   "metadata": {}
  },
  {
   "source": [
    "\n",
    "$P(A \\cup B )= P(A)+P(B)-P(A \\cap B)$\n",
    "\n",
    "We can prove by using:\n",
    "\n",
    "$A \\cup B = (A \\cap \\bar{B}) \\cup (A \\cap B) \\cup (\\bar{A}\\cap B) \\Rightarrow$\n",
    "\n",
    "$P(A \\cup B) = P(A \\cap \\bar{B}) + P(A\\cap B) + P(\\bar{A} \\cap B) \\Leftrightarrow$\n",
    "\n",
    "$P(A \\cup B) = P(A) - P(A\\cap B) + P(A\\cap B) + P(B) - P(A\\cap B) = P(A) + P(B) - P(A\\cap B)$\n"
   ],
   "cell_type": "markdown",
   "metadata": {}
  },
  {
   "source": [
    "#### More properties <a name=\"proper\"></a>"
   ],
   "cell_type": "markdown",
   "metadata": {}
  },
  {
   "source": [
    "- $P(\\varnothing) = 0$;\n",
    "- $P(A) = 1 - P(\\bar{A})$;\n",
    "- If $A \\in B$, therefore $P(A) \\leq P(B)$."
   ],
   "cell_type": "markdown",
   "metadata": {}
  },
  {
   "source": [
    "### Coin tossing simulation <a name=\"coin\"></a>"
   ],
   "cell_type": "markdown",
   "metadata": {}
  },
  {
   "source": [
    "With these concepts, let's simulate coin tossing:"
   ],
   "cell_type": "markdown",
   "metadata": {}
  },
  {
   "cell_type": "code",
   "execution_count": 18,
   "metadata": {},
   "outputs": [],
   "source": [
    "import numpy as np\n",
    "\n",
    "p = 0.7 # Probability for heads\n",
    "\n",
    "nsim = 1000 # Number of simulations\n",
    "\n",
    "nhead = 0 # Initializing number of heads\n",
    "\n",
    "outcomes = [] # Store the outcomes Heads: 1, Tails: 0\n",
    "\n",
    "for i in range(0, nsim):\n",
    "    if(np.random.uniform() < p): # If less than p, we have heads\n",
    "        nhead = nhead + 1 # Add counting for heads\n",
    "        outcomes.append(1)\n",
    "    else:\n",
    "        outcomes.append(0)"
   ]
  },
  {
   "source": [
    "The outcomes generated:"
   ],
   "cell_type": "markdown",
   "metadata": {}
  },
  {
   "cell_type": "code",
   "execution_count": 19,
   "metadata": {},
   "outputs": [
    {
     "output_type": "stream",
     "name": "stdout",
     "text": [
      "Outcomes: [0, 0, 1, 1, 0, 1, 1, 1, 1, 0, 0, 0, 1, 0, 1, 0, 1, 0, 0, 1, 0, 1, 1, 1, 1, 1, 0, 1, 0, 0, 0, 1, 1, 1, 1, 1, 1, 0, 0, 1, 1, 1, 1, 1, 1, 1, 1, 0, 1, 1, 1, 1, 1, 1, 1, 0, 1, 0, 1, 1, 1, 1, 1, 1, 1, 0, 1, 1, 1, 1, 1, 1, 1, 0, 1, 1, 0, 1, 1, 0, 0, 1, 1, 1, 1, 1, 0, 1, 1, 1, 0, 1, 0, 1, 1, 0, 1, 0, 1, 1, 0, 1, 1, 1, 1, 1, 0, 1, 1, 1, 1, 1, 1, 1, 1, 1, 1, 1, 1, 0, 1, 1, 1, 0, 1, 1, 0, 1, 0, 1, 1, 1, 0, 1, 1, 0, 0, 1, 1, 0, 1, 1, 0, 1, 0, 1, 1, 1, 0, 1, 1, 1, 1, 0, 1, 1, 1, 1, 1, 1, 0, 0, 0, 1, 1, 0, 1, 1, 0, 1, 1, 1, 0, 1, 1, 0, 1, 1, 1, 1, 0, 1, 1, 1, 0, 0, 1, 1, 1, 0, 0, 1, 0, 1, 1, 1, 0, 1, 1, 0, 0, 1, 1, 1, 1, 0, 1, 0, 0, 0, 0, 1, 0, 0, 0, 1, 1, 1, 1, 1, 0, 1, 0, 0, 1, 1, 1, 0, 1, 1, 1, 0, 1, 1, 1, 1, 1, 1, 1, 1, 1, 1, 0, 1, 1, 1, 0, 1, 1, 1, 1, 1, 0, 1, 0, 1, 1, 1, 0, 0, 0, 0, 1, 1, 1, 1, 1, 0, 1, 1, 1, 1, 1, 0, 1, 1, 0, 1, 1, 0, 1, 0, 1, 1, 1, 0, 1, 0, 1, 1, 1, 1, 1, 1, 1, 1, 0, 0, 1, 0, 1, 0, 1, 1, 0, 1, 1, 1, 0, 0, 1, 1, 1, 1, 1, 0, 1, 1, 0, 1, 1, 0, 1, 1, 1, 1, 1, 1, 0, 0, 0, 1, 1, 1, 1, 0, 1, 1, 1, 1, 1, 1, 1, 1, 0, 1, 1, 0, 1, 1, 1, 1, 0, 1, 0, 1, 1, 1, 1, 0, 0, 1, 1, 1, 1, 0, 0, 0, 1, 0, 1, 0, 1, 1, 1, 0, 0, 1, 1, 0, 1, 0, 0, 1, 1, 1, 0, 1, 1, 1, 1, 0, 1, 0, 1, 1, 1, 1, 0, 1, 1, 0, 1, 1, 1, 1, 0, 1, 0, 1, 1, 0, 1, 0, 0, 0, 1, 1, 0, 1, 0, 1, 1, 1, 1, 0, 1, 0, 1, 0, 0, 1, 1, 1, 1, 1, 1, 1, 1, 0, 0, 1, 1, 1, 1, 1, 1, 0, 0, 0, 1, 1, 1, 0, 1, 1, 1, 0, 0, 1, 1, 1, 1, 1, 1, 1, 1, 1, 1, 1, 1, 1, 0, 0, 1, 1, 1, 1, 0, 1, 0, 1, 0, 0, 1, 0, 1, 1, 1, 1, 0, 1, 1, 1, 1, 1, 1, 1, 1, 1, 0, 1, 1, 0, 1, 1, 1, 1, 0, 0, 1, 1, 0, 1, 1, 1, 0, 0, 1, 1, 1, 1, 1, 1, 0, 1, 1, 1, 1, 1, 1, 1, 1, 1, 0, 0, 0, 1, 1, 1, 1, 1, 1, 1, 0, 0, 1, 1, 1, 1, 1, 1, 1, 1, 0, 1, 1, 0, 1, 1, 1, 0, 0, 1, 1, 1, 1, 0, 1, 1, 1, 1, 1, 0, 1, 1, 1, 1, 1, 0, 1, 0, 1, 1, 1, 1, 1, 0, 1, 1, 0, 0, 1, 1, 1, 1, 1, 1, 1, 0, 1, 0, 1, 1, 1, 1, 1, 1, 1, 0, 0, 1, 1, 1, 1, 0, 0, 1, 1, 1, 1, 1, 1, 1, 1, 1, 1, 1, 0, 1, 1, 1, 1, 0, 1, 1, 1, 1, 1, 1, 1, 1, 0, 1, 1, 0, 1, 0, 1, 0, 1, 1, 0, 0, 1, 1, 0, 1, 0, 0, 0, 0, 1, 0, 1, 0, 0, 1, 1, 0, 1, 1, 1, 1, 1, 1, 1, 1, 1, 1, 0, 0, 0, 1, 0, 0, 1, 0, 0, 0, 1, 1, 1, 1, 1, 0, 1, 1, 0, 1, 1, 0, 1, 1, 0, 0, 1, 0, 0, 1, 0, 1, 1, 0, 1, 1, 1, 0, 1, 1, 0, 0, 1, 0, 0, 1, 1, 0, 0, 1, 1, 1, 0, 1, 0, 1, 0, 1, 1, 0, 0, 1, 1, 1, 1, 1, 1, 0, 1, 0, 1, 1, 1, 1, 1, 1, 1, 1, 1, 0, 1, 1, 0, 1, 1, 1, 0, 1, 1, 0, 0, 0, 0, 1, 1, 0, 0, 1, 1, 0, 1, 1, 0, 1, 1, 1, 1, 0, 1, 0, 1, 1, 1, 1, 1, 1, 0, 0, 1, 0, 1, 0, 1, 1, 1, 1, 1, 1, 1, 1, 0, 1, 0, 0, 1, 1, 1, 1, 1, 1, 0, 0, 0, 1, 0, 0, 1, 0, 1, 1, 0, 1, 0, 1, 1, 0, 1, 1, 1, 1, 1, 1, 1, 0, 1, 0, 0, 1, 0, 1, 1, 1, 0, 0, 0, 1, 1, 1, 0, 1, 1, 1, 1, 1, 1, 0, 1, 0, 0, 1, 0, 1, 1, 0, 1, 0, 1, 0, 1, 1, 0, 0, 1, 1, 1, 0, 1, 0, 0, 0, 1, 1, 1, 1, 1, 0, 1, 1, 1, 1, 1, 0, 1, 1, 1, 1, 1, 1, 1, 0, 1, 0, 1, 0, 1, 0, 1, 1, 0, 1, 0, 1, 1, 1, 1, 0, 1, 1, 1, 0, 1, 1, 0, 0, 1, 0, 0, 1, 1, 1, 1, 1, 1, 1, 0, 0, 1, 1, 1, 0, 1, 0, 0, 0, 1, 0, 1, 0, 0, 1, 1, 1, 0, 0, 1, 1, 1, 1, 1, 1, 0, 1, 0, 1, 1, 1, 0, 1, 1, 1, 1, 1, 1, 1, 0, 0, 1, 1, 1, 0, 1, 1, 1, 1, 1, 1, 1, 1, 1, 1]\n"
     ]
    }
   ],
   "source": [
    "print(\"Outcomes:\", outcomes)"
   ]
  },
  {
   "source": [
    "Of course, in this case, the sample space is made of the unique values from the outcomes, Heads or Tails. $\\Omega = \\{1,\\;0\\}$."
   ],
   "cell_type": "markdown",
   "metadata": {}
  },
  {
   "cell_type": "code",
   "execution_count": 21,
   "metadata": {},
   "outputs": [
    {
     "output_type": "execute_result",
     "data": {
      "text/plain": [
       "array([0, 1])"
      ]
     },
     "metadata": {},
     "execution_count": 21
    }
   ],
   "source": [
    "np.unique(outcomes)"
   ]
  },
  {
   "source": [
    "Using [np.random.uniform](https://numpy.org/doc/stable/reference/random/generated/numpy.random.uniform.html) we use probability density function of the uniform distribution which is:\n",
    "\n",
    "$$p(x) = \\frac{1}{b - a}$$\n",
    "\n",
    "Therefore, any value in the interval has the same chance of being chosen (more explications about probability density will be in the notebook). So, in theory, with many simulations, we will get a frequency very similar to the given probability:"
   ],
   "cell_type": "markdown",
   "metadata": {}
  },
  {
   "cell_type": "code",
   "execution_count": 20,
   "metadata": {},
   "outputs": [
    {
     "output_type": "stream",
     "name": "stdout",
     "text": [
      "Heads frequency: 0.69\n"
     ]
    }
   ],
   "source": [
    "print(\"Heads frequency:\", nhead/nsim)"
   ]
  },
  {
   "source": [
    "This go hand in hand with the frequentist probability definition, which says the probability of an event is equal to its frequency occurrence in many experiments:"
   ],
   "cell_type": "markdown",
   "metadata": {}
  },
  {
   "source": [
    "$$P(A) = \\lim_{n \\rightarrow \\infty} \\frac{n_{A}}{n}$$"
   ],
   "cell_type": "markdown",
   "metadata": {}
  },
  {
   "source": [
    "Let's see the coin tossing simulation with this idea of frequency visually:"
   ],
   "cell_type": "markdown",
   "metadata": {}
  },
  {
   "cell_type": "code",
   "execution_count": 32,
   "metadata": {},
   "outputs": [
    {
     "output_type": "display_data",
     "data": {
      "text/plain": "<Figure size 576x432 with 1 Axes>",
      "image/svg+xml": "<?xml version=\"1.0\" encoding=\"utf-8\" standalone=\"no\"?>\n<!DOCTYPE svg PUBLIC \"-//W3C//DTD SVG 1.1//EN\"\n  \"http://www.w3.org/Graphics/SVG/1.1/DTD/svg11.dtd\">\n<!-- Created with matplotlib (https://matplotlib.org/) -->\n<svg height=\"384.393594pt\" version=\"1.1\" viewBox=\"0 0 519.784375 384.393594\" width=\"519.784375pt\" xmlns=\"http://www.w3.org/2000/svg\" xmlns:xlink=\"http://www.w3.org/1999/xlink\">\n <defs>\n  <style type=\"text/css\">\n*{stroke-linecap:butt;stroke-linejoin:round;}\n  </style>\n </defs>\n <g id=\"figure_1\">\n  <g id=\"patch_1\">\n   <path d=\"M 0 384.393594 \nL 519.784375 384.393594 \nL 519.784375 0 \nL 0 0 \nz\n\" style=\"fill:none;\"/>\n  </g>\n  <g id=\"axes_1\">\n   <g id=\"patch_2\">\n    <path d=\"M 53.459375 337.159219 \nL 499.859375 337.159219 \nL 499.859375 10.999219 \nL 53.459375 10.999219 \nz\n\" style=\"fill:#ffffff;\"/>\n   </g>\n   <g id=\"matplotlib.axis_1\">\n    <g id=\"xtick_1\">\n     <g id=\"line2d_1\">\n      <defs>\n       <path d=\"M 0 0 \nL 0 3.5 \n\" id=\"m7f3b7218ee\" style=\"stroke:#000000;stroke-width:0.8;\"/>\n      </defs>\n      <g>\n       <use style=\"stroke:#000000;stroke-width:0.8;\" x=\"53.459375\" xlink:href=\"#m7f3b7218ee\" y=\"337.159219\"/>\n      </g>\n     </g>\n     <g id=\"text_1\">\n      <!-- 0 -->\n      <defs>\n       <path d=\"M 31.78125 66.40625 \nQ 24.171875 66.40625 20.328125 58.90625 \nQ 16.5 51.421875 16.5 36.375 \nQ 16.5 21.390625 20.328125 13.890625 \nQ 24.171875 6.390625 31.78125 6.390625 \nQ 39.453125 6.390625 43.28125 13.890625 \nQ 47.125 21.390625 47.125 36.375 \nQ 47.125 51.421875 43.28125 58.90625 \nQ 39.453125 66.40625 31.78125 66.40625 \nz\nM 31.78125 74.21875 \nQ 44.046875 74.21875 50.515625 64.515625 \nQ 56.984375 54.828125 56.984375 36.375 \nQ 56.984375 17.96875 50.515625 8.265625 \nQ 44.046875 -1.421875 31.78125 -1.421875 \nQ 19.53125 -1.421875 13.0625 8.265625 \nQ 6.59375 17.96875 6.59375 36.375 \nQ 6.59375 54.828125 13.0625 64.515625 \nQ 19.53125 74.21875 31.78125 74.21875 \nz\n\" id=\"DejaVuSans-48\"/>\n      </defs>\n      <g transform=\"translate(50.278125 351.757656)scale(0.1 -0.1)\">\n       <use xlink:href=\"#DejaVuSans-48\"/>\n      </g>\n     </g>\n    </g>\n    <g id=\"xtick_2\">\n     <g id=\"line2d_2\">\n      <g>\n       <use style=\"stroke:#000000;stroke-width:0.8;\" x=\"142.739375\" xlink:href=\"#m7f3b7218ee\" y=\"337.159219\"/>\n      </g>\n     </g>\n     <g id=\"text_2\">\n      <!-- 200 -->\n      <defs>\n       <path d=\"M 19.1875 8.296875 \nL 53.609375 8.296875 \nL 53.609375 0 \nL 7.328125 0 \nL 7.328125 8.296875 \nQ 12.9375 14.109375 22.625 23.890625 \nQ 32.328125 33.6875 34.8125 36.53125 \nQ 39.546875 41.84375 41.421875 45.53125 \nQ 43.3125 49.21875 43.3125 52.78125 \nQ 43.3125 58.59375 39.234375 62.25 \nQ 35.15625 65.921875 28.609375 65.921875 \nQ 23.96875 65.921875 18.8125 64.3125 \nQ 13.671875 62.703125 7.8125 59.421875 \nL 7.8125 69.390625 \nQ 13.765625 71.78125 18.9375 73 \nQ 24.125 74.21875 28.421875 74.21875 \nQ 39.75 74.21875 46.484375 68.546875 \nQ 53.21875 62.890625 53.21875 53.421875 \nQ 53.21875 48.921875 51.53125 44.890625 \nQ 49.859375 40.875 45.40625 35.40625 \nQ 44.1875 33.984375 37.640625 27.21875 \nQ 31.109375 20.453125 19.1875 8.296875 \nz\n\" id=\"DejaVuSans-50\"/>\n      </defs>\n      <g transform=\"translate(133.195625 351.757656)scale(0.1 -0.1)\">\n       <use xlink:href=\"#DejaVuSans-50\"/>\n       <use x=\"63.623047\" xlink:href=\"#DejaVuSans-48\"/>\n       <use x=\"127.246094\" xlink:href=\"#DejaVuSans-48\"/>\n      </g>\n     </g>\n    </g>\n    <g id=\"xtick_3\">\n     <g id=\"line2d_3\">\n      <g>\n       <use style=\"stroke:#000000;stroke-width:0.8;\" x=\"232.019375\" xlink:href=\"#m7f3b7218ee\" y=\"337.159219\"/>\n      </g>\n     </g>\n     <g id=\"text_3\">\n      <!-- 400 -->\n      <defs>\n       <path d=\"M 37.796875 64.3125 \nL 12.890625 25.390625 \nL 37.796875 25.390625 \nz\nM 35.203125 72.90625 \nL 47.609375 72.90625 \nL 47.609375 25.390625 \nL 58.015625 25.390625 \nL 58.015625 17.1875 \nL 47.609375 17.1875 \nL 47.609375 0 \nL 37.796875 0 \nL 37.796875 17.1875 \nL 4.890625 17.1875 \nL 4.890625 26.703125 \nz\n\" id=\"DejaVuSans-52\"/>\n      </defs>\n      <g transform=\"translate(222.475625 351.757656)scale(0.1 -0.1)\">\n       <use xlink:href=\"#DejaVuSans-52\"/>\n       <use x=\"63.623047\" xlink:href=\"#DejaVuSans-48\"/>\n       <use x=\"127.246094\" xlink:href=\"#DejaVuSans-48\"/>\n      </g>\n     </g>\n    </g>\n    <g id=\"xtick_4\">\n     <g id=\"line2d_4\">\n      <g>\n       <use style=\"stroke:#000000;stroke-width:0.8;\" x=\"321.299375\" xlink:href=\"#m7f3b7218ee\" y=\"337.159219\"/>\n      </g>\n     </g>\n     <g id=\"text_4\">\n      <!-- 600 -->\n      <defs>\n       <path d=\"M 33.015625 40.375 \nQ 26.375 40.375 22.484375 35.828125 \nQ 18.609375 31.296875 18.609375 23.390625 \nQ 18.609375 15.53125 22.484375 10.953125 \nQ 26.375 6.390625 33.015625 6.390625 \nQ 39.65625 6.390625 43.53125 10.953125 \nQ 47.40625 15.53125 47.40625 23.390625 \nQ 47.40625 31.296875 43.53125 35.828125 \nQ 39.65625 40.375 33.015625 40.375 \nz\nM 52.59375 71.296875 \nL 52.59375 62.3125 \nQ 48.875 64.0625 45.09375 64.984375 \nQ 41.3125 65.921875 37.59375 65.921875 \nQ 27.828125 65.921875 22.671875 59.328125 \nQ 17.53125 52.734375 16.796875 39.40625 \nQ 19.671875 43.65625 24.015625 45.921875 \nQ 28.375 48.1875 33.59375 48.1875 \nQ 44.578125 48.1875 50.953125 41.515625 \nQ 57.328125 34.859375 57.328125 23.390625 \nQ 57.328125 12.15625 50.6875 5.359375 \nQ 44.046875 -1.421875 33.015625 -1.421875 \nQ 20.359375 -1.421875 13.671875 8.265625 \nQ 6.984375 17.96875 6.984375 36.375 \nQ 6.984375 53.65625 15.1875 63.9375 \nQ 23.390625 74.21875 37.203125 74.21875 \nQ 40.921875 74.21875 44.703125 73.484375 \nQ 48.484375 72.75 52.59375 71.296875 \nz\n\" id=\"DejaVuSans-54\"/>\n      </defs>\n      <g transform=\"translate(311.755625 351.757656)scale(0.1 -0.1)\">\n       <use xlink:href=\"#DejaVuSans-54\"/>\n       <use x=\"63.623047\" xlink:href=\"#DejaVuSans-48\"/>\n       <use x=\"127.246094\" xlink:href=\"#DejaVuSans-48\"/>\n      </g>\n     </g>\n    </g>\n    <g id=\"xtick_5\">\n     <g id=\"line2d_5\">\n      <g>\n       <use style=\"stroke:#000000;stroke-width:0.8;\" x=\"410.579375\" xlink:href=\"#m7f3b7218ee\" y=\"337.159219\"/>\n      </g>\n     </g>\n     <g id=\"text_5\">\n      <!-- 800 -->\n      <defs>\n       <path d=\"M 31.78125 34.625 \nQ 24.75 34.625 20.71875 30.859375 \nQ 16.703125 27.09375 16.703125 20.515625 \nQ 16.703125 13.921875 20.71875 10.15625 \nQ 24.75 6.390625 31.78125 6.390625 \nQ 38.8125 6.390625 42.859375 10.171875 \nQ 46.921875 13.96875 46.921875 20.515625 \nQ 46.921875 27.09375 42.890625 30.859375 \nQ 38.875 34.625 31.78125 34.625 \nz\nM 21.921875 38.8125 \nQ 15.578125 40.375 12.03125 44.71875 \nQ 8.5 49.078125 8.5 55.328125 \nQ 8.5 64.0625 14.71875 69.140625 \nQ 20.953125 74.21875 31.78125 74.21875 \nQ 42.671875 74.21875 48.875 69.140625 \nQ 55.078125 64.0625 55.078125 55.328125 \nQ 55.078125 49.078125 51.53125 44.71875 \nQ 48 40.375 41.703125 38.8125 \nQ 48.828125 37.15625 52.796875 32.3125 \nQ 56.78125 27.484375 56.78125 20.515625 \nQ 56.78125 9.90625 50.3125 4.234375 \nQ 43.84375 -1.421875 31.78125 -1.421875 \nQ 19.734375 -1.421875 13.25 4.234375 \nQ 6.78125 9.90625 6.78125 20.515625 \nQ 6.78125 27.484375 10.78125 32.3125 \nQ 14.796875 37.15625 21.921875 38.8125 \nz\nM 18.3125 54.390625 \nQ 18.3125 48.734375 21.84375 45.5625 \nQ 25.390625 42.390625 31.78125 42.390625 \nQ 38.140625 42.390625 41.71875 45.5625 \nQ 45.3125 48.734375 45.3125 54.390625 \nQ 45.3125 60.0625 41.71875 63.234375 \nQ 38.140625 66.40625 31.78125 66.40625 \nQ 25.390625 66.40625 21.84375 63.234375 \nQ 18.3125 60.0625 18.3125 54.390625 \nz\n\" id=\"DejaVuSans-56\"/>\n      </defs>\n      <g transform=\"translate(401.035625 351.757656)scale(0.1 -0.1)\">\n       <use xlink:href=\"#DejaVuSans-56\"/>\n       <use x=\"63.623047\" xlink:href=\"#DejaVuSans-48\"/>\n       <use x=\"127.246094\" xlink:href=\"#DejaVuSans-48\"/>\n      </g>\n     </g>\n    </g>\n    <g id=\"xtick_6\">\n     <g id=\"line2d_6\">\n      <g>\n       <use style=\"stroke:#000000;stroke-width:0.8;\" x=\"499.859375\" xlink:href=\"#m7f3b7218ee\" y=\"337.159219\"/>\n      </g>\n     </g>\n     <g id=\"text_6\">\n      <!-- 1000 -->\n      <defs>\n       <path d=\"M 12.40625 8.296875 \nL 28.515625 8.296875 \nL 28.515625 63.921875 \nL 10.984375 60.40625 \nL 10.984375 69.390625 \nL 28.421875 72.90625 \nL 38.28125 72.90625 \nL 38.28125 8.296875 \nL 54.390625 8.296875 \nL 54.390625 0 \nL 12.40625 0 \nz\n\" id=\"DejaVuSans-49\"/>\n      </defs>\n      <g transform=\"translate(487.134375 351.757656)scale(0.1 -0.1)\">\n       <use xlink:href=\"#DejaVuSans-49\"/>\n       <use x=\"63.623047\" xlink:href=\"#DejaVuSans-48\"/>\n       <use x=\"127.246094\" xlink:href=\"#DejaVuSans-48\"/>\n       <use x=\"190.869141\" xlink:href=\"#DejaVuSans-48\"/>\n      </g>\n     </g>\n    </g>\n    <g id=\"text_7\">\n     <!-- Number of simulations -->\n     <defs>\n      <path d=\"M 9.8125 72.90625 \nL 23.09375 72.90625 \nL 55.421875 11.921875 \nL 55.421875 72.90625 \nL 64.984375 72.90625 \nL 64.984375 0 \nL 51.703125 0 \nL 19.390625 60.984375 \nL 19.390625 0 \nL 9.8125 0 \nz\n\" id=\"DejaVuSans-78\"/>\n      <path d=\"M 8.5 21.578125 \nL 8.5 54.6875 \nL 17.484375 54.6875 \nL 17.484375 21.921875 \nQ 17.484375 14.15625 20.5 10.265625 \nQ 23.53125 6.390625 29.59375 6.390625 \nQ 36.859375 6.390625 41.078125 11.03125 \nQ 45.3125 15.671875 45.3125 23.6875 \nL 45.3125 54.6875 \nL 54.296875 54.6875 \nL 54.296875 0 \nL 45.3125 0 \nL 45.3125 8.40625 \nQ 42.046875 3.421875 37.71875 1 \nQ 33.40625 -1.421875 27.6875 -1.421875 \nQ 18.265625 -1.421875 13.375 4.4375 \nQ 8.5 10.296875 8.5 21.578125 \nz\nM 31.109375 56 \nz\n\" id=\"DejaVuSans-117\"/>\n      <path d=\"M 52 44.1875 \nQ 55.375 50.25 60.0625 53.125 \nQ 64.75 56 71.09375 56 \nQ 79.640625 56 84.28125 50.015625 \nQ 88.921875 44.046875 88.921875 33.015625 \nL 88.921875 0 \nL 79.890625 0 \nL 79.890625 32.71875 \nQ 79.890625 40.578125 77.09375 44.375 \nQ 74.3125 48.1875 68.609375 48.1875 \nQ 61.625 48.1875 57.5625 43.546875 \nQ 53.515625 38.921875 53.515625 30.90625 \nL 53.515625 0 \nL 44.484375 0 \nL 44.484375 32.71875 \nQ 44.484375 40.625 41.703125 44.40625 \nQ 38.921875 48.1875 33.109375 48.1875 \nQ 26.21875 48.1875 22.15625 43.53125 \nQ 18.109375 38.875 18.109375 30.90625 \nL 18.109375 0 \nL 9.078125 0 \nL 9.078125 54.6875 \nL 18.109375 54.6875 \nL 18.109375 46.1875 \nQ 21.1875 51.21875 25.484375 53.609375 \nQ 29.78125 56 35.6875 56 \nQ 41.65625 56 45.828125 52.96875 \nQ 50 49.953125 52 44.1875 \nz\n\" id=\"DejaVuSans-109\"/>\n      <path d=\"M 48.6875 27.296875 \nQ 48.6875 37.203125 44.609375 42.84375 \nQ 40.53125 48.484375 33.40625 48.484375 \nQ 26.265625 48.484375 22.1875 42.84375 \nQ 18.109375 37.203125 18.109375 27.296875 \nQ 18.109375 17.390625 22.1875 11.75 \nQ 26.265625 6.109375 33.40625 6.109375 \nQ 40.53125 6.109375 44.609375 11.75 \nQ 48.6875 17.390625 48.6875 27.296875 \nz\nM 18.109375 46.390625 \nQ 20.953125 51.265625 25.265625 53.625 \nQ 29.59375 56 35.59375 56 \nQ 45.5625 56 51.78125 48.09375 \nQ 58.015625 40.1875 58.015625 27.296875 \nQ 58.015625 14.40625 51.78125 6.484375 \nQ 45.5625 -1.421875 35.59375 -1.421875 \nQ 29.59375 -1.421875 25.265625 0.953125 \nQ 20.953125 3.328125 18.109375 8.203125 \nL 18.109375 0 \nL 9.078125 0 \nL 9.078125 75.984375 \nL 18.109375 75.984375 \nz\n\" id=\"DejaVuSans-98\"/>\n      <path d=\"M 56.203125 29.59375 \nL 56.203125 25.203125 \nL 14.890625 25.203125 \nQ 15.484375 15.921875 20.484375 11.0625 \nQ 25.484375 6.203125 34.421875 6.203125 \nQ 39.59375 6.203125 44.453125 7.46875 \nQ 49.3125 8.734375 54.109375 11.28125 \nL 54.109375 2.78125 \nQ 49.265625 0.734375 44.1875 -0.34375 \nQ 39.109375 -1.421875 33.890625 -1.421875 \nQ 20.796875 -1.421875 13.15625 6.1875 \nQ 5.515625 13.8125 5.515625 26.8125 \nQ 5.515625 40.234375 12.765625 48.109375 \nQ 20.015625 56 32.328125 56 \nQ 43.359375 56 49.78125 48.890625 \nQ 56.203125 41.796875 56.203125 29.59375 \nz\nM 47.21875 32.234375 \nQ 47.125 39.59375 43.09375 43.984375 \nQ 39.0625 48.390625 32.421875 48.390625 \nQ 24.90625 48.390625 20.390625 44.140625 \nQ 15.875 39.890625 15.1875 32.171875 \nz\n\" id=\"DejaVuSans-101\"/>\n      <path d=\"M 41.109375 46.296875 \nQ 39.59375 47.171875 37.8125 47.578125 \nQ 36.03125 48 33.890625 48 \nQ 26.265625 48 22.1875 43.046875 \nQ 18.109375 38.09375 18.109375 28.8125 \nL 18.109375 0 \nL 9.078125 0 \nL 9.078125 54.6875 \nL 18.109375 54.6875 \nL 18.109375 46.1875 \nQ 20.953125 51.171875 25.484375 53.578125 \nQ 30.03125 56 36.53125 56 \nQ 37.453125 56 38.578125 55.875 \nQ 39.703125 55.765625 41.0625 55.515625 \nz\n\" id=\"DejaVuSans-114\"/>\n      <path id=\"DejaVuSans-32\"/>\n      <path d=\"M 30.609375 48.390625 \nQ 23.390625 48.390625 19.1875 42.75 \nQ 14.984375 37.109375 14.984375 27.296875 \nQ 14.984375 17.484375 19.15625 11.84375 \nQ 23.34375 6.203125 30.609375 6.203125 \nQ 37.796875 6.203125 41.984375 11.859375 \nQ 46.1875 17.53125 46.1875 27.296875 \nQ 46.1875 37.015625 41.984375 42.703125 \nQ 37.796875 48.390625 30.609375 48.390625 \nz\nM 30.609375 56 \nQ 42.328125 56 49.015625 48.375 \nQ 55.71875 40.765625 55.71875 27.296875 \nQ 55.71875 13.875 49.015625 6.21875 \nQ 42.328125 -1.421875 30.609375 -1.421875 \nQ 18.84375 -1.421875 12.171875 6.21875 \nQ 5.515625 13.875 5.515625 27.296875 \nQ 5.515625 40.765625 12.171875 48.375 \nQ 18.84375 56 30.609375 56 \nz\n\" id=\"DejaVuSans-111\"/>\n      <path d=\"M 37.109375 75.984375 \nL 37.109375 68.5 \nL 28.515625 68.5 \nQ 23.6875 68.5 21.796875 66.546875 \nQ 19.921875 64.59375 19.921875 59.515625 \nL 19.921875 54.6875 \nL 34.71875 54.6875 \nL 34.71875 47.703125 \nL 19.921875 47.703125 \nL 19.921875 0 \nL 10.890625 0 \nL 10.890625 47.703125 \nL 2.296875 47.703125 \nL 2.296875 54.6875 \nL 10.890625 54.6875 \nL 10.890625 58.5 \nQ 10.890625 67.625 15.140625 71.796875 \nQ 19.390625 75.984375 28.609375 75.984375 \nz\n\" id=\"DejaVuSans-102\"/>\n      <path d=\"M 44.28125 53.078125 \nL 44.28125 44.578125 \nQ 40.484375 46.53125 36.375 47.5 \nQ 32.28125 48.484375 27.875 48.484375 \nQ 21.1875 48.484375 17.84375 46.4375 \nQ 14.5 44.390625 14.5 40.28125 \nQ 14.5 37.15625 16.890625 35.375 \nQ 19.28125 33.59375 26.515625 31.984375 \nL 29.59375 31.296875 \nQ 39.15625 29.25 43.1875 25.515625 \nQ 47.21875 21.78125 47.21875 15.09375 \nQ 47.21875 7.46875 41.1875 3.015625 \nQ 35.15625 -1.421875 24.609375 -1.421875 \nQ 20.21875 -1.421875 15.453125 -0.5625 \nQ 10.6875 0.296875 5.421875 2 \nL 5.421875 11.28125 \nQ 10.40625 8.6875 15.234375 7.390625 \nQ 20.0625 6.109375 24.8125 6.109375 \nQ 31.15625 6.109375 34.5625 8.28125 \nQ 37.984375 10.453125 37.984375 14.40625 \nQ 37.984375 18.0625 35.515625 20.015625 \nQ 33.0625 21.96875 24.703125 23.78125 \nL 21.578125 24.515625 \nQ 13.234375 26.265625 9.515625 29.90625 \nQ 5.8125 33.546875 5.8125 39.890625 \nQ 5.8125 47.609375 11.28125 51.796875 \nQ 16.75 56 26.8125 56 \nQ 31.78125 56 36.171875 55.265625 \nQ 40.578125 54.546875 44.28125 53.078125 \nz\n\" id=\"DejaVuSans-115\"/>\n      <path d=\"M 9.421875 54.6875 \nL 18.40625 54.6875 \nL 18.40625 0 \nL 9.421875 0 \nz\nM 9.421875 75.984375 \nL 18.40625 75.984375 \nL 18.40625 64.59375 \nL 9.421875 64.59375 \nz\n\" id=\"DejaVuSans-105\"/>\n      <path d=\"M 9.421875 75.984375 \nL 18.40625 75.984375 \nL 18.40625 0 \nL 9.421875 0 \nz\n\" id=\"DejaVuSans-108\"/>\n      <path d=\"M 34.28125 27.484375 \nQ 23.390625 27.484375 19.1875 25 \nQ 14.984375 22.515625 14.984375 16.5 \nQ 14.984375 11.71875 18.140625 8.90625 \nQ 21.296875 6.109375 26.703125 6.109375 \nQ 34.1875 6.109375 38.703125 11.40625 \nQ 43.21875 16.703125 43.21875 25.484375 \nL 43.21875 27.484375 \nz\nM 52.203125 31.203125 \nL 52.203125 0 \nL 43.21875 0 \nL 43.21875 8.296875 \nQ 40.140625 3.328125 35.546875 0.953125 \nQ 30.953125 -1.421875 24.3125 -1.421875 \nQ 15.921875 -1.421875 10.953125 3.296875 \nQ 6 8.015625 6 15.921875 \nQ 6 25.140625 12.171875 29.828125 \nQ 18.359375 34.515625 30.609375 34.515625 \nL 43.21875 34.515625 \nL 43.21875 35.40625 \nQ 43.21875 41.609375 39.140625 45 \nQ 35.0625 48.390625 27.6875 48.390625 \nQ 23 48.390625 18.546875 47.265625 \nQ 14.109375 46.140625 10.015625 43.890625 \nL 10.015625 52.203125 \nQ 14.9375 54.109375 19.578125 55.046875 \nQ 24.21875 56 28.609375 56 \nQ 40.484375 56 46.34375 49.84375 \nQ 52.203125 43.703125 52.203125 31.203125 \nz\n\" id=\"DejaVuSans-97\"/>\n      <path d=\"M 18.3125 70.21875 \nL 18.3125 54.6875 \nL 36.8125 54.6875 \nL 36.8125 47.703125 \nL 18.3125 47.703125 \nL 18.3125 18.015625 \nQ 18.3125 11.328125 20.140625 9.421875 \nQ 21.96875 7.515625 27.59375 7.515625 \nL 36.8125 7.515625 \nL 36.8125 0 \nL 27.59375 0 \nQ 17.1875 0 13.234375 3.875 \nQ 9.28125 7.765625 9.28125 18.015625 \nL 9.28125 47.703125 \nL 2.6875 47.703125 \nL 2.6875 54.6875 \nL 9.28125 54.6875 \nL 9.28125 70.21875 \nz\n\" id=\"DejaVuSans-116\"/>\n      <path d=\"M 54.890625 33.015625 \nL 54.890625 0 \nL 45.90625 0 \nL 45.90625 32.71875 \nQ 45.90625 40.484375 42.875 44.328125 \nQ 39.84375 48.1875 33.796875 48.1875 \nQ 26.515625 48.1875 22.3125 43.546875 \nQ 18.109375 38.921875 18.109375 30.90625 \nL 18.109375 0 \nL 9.078125 0 \nL 9.078125 54.6875 \nL 18.109375 54.6875 \nL 18.109375 46.1875 \nQ 21.34375 51.125 25.703125 53.5625 \nQ 30.078125 56 35.796875 56 \nQ 45.21875 56 50.046875 50.171875 \nQ 54.890625 44.34375 54.890625 33.015625 \nz\n\" id=\"DejaVuSans-110\"/>\n     </defs>\n     <g transform=\"translate(163.15625 373.034219)scale(0.2 -0.2)\">\n      <use xlink:href=\"#DejaVuSans-78\"/>\n      <use x=\"74.804688\" xlink:href=\"#DejaVuSans-117\"/>\n      <use x=\"138.183594\" xlink:href=\"#DejaVuSans-109\"/>\n      <use x=\"235.595703\" xlink:href=\"#DejaVuSans-98\"/>\n      <use x=\"299.072266\" xlink:href=\"#DejaVuSans-101\"/>\n      <use x=\"360.595703\" xlink:href=\"#DejaVuSans-114\"/>\n      <use x=\"401.708984\" xlink:href=\"#DejaVuSans-32\"/>\n      <use x=\"433.496094\" xlink:href=\"#DejaVuSans-111\"/>\n      <use x=\"494.677734\" xlink:href=\"#DejaVuSans-102\"/>\n      <use x=\"529.882812\" xlink:href=\"#DejaVuSans-32\"/>\n      <use x=\"561.669922\" xlink:href=\"#DejaVuSans-115\"/>\n      <use x=\"613.769531\" xlink:href=\"#DejaVuSans-105\"/>\n      <use x=\"641.552734\" xlink:href=\"#DejaVuSans-109\"/>\n      <use x=\"738.964844\" xlink:href=\"#DejaVuSans-117\"/>\n      <use x=\"802.34375\" xlink:href=\"#DejaVuSans-108\"/>\n      <use x=\"830.126953\" xlink:href=\"#DejaVuSans-97\"/>\n      <use x=\"891.40625\" xlink:href=\"#DejaVuSans-116\"/>\n      <use x=\"930.615234\" xlink:href=\"#DejaVuSans-105\"/>\n      <use x=\"958.398438\" xlink:href=\"#DejaVuSans-111\"/>\n      <use x=\"1019.580078\" xlink:href=\"#DejaVuSans-110\"/>\n      <use x=\"1082.958984\" xlink:href=\"#DejaVuSans-115\"/>\n     </g>\n    </g>\n   </g>\n   <g id=\"matplotlib.axis_2\">\n    <g id=\"ytick_1\">\n     <g id=\"line2d_7\">\n      <defs>\n       <path d=\"M 0 0 \nL -3.5 0 \n\" id=\"m0a22dcf437\" style=\"stroke:#000000;stroke-width:0.8;\"/>\n      </defs>\n      <g>\n       <use style=\"stroke:#000000;stroke-width:0.8;\" x=\"53.459375\" xlink:href=\"#m0a22dcf437\" y=\"337.159219\"/>\n      </g>\n     </g>\n     <g id=\"text_8\">\n      <!-- 0.0 -->\n      <defs>\n       <path d=\"M 10.6875 12.40625 \nL 21 12.40625 \nL 21 0 \nL 10.6875 0 \nz\n\" id=\"DejaVuSans-46\"/>\n      </defs>\n      <g transform=\"translate(30.55625 340.958438)scale(0.1 -0.1)\">\n       <use xlink:href=\"#DejaVuSans-48\"/>\n       <use x=\"63.623047\" xlink:href=\"#DejaVuSans-46\"/>\n       <use x=\"95.410156\" xlink:href=\"#DejaVuSans-48\"/>\n      </g>\n     </g>\n    </g>\n    <g id=\"ytick_2\">\n     <g id=\"line2d_8\">\n      <g>\n       <use style=\"stroke:#000000;stroke-width:0.8;\" x=\"53.459375\" xlink:href=\"#m0a22dcf437\" y=\"271.927219\"/>\n      </g>\n     </g>\n     <g id=\"text_9\">\n      <!-- 0.2 -->\n      <g transform=\"translate(30.55625 275.726437)scale(0.1 -0.1)\">\n       <use xlink:href=\"#DejaVuSans-48\"/>\n       <use x=\"63.623047\" xlink:href=\"#DejaVuSans-46\"/>\n       <use x=\"95.410156\" xlink:href=\"#DejaVuSans-50\"/>\n      </g>\n     </g>\n    </g>\n    <g id=\"ytick_3\">\n     <g id=\"line2d_9\">\n      <g>\n       <use style=\"stroke:#000000;stroke-width:0.8;\" x=\"53.459375\" xlink:href=\"#m0a22dcf437\" y=\"206.695219\"/>\n      </g>\n     </g>\n     <g id=\"text_10\">\n      <!-- 0.4 -->\n      <g transform=\"translate(30.55625 210.494438)scale(0.1 -0.1)\">\n       <use xlink:href=\"#DejaVuSans-48\"/>\n       <use x=\"63.623047\" xlink:href=\"#DejaVuSans-46\"/>\n       <use x=\"95.410156\" xlink:href=\"#DejaVuSans-52\"/>\n      </g>\n     </g>\n    </g>\n    <g id=\"ytick_4\">\n     <g id=\"line2d_10\">\n      <g>\n       <use style=\"stroke:#000000;stroke-width:0.8;\" x=\"53.459375\" xlink:href=\"#m0a22dcf437\" y=\"141.463219\"/>\n      </g>\n     </g>\n     <g id=\"text_11\">\n      <!-- 0.6 -->\n      <g transform=\"translate(30.55625 145.262437)scale(0.1 -0.1)\">\n       <use xlink:href=\"#DejaVuSans-48\"/>\n       <use x=\"63.623047\" xlink:href=\"#DejaVuSans-46\"/>\n       <use x=\"95.410156\" xlink:href=\"#DejaVuSans-54\"/>\n      </g>\n     </g>\n    </g>\n    <g id=\"ytick_5\">\n     <g id=\"line2d_11\">\n      <g>\n       <use style=\"stroke:#000000;stroke-width:0.8;\" x=\"53.459375\" xlink:href=\"#m0a22dcf437\" y=\"76.231219\"/>\n      </g>\n     </g>\n     <g id=\"text_12\">\n      <!-- 0.8 -->\n      <g transform=\"translate(30.55625 80.030438)scale(0.1 -0.1)\">\n       <use xlink:href=\"#DejaVuSans-48\"/>\n       <use x=\"63.623047\" xlink:href=\"#DejaVuSans-46\"/>\n       <use x=\"95.410156\" xlink:href=\"#DejaVuSans-56\"/>\n      </g>\n     </g>\n    </g>\n    <g id=\"ytick_6\">\n     <g id=\"line2d_12\">\n      <g>\n       <use style=\"stroke:#000000;stroke-width:0.8;\" x=\"53.459375\" xlink:href=\"#m0a22dcf437\" y=\"10.999219\"/>\n      </g>\n     </g>\n     <g id=\"text_13\">\n      <!-- 1.0 -->\n      <g transform=\"translate(30.55625 14.798438)scale(0.1 -0.1)\">\n       <use xlink:href=\"#DejaVuSans-49\"/>\n       <use x=\"63.623047\" xlink:href=\"#DejaVuSans-46\"/>\n       <use x=\"95.410156\" xlink:href=\"#DejaVuSans-48\"/>\n      </g>\n     </g>\n    </g>\n    <g id=\"text_14\">\n     <!-- Heads frequency -->\n     <defs>\n      <path d=\"M 9.8125 72.90625 \nL 19.671875 72.90625 \nL 19.671875 43.015625 \nL 55.515625 43.015625 \nL 55.515625 72.90625 \nL 65.375 72.90625 \nL 65.375 0 \nL 55.515625 0 \nL 55.515625 34.71875 \nL 19.671875 34.71875 \nL 19.671875 0 \nL 9.8125 0 \nz\n\" id=\"DejaVuSans-72\"/>\n      <path d=\"M 45.40625 46.390625 \nL 45.40625 75.984375 \nL 54.390625 75.984375 \nL 54.390625 0 \nL 45.40625 0 \nL 45.40625 8.203125 \nQ 42.578125 3.328125 38.25 0.953125 \nQ 33.9375 -1.421875 27.875 -1.421875 \nQ 17.96875 -1.421875 11.734375 6.484375 \nQ 5.515625 14.40625 5.515625 27.296875 \nQ 5.515625 40.1875 11.734375 48.09375 \nQ 17.96875 56 27.875 56 \nQ 33.9375 56 38.25 53.625 \nQ 42.578125 51.265625 45.40625 46.390625 \nz\nM 14.796875 27.296875 \nQ 14.796875 17.390625 18.875 11.75 \nQ 22.953125 6.109375 30.078125 6.109375 \nQ 37.203125 6.109375 41.296875 11.75 \nQ 45.40625 17.390625 45.40625 27.296875 \nQ 45.40625 37.203125 41.296875 42.84375 \nQ 37.203125 48.484375 30.078125 48.484375 \nQ 22.953125 48.484375 18.875 42.84375 \nQ 14.796875 37.203125 14.796875 27.296875 \nz\n\" id=\"DejaVuSans-100\"/>\n      <path d=\"M 14.796875 27.296875 \nQ 14.796875 17.390625 18.875 11.75 \nQ 22.953125 6.109375 30.078125 6.109375 \nQ 37.203125 6.109375 41.296875 11.75 \nQ 45.40625 17.390625 45.40625 27.296875 \nQ 45.40625 37.203125 41.296875 42.84375 \nQ 37.203125 48.484375 30.078125 48.484375 \nQ 22.953125 48.484375 18.875 42.84375 \nQ 14.796875 37.203125 14.796875 27.296875 \nz\nM 45.40625 8.203125 \nQ 42.578125 3.328125 38.25 0.953125 \nQ 33.9375 -1.421875 27.875 -1.421875 \nQ 17.96875 -1.421875 11.734375 6.484375 \nQ 5.515625 14.40625 5.515625 27.296875 \nQ 5.515625 40.1875 11.734375 48.09375 \nQ 17.96875 56 27.875 56 \nQ 33.9375 56 38.25 53.625 \nQ 42.578125 51.265625 45.40625 46.390625 \nL 45.40625 54.6875 \nL 54.390625 54.6875 \nL 54.390625 -20.796875 \nL 45.40625 -20.796875 \nz\n\" id=\"DejaVuSans-113\"/>\n      <path d=\"M 48.78125 52.59375 \nL 48.78125 44.1875 \nQ 44.96875 46.296875 41.140625 47.34375 \nQ 37.3125 48.390625 33.40625 48.390625 \nQ 24.65625 48.390625 19.8125 42.84375 \nQ 14.984375 37.3125 14.984375 27.296875 \nQ 14.984375 17.28125 19.8125 11.734375 \nQ 24.65625 6.203125 33.40625 6.203125 \nQ 37.3125 6.203125 41.140625 7.25 \nQ 44.96875 8.296875 48.78125 10.40625 \nL 48.78125 2.09375 \nQ 45.015625 0.34375 40.984375 -0.53125 \nQ 36.96875 -1.421875 32.421875 -1.421875 \nQ 20.0625 -1.421875 12.78125 6.34375 \nQ 5.515625 14.109375 5.515625 27.296875 \nQ 5.515625 40.671875 12.859375 48.328125 \nQ 20.21875 56 33.015625 56 \nQ 37.15625 56 41.109375 55.140625 \nQ 45.0625 54.296875 48.78125 52.59375 \nz\n\" id=\"DejaVuSans-99\"/>\n      <path d=\"M 32.171875 -5.078125 \nQ 28.375 -14.84375 24.75 -17.8125 \nQ 21.140625 -20.796875 15.09375 -20.796875 \nL 7.90625 -20.796875 \nL 7.90625 -13.28125 \nL 13.1875 -13.28125 \nQ 16.890625 -13.28125 18.9375 -11.515625 \nQ 21 -9.765625 23.484375 -3.21875 \nL 25.09375 0.875 \nL 2.984375 54.6875 \nL 12.5 54.6875 \nL 29.59375 11.921875 \nL 46.6875 54.6875 \nL 56.203125 54.6875 \nz\n\" id=\"DejaVuSans-121\"/>\n     </defs>\n     <g transform=\"translate(22.396875 258.769844)rotate(-90)scale(0.2 -0.2)\">\n      <use xlink:href=\"#DejaVuSans-72\"/>\n      <use x=\"75.195312\" xlink:href=\"#DejaVuSans-101\"/>\n      <use x=\"136.71875\" xlink:href=\"#DejaVuSans-97\"/>\n      <use x=\"197.998047\" xlink:href=\"#DejaVuSans-100\"/>\n      <use x=\"261.474609\" xlink:href=\"#DejaVuSans-115\"/>\n      <use x=\"313.574219\" xlink:href=\"#DejaVuSans-32\"/>\n      <use x=\"345.361328\" xlink:href=\"#DejaVuSans-102\"/>\n      <use x=\"380.566406\" xlink:href=\"#DejaVuSans-114\"/>\n      <use x=\"419.429688\" xlink:href=\"#DejaVuSans-101\"/>\n      <use x=\"480.953125\" xlink:href=\"#DejaVuSans-113\"/>\n      <use x=\"544.429688\" xlink:href=\"#DejaVuSans-117\"/>\n      <use x=\"607.808594\" xlink:href=\"#DejaVuSans-101\"/>\n      <use x=\"669.332031\" xlink:href=\"#DejaVuSans-110\"/>\n      <use x=\"732.710938\" xlink:href=\"#DejaVuSans-99\"/>\n      <use x=\"787.691406\" xlink:href=\"#DejaVuSans-121\"/>\n     </g>\n    </g>\n   </g>\n   <g id=\"line2d_13\">\n    <path clip-path=\"url(#p154afbf62b)\" d=\"M 53.905775 337.159219 \nL 54.352175 174.079219 \nL 54.798575 228.439219 \nL 55.244975 92.539219 \nL 55.691375 206.695219 \nL 56.137775 228.439219 \nL 56.584175 150.782076 \nL 57.030575 296.389219 \nL 57.476975 119.719219 \nL 57.923375 108.847219 \nL 58.369775 159.253764 \nL 58.816175 146.899219 \nL 59.262575 186.623834 \nL 59.708975 104.18779 \nL 60.155375 76.231219 \nL 60.601775 133.309219 \nL 61.494575 192.199219 \nL 61.940975 62.498166 \nL 62.387375 141.463219 \nL 62.833775 104.18779 \nL 63.280175 55.475582 \nL 63.726575 124.446175 \nL 64.172975 106.129219 \nL 64.619375 76.231219 \nL 65.065775 123.900757 \nL 65.512175 95.559219 \nL 65.958575 104.18779 \nL 66.404975 157.208874 \nL 66.851375 54.487219 \nL 67.297775 105.690832 \nL 67.744175 123.116719 \nL 68.190575 119.719219 \nL 68.636975 78.149807 \nL 69.083375 85.550076 \nL 69.976175 81.5203 \nL 70.422575 62.498166 \nL 70.868975 77.903834 \nL 71.315375 117.001219 \nL 71.761775 106.460682 \nL 72.208175 111.953504 \nL 72.654575 132.361079 \nL 73.547375 126.967219 \nL 73.993775 131.53661 \nL 74.440175 87.334538 \nL 74.886575 133.309219 \nL 75.332975 97.531464 \nL 75.779375 121.893619 \nL 76.225775 119.719219 \nL 77.118575 152.540351 \nL 77.564975 137.839219 \nL 78.011375 94.021764 \nL 78.457775 127.484933 \nL 78.904175 131.163429 \nL 79.350575 112.221288 \nL 79.796975 104.977524 \nL 80.243375 125.155219 \nL 80.689775 101.896268 \nL 81.136175 110.951477 \nL 81.582575 78.302076 \nL 82.028975 92.539219 \nL 82.475375 91.284757 \nL 82.921775 99.951946 \nL 83.368175 152.17295 \nL 83.814575 73.353336 \nL 84.260975 124.446175 \nL 84.707375 80.890647 \nL 85.153775 93.687669 \nL 85.600175 92.539219 \nL 86.046575 122.697849 \nL 86.492975 116.78084 \nL 86.939375 89.277619 \nL 87.385775 122.580271 \nL 87.832175 99.951946 \nL 88.278575 136.445373 \nL 88.724975 114.214409 \nL 89.171375 108.847219 \nL 89.617775 75.425885 \nL 90.064175 90.550438 \nL 90.510575 89.59199 \nL 90.956975 115.836362 \nL 91.849775 98.228056 \nL 92.296175 97.225426 \nL 92.742575 122.190128 \nL 93.188975 120.940792 \nL 93.635375 90.727219 \nL 94.528175 103.174871 \nL 94.974575 126.733412 \nL 95.420975 115.092836 \nL 95.867375 86.531008 \nL 96.313775 116.321719 \nL 96.760175 91.6986 \nL 97.206575 124.15677 \nL 97.652975 136.191946 \nL 98.099375 102.324019 \nL 98.545775 104.64912 \nL 98.992175 116.521572 \nL 99.438575 99.664073 \nL 99.884975 101.94768 \nL 100.331375 119.719219 \nL 100.777775 121.77054 \nL 101.224175 108.542396 \nL 101.670575 116.699219 \nL 102.116975 88.798852 \nL 102.563375 99.951946 \nL 103.456175 115.836362 \nL 103.902575 135.113201 \nL 104.795375 110.265306 \nL 105.241775 103.786115 \nL 105.688175 130.869988 \nL 106.134575 102.213456 \nL 106.580975 90.483588 \nL 107.027375 111.565219 \nL 107.473775 94.560872 \nL 107.920175 101.896268 \nL 108.366575 106.460682 \nL 108.812975 105.690832 \nL 109.259375 120.588979 \nL 109.705775 117.130647 \nL 110.152175 121.431345 \nL 110.598575 84.894844 \nL 111.044975 122.247591 \nL 111.491375 121.391834 \nL 111.937775 110.590058 \nL 112.384175 124.661037 \nL 112.830575 101.735459 \nL 113.276975 118.096532 \nL 113.723375 90.727219 \nL 114.169775 106.928631 \nL 114.616175 99.086226 \nL 115.062575 119.719219 \nL 115.508975 116.590586 \nL 115.955375 115.836362 \nL 116.401775 101.213687 \nL 116.848175 132.734993 \nL 117.294575 99.951946 \nL 117.740975 117.454219 \nL 118.187375 114.470667 \nL 118.633775 107.060041 \nL 119.080175 106.406566 \nL 119.526575 107.965705 \nL 119.972975 120.448883 \nL 120.419375 108.847219 \nL 120.865775 112.519219 \nL 121.312175 107.559745 \nL 121.758575 100.533336 \nL 122.204975 104.18779 \nL 122.651375 95.169541 \nL 123.097775 105.083834 \nL 123.544175 106.562021 \nL 123.990575 132.793143 \nL 124.436975 88.949407 \nL 124.883375 114.962719 \nL 125.329775 90.006921 \nL 125.776175 109.652552 \nL 126.222575 107.046335 \nL 126.668975 130.326048 \nL 127.115375 105.882128 \nL 127.561775 109.240183 \nL 128.008175 98.886644 \nL 128.454575 102.246362 \nL 128.900975 109.426201 \nL 129.347375 110.765807 \nL 129.793775 136.885535 \nL 130.240175 119.087126 \nL 130.686575 107.150433 \nL 131.132975 106.597839 \nL 131.579375 132.144362 \nL 132.025775 96.245582 \nL 132.472175 110.505659 \nL 132.918575 102.617196 \nL 133.364975 114.860224 \nL 133.811375 99.787219 \nL 134.257775 120.920545 \nL 134.704175 107.771966 \nL 135.150575 109.025448 \nL 135.596975 117.35574 \nL 136.043375 100.913597 \nL 136.489775 112.705025 \nL 136.936175 103.440288 \nL 137.382575 102.94858 \nL 138.275375 108.847219 \nL 138.721775 137.364873 \nL 139.168175 114.622969 \nL 139.614575 127.605644 \nL 140.060975 101.786023 \nL 140.507375 96.302603 \nL 141.400175 105.370386 \nL 141.846575 111.482855 \nL 142.292975 120.811882 \nL 142.739375 107.216419 \nL 143.185775 118.096532 \nL 143.632175 111.107734 \nL 144.078575 92.940894 \nL 144.524975 116.521572 \nL 144.971375 109.642731 \nL 145.417775 96.497471 \nL 146.310575 123.900757 \nL 147.203375 104.18779 \nL 147.649775 113.02083 \nL 148.096175 118.693558 \nL 148.988975 103.97006 \nL 149.435375 108.088707 \nL 149.881775 110.659219 \nL 150.328175 125.230371 \nL 150.774575 117.225641 \nL 151.220975 112.272643 \nL 151.667375 114.777401 \nL 152.113775 139.397047 \nL 152.560175 115.311651 \nL 153.006575 123.619488 \nL 153.452975 115.836362 \nL 153.899375 112.471219 \nL 154.345775 96.147183 \nL 154.792175 115.887677 \nL 155.238575 112.566587 \nL 155.684975 117.820179 \nL 156.131375 115.937654 \nL 156.577775 116.895323 \nL 157.024175 96.756805 \nL 157.470575 108.987202 \nL 157.916975 125.294603 \nL 158.363375 112.317006 \nL 158.809775 114.651761 \nL 159.256175 111.462004 \nL 159.702575 95.965269 \nL 160.148975 101.068507 \nL 160.595375 112.924219 \nL 161.041775 115.208015 \nL 161.488175 106.690789 \nL 161.934575 102.27033 \nL 162.380975 115.263481 \nL 162.827375 118.831709 \nL 163.273775 110.438243 \nL 163.720175 104.753713 \nL 164.166575 109.636316 \nL 164.612975 107.930303 \nL 165.059375 116.675059 \nL 165.505775 111.056271 \nL 165.952175 121.013504 \nL 166.398575 99.951946 \nL 166.844975 125.283628 \nL 167.291375 104.370513 \nL 167.737775 116.746406 \nL 168.184175 107.451203 \nL 168.630575 109.60573 \nL 169.076975 118.040145 \nL 169.523375 100.065988 \nL 169.969775 99.724736 \nL 170.862575 113.931842 \nL 171.308975 104.893764 \nL 171.755375 107.00103 \nL 172.201775 115.223279 \nL 172.648175 117.276073 \nL 173.540975 103.148512 \nL 173.987375 106.431219 \nL 174.433775 100.061359 \nL 174.880175 100.933042 \nL 175.326575 107.771966 \nL 175.772975 118.132065 \nL 176.219375 114.184382 \nL 177.112175 113.439363 \nL 177.558575 106.031449 \nL 178.004975 117.381154 \nL 178.451375 119.330933 \nL 178.897775 113.141852 \nL 179.344175 101.213687 \nL 179.790575 110.114978 \nL 180.236975 102.875275 \nL 180.683375 89.964271 \nL 181.129775 111.356142 \nL 181.576175 107.597128 \nL 182.022575 109.526719 \nL 182.468975 96.771399 \nL 183.808175 118.229904 \nL 184.254575 116.750755 \nL 184.700975 108.625341 \nL 185.147375 120.456303 \nL 185.593775 106.863813 \nL 186.040175 109.835582 \nL 186.486575 95.27546 \nL 186.932975 106.992797 \nL 187.379375 112.108819 \nL 187.825775 112.856494 \nL 188.272175 103.879219 \nL 188.718575 104.64912 \nL 189.164975 110.778429 \nL 189.611375 111.520661 \nL 190.057775 109.060395 \nL 190.504175 123.614724 \nL 190.950575 120.072206 \nL 191.396975 101.775141 \nL 191.843375 117.264251 \nL 192.289775 108.532595 \nL 192.736175 111.356142 \nL 193.182575 113.119602 \nL 193.628975 106.562021 \nL 194.075375 103.152362 \nL 194.521775 109.053649 \nL 194.968175 119.033288 \nL 195.414575 110.488275 \nL 195.860975 110.176397 \nL 196.307375 108.847219 \nL 196.753775 102.445948 \nL 197.200175 105.200709 \nL 197.646575 111.977547 \nL 198.092975 104.619219 \nL 198.539375 115.370419 \nL 198.985775 101.043391 \nL 199.432175 116.726925 \nL 199.878575 105.466292 \nL 200.324975 108.153261 \nL 200.771375 99.951946 \nL 201.217775 99.683207 \nL 201.664175 105.310544 \nL 202.110575 106.986246 \nL 203.003375 106.413189 \nL 203.449775 110.98279 \nL 203.896175 106.814768 \nL 204.342575 106.53129 \nL 204.788975 95.666121 \nL 205.235375 105.969336 \nL 205.681775 108.560274 \nL 206.128175 99.69185 \nL 206.574575 106.089598 \nL 207.020975 98.228056 \nL 207.467375 110.265306 \nL 207.913775 108.093092 \nL 208.360175 88.074493 \nL 209.252975 111.931253 \nL 209.699375 118.166076 \nL 210.592175 91.612628 \nL 211.484975 114.191083 \nL 211.931375 100.118993 \nL 212.377775 113.611354 \nL 213.270575 92.994749 \nL 213.716975 110.936823 \nL 214.163375 96.163219 \nL 214.609775 111.286643 \nL 215.056175 114.613583 \nL 215.502575 93.662359 \nL 215.948975 101.499658 \nL 216.395375 118.229904 \nL 216.841775 101.00512 \nL 217.288175 110.535786 \nL 217.734575 112.924219 \nL 218.180975 105.57678 \nL 218.627375 113.254786 \nL 219.073775 106.825203 \nL 219.520175 108.321154 \nL 219.966575 115.055626 \nL 220.412975 106.928631 \nL 220.859375 111.021619 \nL 221.752175 102.704683 \nL 222.198575 122.30779 \nL 222.644975 94.475525 \nL 223.091375 106.272271 \nL 223.537775 103.454022 \nL 223.984175 98.942884 \nL 224.430575 99.564858 \nL 224.876975 113.773594 \nL 225.323375 112.659478 \nL 225.769775 99.721499 \nL 226.216175 107.920149 \nL 226.662575 113.554683 \nL 227.108975 108.260298 \nL 227.555375 99.647834 \nL 228.001775 116.938656 \nL 228.448175 104.18779 \nL 228.894575 128.848379 \nL 229.340975 100.403483 \nL 229.787375 100.177143 \nL 230.233775 107.364673 \nL 230.680175 103.835692 \nL 231.126575 108.51942 \nL 231.572975 116.449444 \nL 232.019375 106.401019 \nL 232.465775 104.536376 \nL 232.912175 105.11504 \nL 233.358575 119.449442 \nL 233.804975 119.181001 \nL 234.697775 105.79449 \nL 235.144175 120.78772 \nL 235.590575 111.725101 \nL 236.036975 109.086456 \nL 236.483375 112.82478 \nL 236.929775 112.577029 \nL 237.376175 97.289122 \nL 237.822575 119.19273 \nL 238.268975 117.35574 \nL 238.715375 110.812038 \nL 239.608175 120.501377 \nL 240.054575 110.095678 \nL 240.500975 116.08657 \nL 240.947375 98.75179 \nL 241.393775 95.444444 \nL 241.840175 113.02083 \nL 242.286575 108.924325 \nL 242.732975 124.078275 \nL 243.179375 104.626325 \nL 243.625775 106.703444 \nL 244.072175 108.006994 \nL 244.518575 110.828565 \nL 244.964975 117.43838 \nL 245.411375 97.469544 \nL 245.857775 100.295924 \nL 246.304175 118.209219 \nL 246.750575 114.195339 \nL 247.196975 112.454518 \nL 247.643375 113.720874 \nL 248.089775 113.485274 \nL 248.536175 110.265306 \nL 248.982575 113.017301 \nL 249.428975 109.813068 \nL 250.321775 113.802484 \nL 250.768175 98.811526 \nL 251.214575 110.39335 \nL 251.660975 113.107867 \nL 252.107375 118.009017 \nL 252.553775 114.843882 \nL 253.446575 96.907433 \nL 253.892975 117.0557 \nL 254.339375 102.324019 \nL 254.785775 101.398332 \nL 255.232175 98.311962 \nL 255.678575 103.879219 \nL 256.124975 103.674637 \nL 256.571375 111.356142 \nL 257.464175 110.916943 \nL 257.910575 112.835201 \nL 258.356975 106.218042 \nL 259.249775 117.125032 \nL 259.696175 109.129608 \nL 260.142575 115.962156 \nL 260.588975 110.112495 \nL 261.035375 116.212122 \nL 261.481775 103.387888 \nL 261.928175 102.491638 \nL 262.374575 111.356142 \nL 262.820975 102.796916 \nL 263.267375 106.071389 \nL 263.713775 121.104187 \nL 264.160175 116.033795 \nL 264.606575 128.913299 \nL 265.052975 110.085801 \nL 265.499375 104.383977 \nL 265.945775 106.24342 \nL 266.392175 102.624879 \nL 266.838575 112.66834 \nL 267.284975 109.732413 \nL 267.731375 116.321719 \nL 268.177775 109.999967 \nL 268.624175 113.854654 \nL 269.070575 112.966424 \nL 269.516975 123.537896 \nL 269.963375 108.510971 \nL 270.409775 106.296997 \nL 270.856175 109.449979 \nL 271.302575 109.916596 \nL 271.748975 100.376397 \nL 272.195375 100.859627 \nL 272.641775 116.619259 \nL 273.088175 108.449463 \nL 273.534575 104.282302 \nL 273.980975 112.676628 \nL 274.427375 98.634128 \nL 274.873775 110.951477 \nL 275.320175 115.344168 \nL 275.766575 108.585243 \nL 276.212975 109.043307 \nL 276.659375 102.976339 \nL 277.105775 116.464129 \nL 277.552175 124.700414 \nL 277.998575 107.615203 \nL 278.444975 101.599219 \nL 278.891375 100.12809 \nL 279.337775 110.265306 \nL 279.784175 111.356142 \nL 280.230575 108.5904 \nL 280.676975 101.99081 \nL 281.123375 105.649572 \nL 281.569775 101.634679 \nL 282.016175 112.287188 \nL 282.462575 108.275008 \nL 282.908975 109.354861 \nL 283.355375 107.263918 \nL 283.801775 115.294568 \nL 284.248175 105.62978 \nL 284.694575 112.373273 \nL 285.140975 114.691704 \nL 285.587375 105.083834 \nL 286.033775 99.895034 \nL 286.926575 110.780481 \nL 287.372975 109.967616 \nL 287.819375 94.868933 \nL 288.265775 105.870854 \nL 288.712175 108.785329 \nL 289.158575 113.541946 \nL 289.604975 128.145533 \nL 290.051375 115.001181 \nL 290.497775 111.119897 \nL 290.944175 113.997113 \nL 291.390575 103.40102 \nL 291.836975 106.281915 \nL 292.283375 110.980976 \nL 292.729775 97.407278 \nL 293.176175 100.890615 \nL 293.622575 100.117286 \nL 294.068975 118.710684 \nL 294.515375 110.659219 \nL 294.961775 110.475004 \nL 295.408175 113.300326 \nL 295.854575 108.907285 \nL 296.300975 96.136572 \nL 296.747375 104.358778 \nL 297.193775 114.940318 \nL 297.640175 96.86218 \nL 298.086575 103.847686 \nL 298.532975 98.925776 \nL 298.979375 106.475146 \nL 299.425775 101.566333 \nL 299.872175 112.037914 \nL 300.318575 103.008188 \nL 300.764975 114.0281 \nL 301.211375 104.439651 \nL 301.657775 107.791305 \nL 302.104175 93.563958 \nL 302.550575 106.859864 \nL 302.996975 113.690024 \nL 303.443375 115.253933 \nL 303.889775 113.905315 \nL 304.336175 113.141852 \nL 304.782575 108.325826 \nL 305.228975 106.996666 \nL 305.675375 103.940387 \nL 306.121775 104.352434 \nL 306.568175 111.665885 \nL 307.014575 102.30105 \nL 307.460975 121.629939 \nL 307.907375 104.269535 \nL 308.353775 100.10773 \nL 308.800175 106.794464 \nL 309.246575 106.058067 \nL 309.692975 113.847581 \nL 310.139375 100.622314 \nL 310.585775 112.357969 \nL 311.032175 102.572737 \nL 311.478575 116.521572 \nL 311.924975 117.465955 \nL 312.371375 106.597839 \nL 312.817775 106.994675 \nL 313.264175 108.510971 \nL 313.710575 115.616577 \nL 314.156975 117.112917 \nL 314.603375 104.66568 \nL 315.049775 113.967819 \nL 315.496175 115.459321 \nL 315.942575 118.055137 \nL 316.388975 106.798336 \nL 316.835375 106.635965 \nL 317.281775 99.299726 \nL 317.728175 103.007192 \nL 318.174575 96.801849 \nL 318.620975 101.050128 \nL 319.067375 125.018177 \nL 319.513775 109.503917 \nL 319.960175 107.153591 \nL 320.406575 116.264904 \nL 320.852975 120.989736 \nL 321.299375 105.585619 \nL 322.192175 107.438554 \nL 322.638575 108.901308 \nL 323.084975 107.119219 \nL 323.531375 109.116772 \nL 323.977775 112.184169 \nL 324.424175 111.480141 \nL 324.870575 108.096192 \nL 325.316975 117.576953 \nL 325.763375 115.263481 \nL 326.209775 104.416567 \nL 326.656175 120.785101 \nL 327.102575 111.028713 \nL 327.548975 109.803388 \nL 327.995375 114.946146 \nL 328.441775 104.717271 \nL 328.888175 109.851601 \nL 329.334575 99.664073 \nL 329.780975 106.370721 \nL 330.227375 99.904122 \nL 330.673775 113.41661 \nL 331.120175 116.39819 \nL 331.566575 106.805447 \nL 332.012975 103.515757 \nL 332.905775 112.077557 \nL 333.352175 108.275008 \nL 333.798575 110.197563 \nL 334.244975 109.00278 \nL 334.691375 107.294076 \nL 335.137775 107.141469 \nL 335.584175 109.053649 \nL 336.030575 105.807181 \nL 336.476975 101.02761 \nL 336.923375 115.781329 \nL 337.369775 108.436955 \nL 337.816175 108.796016 \nL 338.262575 106.086617 \nL 338.708975 109.000346 \nL 339.601775 116.327019 \nL 340.048175 101.429873 \nL 340.494575 108.897943 \nL 340.940975 112.291144 \nL 341.387375 94.435498 \nL 341.833775 108.443305 \nL 342.280175 106.780362 \nL 342.726575 104.115885 \nL 343.172975 110.505659 \nL 343.619375 109.850788 \nL 344.065775 107.193873 \nL 344.512175 108.046826 \nL 344.958575 111.894043 \nL 345.404975 112.238485 \nL 345.851375 103.120745 \nL 346.297775 113.421414 \nL 346.744175 101.847438 \nL 347.190575 105.179158 \nL 347.636975 96.622405 \nL 348.083375 104.893764 \nL 348.529775 110.179491 \nL 348.976175 110.522361 \nL 349.422575 103.485011 \nL 349.868975 116.11705 \nL 350.315375 113.016181 \nL 350.761775 118.739759 \nL 351.208175 113.199279 \nL 351.654575 109.62844 \nL 352.100975 108.993479 \nL 352.547375 94.729846 \nL 352.993775 112.590038 \nL 353.440175 106.614576 \nL 354.332975 111.17002 \nL 354.779375 105.223219 \nL 355.225775 103.636379 \nL 355.672175 104.944861 \nL 356.118575 111.060104 \nL 356.564975 114.755566 \nL 357.011375 116.521572 \nL 357.457775 106.308822 \nL 357.904175 116.212122 \nL 358.350575 114.147916 \nL 358.796975 101.599219 \nL 359.243375 105.75227 \nL 359.689775 106.089598 \nL 360.136175 116.87066 \nL 360.582575 109.60573 \nL 361.028975 108.04247 \nL 361.475375 111.683393 \nL 361.921775 119.561882 \nL 362.368175 103.851126 \nL 362.814575 114.542076 \nL 363.260975 105.463426 \nL 363.707375 116.590586 \nL 364.153775 113.158529 \nL 364.600175 111.608114 \nL 365.046575 112.865809 \nL 365.939375 95.800819 \nL 366.832175 113.214603 \nL 367.278575 108.42966 \nL 367.724975 111.071037 \nL 368.171375 101.676325 \nL 369.064175 115.721029 \nL 369.510575 108.20227 \nL 369.956975 110.82534 \nL 370.403375 101.037754 \nL 370.849775 110.085801 \nL 371.296175 110.862814 \nL 371.742575 107.978069 \nL 372.188975 107.385437 \nL 372.635375 108.619135 \nL 373.081775 98.005587 \nL 373.528175 102.433194 \nL 373.974575 104.122896 \nL 374.420975 125.767619 \nL 374.867375 106.582219 \nL 375.313775 115.497083 \nL 375.760175 109.027917 \nL 376.206575 104.381127 \nL 376.652975 111.009605 \nL 377.099375 112.221288 \nL 377.545775 112.081863 \nL 377.992175 103.867334 \nL 378.438575 129.277021 \nL 378.884975 104.507367 \nL 379.777775 122.545046 \nL 380.224175 112.590038 \nL 380.670575 106.22192 \nL 381.116975 104.31475 \nL 381.563375 98.862729 \nL 382.009775 114.253675 \nL 382.456175 111.015718 \nL 382.902575 100.273365 \nL 383.348975 113.393157 \nL 383.795375 109.728732 \nL 384.241775 108.71517 \nL 384.688175 105.066928 \nL 385.134575 104.062368 \nL 385.580975 102.183735 \nL 386.027375 107.314923 \nL 386.473775 111.12072 \nL 386.920175 104.437291 \nL 387.366575 113.033229 \nL 387.812975 106.800554 \nL 388.259375 106.672819 \nL 388.705775 112.191336 \nL 389.152175 110.755602 \nL 389.598575 116.254039 \nL 390.044975 109.193277 \nL 390.491375 112.087219 \nL 390.937775 107.20779 \nL 391.384175 104.064688 \nL 391.830575 113.408295 \nL 392.276975 107.257242 \nL 392.723375 118.71785 \nL 393.169775 107.861453 \nL 393.616175 111.58662 \nL 394.508975 98.089062 \nL 394.955375 112.471219 \nL 395.848175 104.552283 \nL 396.294575 108.677344 \nL 396.740975 108.126189 \nL 397.187375 107.152881 \nL 397.633775 107.451203 \nL 398.080175 114.508545 \nL 398.526575 114.374639 \nL 398.972975 107.077358 \nL 399.419375 111.582754 \nL 399.865775 93.379837 \nL 400.312175 116.361072 \nL 400.758575 112.871815 \nL 401.204975 101.855085 \nL 401.651375 114.283219 \nL 402.544175 104.426124 \nL 402.990575 106.389564 \nL 403.436975 119.164525 \nL 403.883375 109.470454 \nL 404.329775 112.249906 \nL 404.776175 102.174822 \nL 405.222575 104.956478 \nL 405.668975 106.077546 \nL 406.115375 110.085801 \nL 406.561775 112.434566 \nL 407.008175 116.836491 \nL 407.454575 107.654452 \nL 407.900975 108.765063 \nL 408.347375 113.154992 \nL 408.793775 115.894897 \nL 409.686575 100.918016 \nL 410.132975 108.153261 \nL 410.579375 108.031819 \nL 411.025775 103.838769 \nL 411.472175 108.603209 \nL 411.918575 106.450775 \nL 412.364975 101.869667 \nL 412.811375 112.291144 \nL 413.257775 112.974802 \nL 413.704175 107.190148 \nL 414.150575 109.49308 \nL 414.596975 107.35551 \nL 415.043375 107.236552 \nL 415.489775 117.976481 \nL 415.936175 111.819613 \nL 416.382575 115.30623 \nL 417.275375 99.442605 \nL 417.721775 120.518631 \nL 418.168175 108.008864 \nL 419.060975 112.152625 \nL 419.507375 110.438243 \nL 419.953775 106.344408 \nL 420.400175 116.148124 \nL 420.846575 108.490543 \nL 421.292975 116.684559 \nL 421.739375 106.672819 \nL 422.185775 112.87486 \nL 422.632175 109.990948 \nL 423.078575 116.174001 \nL 423.524975 106.211185 \nL 423.971375 103.738689 \nL 424.417775 115.794309 \nL 424.864175 114.100276 \nL 425.756975 104.076053 \nL 426.203375 118.807794 \nL 426.649775 107.754817 \nL 427.096175 107.249541 \nL 427.542575 110.248383 \nL 427.988975 114.017574 \nL 428.435375 97.975219 \nL 429.328175 114.425252 \nL 429.774575 105.790678 \nL 430.220975 115.725949 \nL 430.667375 110.970154 \nL 431.113775 111.623049 \nL 431.560175 107.653481 \nL 432.006575 101.000917 \nL 432.452975 113.188335 \nL 432.899375 115.754136 \nL 433.345775 105.282838 \nL 433.792175 112.828515 \nL 434.238575 106.208879 \nL 434.684975 106.479312 \nL 435.131375 105.223219 \nL 435.577775 108.923424 \nL 436.024175 101.578075 \nL 436.470575 113.636981 \nL 436.916975 95.671722 \nL 437.363375 103.916893 \nL 437.809775 109.112389 \nL 438.256175 108.998569 \nL 438.702575 114.176136 \nL 439.148975 106.506719 \nL 439.595375 109.412814 \nL 440.041775 105.909519 \nL 440.488175 109.938181 \nL 440.934575 104.18779 \nL 441.380975 107.833833 \nL 441.827375 117.094943 \nL 442.273775 106.862548 \nL 443.612975 113.250752 \nL 444.059375 116.115927 \nL 444.505775 111.900315 \nL 444.952175 109.553837 \nL 445.398575 108.698626 \nL 445.844975 113.78229 \nL 446.291375 111.441673 \nL 446.737775 99.850978 \nL 447.184175 100.859627 \nL 448.076975 110.249264 \nL 448.523375 107.55732 \nL 448.969775 112.233982 \nL 449.416175 113.590696 \nL 449.862575 104.292732 \nL 450.308975 103.820906 \nL 450.755375 108.114275 \nL 451.201775 106.907098 \nL 451.648175 107.896528 \nL 452.094575 111.075187 \nL 452.540975 111.328078 \nL 452.987375 113.038101 \nL 453.433775 107.463951 \nL 453.880175 105.174737 \nL 454.326575 106.522693 \nL 454.772975 104.239619 \nL 455.219375 109.209619 \nL 455.665775 99.688675 \nL 456.112175 103.929507 \nL 456.558575 112.495298 \nL 457.004975 109.135856 \nL 457.451375 107.225429 \nL 457.897775 110.359219 \nL 458.344175 104.855624 \nL 459.236975 112.901793 \nL 459.683375 107.771966 \nL 460.129775 110.887956 \nL 460.576175 116.500535 \nL 461.022575 113.884301 \nL 461.468975 109.489547 \nL 461.915375 110.807743 \nL 462.361775 105.713804 \nL 462.808175 113.079829 \nL 463.254575 105.862748 \nL 463.700975 113.212581 \nL 464.147375 109.910784 \nL 464.593775 109.449251 \nL 465.486575 113.476359 \nL 465.932975 111.24753 \nL 466.379375 112.549576 \nL 466.825775 103.28207 \nL 467.718575 117.844736 \nL 468.164975 108.952545 \nL 468.611375 107.79509 \nL 469.057775 118.901775 \nL 469.950575 110.630087 \nL 470.396975 113.666285 \nL 470.843375 111.114641 \nL 471.289775 113.446911 \nL 471.736175 103.939155 \nL 472.182575 113.92391 \nL 472.628975 108.604075 \nL 473.075375 107.806283 \nL 473.521775 102.850866 \nL 473.968175 112.101894 \nL 474.414575 100.234935 \nL 474.860975 111.542185 \nL 475.307375 104.18779 \nL 475.753775 113.743067 \nL 476.200175 111.223675 \nL 476.646575 104.580991 \nL 477.092975 108.262949 \nL 477.539375 105.413956 \nL 477.985775 101.199093 \nL 478.432175 113.780731 \nL 478.878575 109.223689 \nL 479.324975 106.385634 \nL 479.771375 114.823973 \nL 480.217775 117.10357 \nL 480.664175 111.880473 \nL 481.110575 114.839302 \nL 481.556975 106.56852 \nL 482.003375 114.962719 \nL 482.449775 114.51514 \nL 483.342575 103.123331 \nL 483.788975 105.057808 \nL 484.235375 117.803944 \nL 484.681775 105.538349 \nL 485.128175 112.523686 \nL 485.574575 106.016905 \nL 486.020975 111.640952 \nL 486.467375 112.209693 \nL 486.913775 113.113163 \nL 487.360175 111.665885 \nL 487.806575 105.863844 \nL 488.252975 116.482176 \nL 488.699375 116.039465 \nL 489.145775 108.245694 \nL 489.592175 107.144644 \nL 490.038575 107.046335 \nL 490.484975 109.613478 \nL 490.931375 111.176933 \nL 491.377775 111.074815 \nL 491.824175 109.644351 \nL 492.270575 111.534804 \nL 492.716975 106.129219 \nL 493.163375 109.675036 \nL 493.609775 111.559706 \nL 494.056175 117.075571 \nL 494.502575 107.064563 \nL 494.948975 124.446175 \nL 495.395375 105.552673 \nL 495.841775 114.014436 \nL 496.288175 98.786235 \nL 496.734575 106.252391 \nL 497.180975 111.078494 \nL 497.627375 108.027721 \nL 498.073775 107.930303 \nL 498.520175 113.067343 \nL 498.966575 100.546153 \nL 499.412975 106.006786 \nL 499.412975 106.006786 \n\" style=\"fill:none;stroke:#0000ff;stroke-linecap:square;stroke-width:2;\"/>\n   </g>\n   <g id=\"line2d_14\">\n    <path clip-path=\"url(#p154afbf62b)\" d=\"M 53.459375 108.847219 \nL 499.859375 108.847219 \n\" style=\"fill:none;stroke:#ff0000;stroke-dasharray:5.55,2.4;stroke-dashoffset:0;stroke-width:1.5;\"/>\n   </g>\n   <g id=\"patch_3\">\n    <path d=\"M 53.459375 337.159219 \nL 53.459375 10.999219 \n\" style=\"fill:none;stroke:#000000;stroke-linecap:square;stroke-linejoin:miter;stroke-width:0.8;\"/>\n   </g>\n   <g id=\"patch_4\">\n    <path d=\"M 499.859375 337.159219 \nL 499.859375 10.999219 \n\" style=\"fill:none;stroke:#000000;stroke-linecap:square;stroke-linejoin:miter;stroke-width:0.8;\"/>\n   </g>\n   <g id=\"patch_5\">\n    <path d=\"M 53.459375 337.159219 \nL 499.859375 337.159219 \n\" style=\"fill:none;stroke:#000000;stroke-linecap:square;stroke-linejoin:miter;stroke-width:0.8;\"/>\n   </g>\n   <g id=\"patch_6\">\n    <path d=\"M 53.459375 10.999219 \nL 499.859375 10.999219 \n\" style=\"fill:none;stroke:#000000;stroke-linecap:square;stroke-linejoin:miter;stroke-width:0.8;\"/>\n   </g>\n   <g id=\"legend_1\">\n    <g id=\"patch_7\">\n     <path d=\"M 374.50625 48.355469 \nL 492.859375 48.355469 \nQ 494.859375 48.355469 494.859375 46.355469 \nL 494.859375 17.999219 \nQ 494.859375 15.999219 492.859375 15.999219 \nL 374.50625 15.999219 \nQ 372.50625 15.999219 372.50625 17.999219 \nL 372.50625 46.355469 \nQ 372.50625 48.355469 374.50625 48.355469 \nz\n\" style=\"fill:#ffffff;opacity:0.8;stroke:#cccccc;stroke-linejoin:miter;\"/>\n    </g>\n    <g id=\"line2d_15\">\n     <path d=\"M 376.50625 24.097656 \nL 396.50625 24.097656 \n\" style=\"fill:none;stroke:#0000ff;stroke-linecap:square;stroke-width:2;\"/>\n    </g>\n    <g id=\"line2d_16\"/>\n    <g id=\"text_15\">\n     <!-- Simulated value -->\n     <defs>\n      <path d=\"M 53.515625 70.515625 \nL 53.515625 60.890625 \nQ 47.90625 63.578125 42.921875 64.890625 \nQ 37.9375 66.21875 33.296875 66.21875 \nQ 25.25 66.21875 20.875 63.09375 \nQ 16.5 59.96875 16.5 54.203125 \nQ 16.5 49.359375 19.40625 46.890625 \nQ 22.3125 44.4375 30.421875 42.921875 \nL 36.375 41.703125 \nQ 47.40625 39.59375 52.65625 34.296875 \nQ 57.90625 29 57.90625 20.125 \nQ 57.90625 9.515625 50.796875 4.046875 \nQ 43.703125 -1.421875 29.984375 -1.421875 \nQ 24.8125 -1.421875 18.96875 -0.25 \nQ 13.140625 0.921875 6.890625 3.21875 \nL 6.890625 13.375 \nQ 12.890625 10.015625 18.65625 8.296875 \nQ 24.421875 6.59375 29.984375 6.59375 \nQ 38.421875 6.59375 43.015625 9.90625 \nQ 47.609375 13.234375 47.609375 19.390625 \nQ 47.609375 24.75 44.3125 27.78125 \nQ 41.015625 30.8125 33.5 32.328125 \nL 27.484375 33.5 \nQ 16.453125 35.6875 11.515625 40.375 \nQ 6.59375 45.0625 6.59375 53.421875 \nQ 6.59375 63.09375 13.40625 68.65625 \nQ 20.21875 74.21875 32.171875 74.21875 \nQ 37.3125 74.21875 42.625 73.28125 \nQ 47.953125 72.359375 53.515625 70.515625 \nz\n\" id=\"DejaVuSans-83\"/>\n      <path d=\"M 2.984375 54.6875 \nL 12.5 54.6875 \nL 29.59375 8.796875 \nL 46.6875 54.6875 \nL 56.203125 54.6875 \nL 35.6875 0 \nL 23.484375 0 \nz\n\" id=\"DejaVuSans-118\"/>\n     </defs>\n     <g transform=\"translate(404.50625 27.597656)scale(0.1 -0.1)\">\n      <use xlink:href=\"#DejaVuSans-83\"/>\n      <use x=\"63.476562\" xlink:href=\"#DejaVuSans-105\"/>\n      <use x=\"91.259766\" xlink:href=\"#DejaVuSans-109\"/>\n      <use x=\"188.671875\" xlink:href=\"#DejaVuSans-117\"/>\n      <use x=\"252.050781\" xlink:href=\"#DejaVuSans-108\"/>\n      <use x=\"279.833984\" xlink:href=\"#DejaVuSans-97\"/>\n      <use x=\"341.113281\" xlink:href=\"#DejaVuSans-116\"/>\n      <use x=\"380.322266\" xlink:href=\"#DejaVuSans-101\"/>\n      <use x=\"441.845703\" xlink:href=\"#DejaVuSans-100\"/>\n      <use x=\"505.322266\" xlink:href=\"#DejaVuSans-32\"/>\n      <use x=\"537.109375\" xlink:href=\"#DejaVuSans-118\"/>\n      <use x=\"596.289062\" xlink:href=\"#DejaVuSans-97\"/>\n      <use x=\"657.568359\" xlink:href=\"#DejaVuSans-108\"/>\n      <use x=\"685.351562\" xlink:href=\"#DejaVuSans-117\"/>\n      <use x=\"748.730469\" xlink:href=\"#DejaVuSans-101\"/>\n     </g>\n    </g>\n    <g id=\"line2d_17\">\n     <path d=\"M 376.50625 38.775781 \nL 396.50625 38.775781 \n\" style=\"fill:none;stroke:#ff0000;stroke-dasharray:5.55,2.4;stroke-dashoffset:0;stroke-width:1.5;\"/>\n    </g>\n    <g id=\"line2d_18\"/>\n    <g id=\"text_16\">\n     <!-- Theoretical value -->\n     <defs>\n      <path d=\"M -0.296875 72.90625 \nL 61.375 72.90625 \nL 61.375 64.59375 \nL 35.5 64.59375 \nL 35.5 0 \nL 25.59375 0 \nL 25.59375 64.59375 \nL -0.296875 64.59375 \nz\n\" id=\"DejaVuSans-84\"/>\n      <path d=\"M 54.890625 33.015625 \nL 54.890625 0 \nL 45.90625 0 \nL 45.90625 32.71875 \nQ 45.90625 40.484375 42.875 44.328125 \nQ 39.84375 48.1875 33.796875 48.1875 \nQ 26.515625 48.1875 22.3125 43.546875 \nQ 18.109375 38.921875 18.109375 30.90625 \nL 18.109375 0 \nL 9.078125 0 \nL 9.078125 75.984375 \nL 18.109375 75.984375 \nL 18.109375 46.1875 \nQ 21.34375 51.125 25.703125 53.5625 \nQ 30.078125 56 35.796875 56 \nQ 45.21875 56 50.046875 50.171875 \nQ 54.890625 44.34375 54.890625 33.015625 \nz\n\" id=\"DejaVuSans-104\"/>\n     </defs>\n     <g transform=\"translate(404.50625 42.275781)scale(0.1 -0.1)\">\n      <use xlink:href=\"#DejaVuSans-84\"/>\n      <use x=\"61.083984\" xlink:href=\"#DejaVuSans-104\"/>\n      <use x=\"124.462891\" xlink:href=\"#DejaVuSans-101\"/>\n      <use x=\"185.986328\" xlink:href=\"#DejaVuSans-111\"/>\n      <use x=\"247.167969\" xlink:href=\"#DejaVuSans-114\"/>\n      <use x=\"286.03125\" xlink:href=\"#DejaVuSans-101\"/>\n      <use x=\"347.554688\" xlink:href=\"#DejaVuSans-116\"/>\n      <use x=\"386.763672\" xlink:href=\"#DejaVuSans-105\"/>\n      <use x=\"414.546875\" xlink:href=\"#DejaVuSans-99\"/>\n      <use x=\"469.527344\" xlink:href=\"#DejaVuSans-97\"/>\n      <use x=\"530.806641\" xlink:href=\"#DejaVuSans-108\"/>\n      <use x=\"558.589844\" xlink:href=\"#DejaVuSans-32\"/>\n      <use x=\"590.376953\" xlink:href=\"#DejaVuSans-118\"/>\n      <use x=\"649.556641\" xlink:href=\"#DejaVuSans-97\"/>\n      <use x=\"710.835938\" xlink:href=\"#DejaVuSans-108\"/>\n      <use x=\"738.619141\" xlink:href=\"#DejaVuSans-117\"/>\n      <use x=\"801.998047\" xlink:href=\"#DejaVuSans-101\"/>\n     </g>\n    </g>\n   </g>\n  </g>\n </g>\n <defs>\n  <clipPath id=\"p154afbf62b\">\n   <rect height=\"326.16\" width=\"446.4\" x=\"53.459375\" y=\"10.999219\"/>\n  </clipPath>\n </defs>\n</svg>\n",
      "image/png": "[encoded data removed]"
     },
     "metadata": {
      "needs_background": "light"
     }
    }
   ],
   "source": [
    "import matplotlib.pyplot as plt\n",
    "\n",
    "p = 0.7 # Probability for heads\n",
    "vp = [] # Occurence frequency\n",
    "vsim = [] # Simulation number\n",
    "Nmax = 1000 # Max number of simulations\n",
    "\n",
    "for nsim in np.arange(1, Nmax):\n",
    "    nhead = 0 # Number for heads\n",
    "    for i in range(1,nsim):\n",
    "        if(np.random.uniform() < p):\n",
    "            nhead = nhead + 1        \n",
    "    vp.append(nhead/nsim)\n",
    "    vsim.append(nsim)\n",
    "\n",
    "# Show simulation results graphically\n",
    "plt.figure(figsize=(8, 6))\n",
    "plt.plot(vsim, vp, linestyle='-', color=\"blue\", linewidth=2,label = 'Simulated value')\n",
    "plt.axhline(y=p, color='r', linestyle='--', label = 'Theoretical value')\n",
    "plt.ylabel(\"Heads frequency\", fontsize=20)\n",
    "plt.xlabel(\"Number of simulations\", fontsize=20)\n",
    "plt.xlim([0.0, Nmax])\n",
    "plt.ylim([0.0, 1.0])\n",
    "plt.legend()\n",
    "plt.show(True)"
   ]
  },
  {
   "source": [
    "We can see that the higher the number of simulations, the closer to the theoretical value we get."
   ],
   "cell_type": "markdown",
   "metadata": {}
  },
  {
   "source": [
    "### Urn problem simulation <a name=\"urn\"></a>"
   ],
   "cell_type": "markdown",
   "metadata": {}
  },
  {
   "source": [
    "If we have an urn with 15 white balls and 3 black balls the chance of getting black ball will be:\n",
    "\n",
    "$$P(A) = \\frac{|A|}{|\\Omega|} = \\frac{n(A)}{n(\\Omega)} = \\frac{3}{18} \\cong 0.1667$$\n",
    "\n",
    "Let's simulate this experiment."
   ],
   "cell_type": "markdown",
   "metadata": {}
  },
  {
   "cell_type": "code",
   "execution_count": 68,
   "metadata": {},
   "outputs": [
    {
     "output_type": "stream",
     "name": "stdout",
     "text": [
      "Frequency for black: 0.16799\n"
     ]
    }
   ],
   "source": [
    "import random\n",
    "\n",
    "# 0: White ball, 1: Black ball\n",
    "urn = [0, 0, 0, 0, 0, 0, 0, 0, 0, 0, 0, 0, 0, 0, 0, 1, 1, 1] \n",
    "\n",
    "N = 100000\n",
    "\n",
    "# Frequency for black\n",
    "fBlack = 0\n",
    "\n",
    "for i in range(0, N):\n",
    "    chosenBall = random.choice(urn)\n",
    "    if(chosenBall == 1):\n",
    "        fBlack = fBlack + 1\n",
    "fBlack = fBlack/N\n",
    "\n",
    "print('Frequency for black:', fa)"
   ]
  },
  {
   "source": [
    "We use the library [random](https://docs.python.org/3/library/random.html) for choosing randomly a ball from the urn. As the coin tossing example, the higher the number of simulations, the closer to the real thing we get."
   ],
   "cell_type": "markdown",
   "metadata": {}
  },
  {
   "source": [
    "## Conditional probability and independence <a name=\"condprob\"></a>"
   ],
   "cell_type": "markdown",
   "metadata": {}
  },
  {
   "source": [
    "### Conditional probability <a name=\"cond\"></a>"
   ],
   "cell_type": "markdown",
   "metadata": {}
  },
  {
   "source": [
    "Let it be two events $A$ and $B$ in the same sample space $\\Omega$. The conditional probability of $A$ given $B$ occurring is $P(A|B)$ and its definition:\n",
    "\n",
    "$$P(A|B)=\\frac{|A \\cap B|}{|B|}=\\frac{\\frac{|A \\cap B|}{|S|}}{\\frac{|B|}{|S|}}=\\frac{P(A \\cap B)}{P(B)}\\text{, when}\\; P(B) > 0$$\n",
    "\n",
    "The conditional probability is a way of updating the probabilities of events."
   ],
   "cell_type": "markdown",
   "metadata": {}
  },
  {
   "source": [
    "### Independence <a name=\"indep\"></a>"
   ],
   "cell_type": "markdown",
   "metadata": {}
  },
  {
   "source": [
    "$A$ and $B$ are independent events if and only if,\n",
    "\n",
    "$$P(A \\cap B) = P(A)P(B)$$\n",
    "\n",
    "So, $B$ occuring doesn't affect probability for A:\n",
    "\n",
    "$$P(A|B) = \\frac{P(A\\cap B)}{P(B)} = P(A)$$"
   ],
   "cell_type": "markdown",
   "metadata": {}
  },
  {
   "source": [
    "### Conditional probability simulation <a name=\"condsim\"></a>"
   ],
   "cell_type": "markdown",
   "metadata": {}
  },
  {
   "source": [
    "Let's use Pandas library to work with this concept (using this [code](https://stackoverflow.com/questions/37818063/how-to-calculate-conditional-probability-of-values-in-dataframe-pandas-python)). We will make a dataset for cars:"
   ],
   "cell_type": "markdown",
   "metadata": {}
  },
  {
   "cell_type": "code",
   "execution_count": 1,
   "metadata": {},
   "outputs": [
    {
     "output_type": "execute_result",
     "data": {
      "text/plain": [
       "  company    model rating   type\n",
       "0    ford  mustang      A  coupe\n",
       "1   chevy   camaro      B  coupe\n",
       "2    ford   fiesta      C  sedan\n",
       "3    ford    focus      A  sedan\n",
       "4    ford   taurus      B  sedan\n",
       "5  toyota    camry      B  sedan"
      ],
      "text/html": "<div>\n<style scoped>\n    .dataframe tbody tr th:only-of-type {\n        vertical-align: middle;\n    }\n\n    .dataframe tbody tr th {\n        vertical-align: top;\n    }\n\n    .dataframe thead th {\n        text-align: right;\n    }\n</style>\n<table border=\"1\" class=\"dataframe\">\n  <thead>\n    <tr style=\"text-align: right;\">\n      <th></th>\n      <th>company</th>\n      <th>model</th>\n      <th>rating</th>\n      <th>type</th>\n    </tr>\n  </thead>\n  <tbody>\n    <tr>\n      <th>0</th>\n      <td>ford</td>\n      <td>mustang</td>\n      <td>A</td>\n      <td>coupe</td>\n    </tr>\n    <tr>\n      <th>1</th>\n      <td>chevy</td>\n      <td>camaro</td>\n      <td>B</td>\n      <td>coupe</td>\n    </tr>\n    <tr>\n      <th>2</th>\n      <td>ford</td>\n      <td>fiesta</td>\n      <td>C</td>\n      <td>sedan</td>\n    </tr>\n    <tr>\n      <th>3</th>\n      <td>ford</td>\n      <td>focus</td>\n      <td>A</td>\n      <td>sedan</td>\n    </tr>\n    <tr>\n      <th>4</th>\n      <td>ford</td>\n      <td>taurus</td>\n      <td>B</td>\n      <td>sedan</td>\n    </tr>\n    <tr>\n      <th>5</th>\n      <td>toyota</td>\n      <td>camry</td>\n      <td>B</td>\n      <td>sedan</td>\n    </tr>\n  </tbody>\n</table>\n</div>"
     },
     "metadata": {},
     "execution_count": 1
    }
   ],
   "source": [
    "import pandas as pd\n",
    "\n",
    "df = pd.DataFrame({'company': ['ford', 'chevy', 'ford', 'ford', 'ford', 'toyota'],\n",
    "                     'model': ['mustang', 'camaro', 'fiesta', 'focus', 'taurus', 'camry'],\n",
    "                     'rating': ['A', 'B', 'C', 'A', 'B', 'B'],\n",
    "                     'type': ['coupe', 'coupe', 'sedan', 'sedan', 'sedan', 'sedan']})\n",
    "\n",
    "df"
   ]
  },
  {
   "source": [
    "The probability of finding a car with a random rating:"
   ],
   "cell_type": "markdown",
   "metadata": {}
  },
  {
   "cell_type": "code",
   "execution_count": 18,
   "metadata": {},
   "outputs": [
    {
     "output_type": "execute_result",
     "data": {
      "text/plain": [
       "rating\n",
       "A    0.333333\n",
       "B    0.500000\n",
       "C    0.166667\n",
       "Name: model, dtype: float64"
      ]
     },
     "metadata": {},
     "execution_count": 18
    }
   ],
   "source": [
    "df.groupby('rating').count()['model'] / len(df)"
   ]
  },
  {
   "source": [
    "But we can group the dataframe wanting to find a car type given a specific rating, so\n",
    "\n",
    "$$P(\\text{type}|\\text{rating})$$\n",
    "\n",
    "Making this probability table:"
   ],
   "cell_type": "markdown",
   "metadata": {}
  },
  {
   "cell_type": "code",
   "execution_count": 17,
   "metadata": {},
   "outputs": [
    {
     "output_type": "execute_result",
     "data": {
      "text/plain": [
       "type   rating\n",
       "coupe  A         0.500000\n",
       "       B         0.333333\n",
       "sedan  A         0.500000\n",
       "       B         0.666667\n",
       "       C         1.000000\n",
       "Name: model, dtype: float64"
      ]
     },
     "metadata": {},
     "execution_count": 17
    }
   ],
   "source": [
    "(df.groupby(['type', 'rating']).count() / df.groupby('rating').count())['model']"
   ]
  },
  {
   "source": [
    "For example, we have:\n",
    "\n",
    "$$P(\\text{type = sedan}|\\text{rating = B}) = \\frac{P(\\text{type = sedan} \\cap \\text{rating = B})}{P(\\text{rating = B})} = \\frac{\\frac{2}{6}}{\\frac{3}{6}} = \\frac{2}{3} \\cong 0.6667$$"
   ],
   "cell_type": "markdown",
   "metadata": {}
  },
  {
   "source": [
    "### Law of Total Probability <a name=\"lawtotal\"></a>"
   ],
   "cell_type": "markdown",
   "metadata": {}
  },
  {
   "source": [
    "If $B_1$, $B_2$, $B_3$, $\\cdots$ is a partition of the sample space S, then for any event A we have \n",
    "\n",
    "$$P(A)=\\sum_{i} P(A \\cap B_i)=\\sum_{i} P(A | B_i) P(B_i)$$\n",
    "\n",
    "So, with this image:\n",
    "\n",
    "![partitions](lawtotal.png)\n",
    "\n",
    "We have\n",
    "\n",
    "$$P(A) = P(A | B_1) P(B_1) + P(A | B_2) P(B_2) + P(A | B_3) P(B_3) + P(A | B_4) P(B_4) + P(A | B_5) P(B_5) + P(A | B_6) P(B_6)$$"
   ],
   "cell_type": "markdown",
   "metadata": {}
  },
  {
   "source": [
    "### Bayes Rule <a name=\"bayes\"></a>"
   ],
   "cell_type": "markdown",
   "metadata": {}
  },
  {
   "source": [
    "Bayes' Rule describes the probability of an event, based on prior knowledge of conditions that might be related to the event, in other words, Bayes theorem is what allows us to go from a sampling (or likelihood) distribution and a prior distribution to a posterior distribution.\n",
    "\n",
    "For any two event $A$ and $B$, where $P(A) \\neq 0$, we have\n",
    "\n",
    "$$P(B|A)=\\frac{P(A|B)P(B)}{P(A)}$$\n",
    "\n",
    "if $B_1$, $B_2$, $B_3$, $\\cdots$ form a partition of the sample space S, then for any event A with $P(A) \\neq 0$ we have \n",
    "\n",
    "$$\\underbrace{P(B_i|A)}_{\\text{Posterior}}=\\frac{\\overbrace{P(A|B_i)}^{\\text{Likelihood}}\\overbrace{P(B_i)}^{\\text{Prior}}}{\\underbrace{\\displaystyle\\sum_{j = 1}^{n} P(A | B_j) P(B_j)}_{\\text{Evidence}}}$$\n",
    "\n",
    "We can see $P(A)$ can be changed to the idea of Law of Total Probability."
   ],
   "cell_type": "markdown",
   "metadata": {}
  },
  {
   "source": [
    "### Bayes Rule Simulation <a name=\"bayessim\"></a>"
   ],
   "cell_type": "markdown",
   "metadata": {}
  },
  {
   "source": [
    "Let's solve problems with this Python function using the theorem:"
   ],
   "cell_type": "markdown",
   "metadata": {}
  },
  {
   "cell_type": "code",
   "execution_count": 2,
   "metadata": {},
   "outputs": [],
   "source": [
    "# calculate P(A|B)\n",
    "def bayes(p_a, p_b_given_a, p_b_given_not_a):\n",
    "\t# calculate P(not A)\n",
    "\tnot_a = 1 - p_a\n",
    "\t# calculate P(B), the evidence\n",
    "\tp_b = p_b_given_a * p_a + p_b_given_not_a * not_a\n",
    "\t# calculate P(A|B)\n",
    "\tp_a_given_b = (p_b_given_a * p_a) / p_b\n",
    "\n",
    "\treturn p_a_given_b"
   ]
  },
  {
   "source": [
    "*The problem:* A suspect has been arrested and the police are 60% sure that he is the wanted criminal. New evidence says that the wanted criminal has tattoos. If 20% of the population has tattoos, what will the police level of trust be with this new information?"
   ],
   "cell_type": "markdown",
   "metadata": {}
  },
  {
   "cell_type": "code",
   "execution_count": 5,
   "metadata": {},
   "outputs": [
    {
     "output_type": "stream",
     "name": "stdout",
     "text": [
      "P(A|B) = 0.882353\n"
     ]
    }
   ],
   "source": [
    "# prior P(A), base rate\n",
    "p_a = 0.6\n",
    "# likelihood P(B|A), also called sensitivity\n",
    "p_b_given_a = 1\n",
    "# P(B|not A)\n",
    "p_b_given_not_a = 0.2\n",
    "# calculate P(A|B)\n",
    "\n",
    "print(\"P(A|B) = {:2f}\".format(bayes(p_a, p_b_given_a, p_b_given_not_a)))"
   ]
  },
  {
   "source": [
    "Let's see a 'trickier' problem,\n",
    "\n",
    "*[The problem](https://www.probabilitycourse.com/chapter1/1_4_3_bayes_rule.php):* A certain disease affects about 1 out of 10,000 people. There is a test to check whether the person has the disease. The test is quite accurate. In particular, we know that\n",
    "\n",
    "- the probability that the test result is positive (suggesting the person has the disease), given that the person does not have the disease, is only 2 percent;\n",
    "\n",
    "- the probability that the test result is negative (suggesting the person does not have the disease), given that the person has the disease, is only 1 percent.\n",
    "\n",
    "A random person gets tested for the disease and the result comes back positive. What is the probability that the person has the disease?"
   ],
   "cell_type": "markdown",
   "metadata": {}
  },
  {
   "cell_type": "code",
   "execution_count": 41,
   "metadata": {},
   "outputs": [
    {
     "output_type": "stream",
     "name": "stdout",
     "text": [
      "P(A|B) = 0.004926\n"
     ]
    }
   ],
   "source": [
    "# prior P(A), base rate\n",
    "p_a = 1/10000\n",
    "# likelihood P(B|A), also called sensitivity\n",
    "p_b_given_a = 1 - 0.01\n",
    "# P(B|not A)\n",
    "p_b_given_not_a = 0.02\n",
    "# calculate P(A|B)\n",
    "\n",
    "print(\"P(A|B) = {:2f}\".format(bayes(p_a, p_b_given_a, p_b_given_not_a)))"
   ]
  },
  {
   "source": [
    "So if the result comes positive, it means that there is a very low chance that the person has the disease."
   ],
   "cell_type": "markdown",
   "metadata": {}
  },
  {
   "source": [
    "### Base rate fallacy <a name=\"fallacy\"></a>"
   ],
   "cell_type": "markdown",
   "metadata": {}
  },
  {
   "source": [
    "Also called [base rate bias](https://en.wikipedia.org/wiki/Base_rate_fallacy), the best way to demonstrate this fallacy is when we have the false positive paradox. This paradox describes situations where there are more false positive test results than true positives. For example, 50 of 1,000 people test positive for an infection, but only 10 have the infection, meaning 40 tests were false positives. \n",
    "\n",
    "With the previous exercise we had the same situation. This is one of the motives to inspect classifier models with cautious. The famous ROC curve has the exact [same problem](http://keeganhin.es/blog/base_rate.html) to deal. Bayes' rule is a great way to understand it.\n",
    "\n",
    "Also, other names using the idea of binary classifier terminology:\n",
    "\n",
    "- $P(A)$: Base rate;\n",
    "- $P(B|A)$: True Positive Rate (TPR), Sensitivity;\n",
    "- $P(\\bar{B}|\\bar{A})$: True Negative Rate (TNR), Specificity;\n",
    "- $P(B|\\bar{A})$: False Positive Rate (FPR);\n",
    "- $P(\\bar{B}|A)$: False Negative Rate (FNR).\n",
    "\n",
    "Also we have that:\n",
    "\n",
    "- $P(B|A) + P(\\bar{B}|A) = 1$\n",
    "- $P(\\bar{B}|\\bar{A}) + P(B|\\bar{A}) = 1$\n",
    "\n",
    "A [Confusion matrix](https://en.wikipedia.org/wiki/Confusion_matrix) is a good way to visualize these relations."
   ],
   "cell_type": "markdown",
   "metadata": {}
  },
  {
   "source": [
    "## Random variables <a name=\"rand\"></a>"
   ],
   "cell_type": "markdown",
   "metadata": {}
  },
  {
   "source": [
    "A random variable is a function that maps the sample space in the real line, where each element from the sample space is mapped in a real value.\n",
    "\n",
    "If we flip two coins, we will have the following sample space, where Heads: H, Tails: T\n",
    "\n",
    "$$\\Omega = \\{HH, HT, TH, TT\\}$$\n",
    "\n",
    "A possible random variable associated to the experiment is defined by:\n",
    "\n",
    "$$X: \\text{'Number of heads'}$$"
   ],
   "cell_type": "markdown",
   "metadata": {}
  },
  {
   "source": [
    "### Discrete random variables <a name=\"disc\"></a>"
   ],
   "cell_type": "markdown",
   "metadata": {}
  },
  {
   "source": [
    "Let $X$ be a random variable. If the number of possible values of $X$ is finite or numerable infinite, we define $X$ as a discrete random variable.\n",
    "\n",
    "$$X\\; \\text{is a discrete random variable, if its range is countable.}$$\n",
    "\n",
    "The probability distribution for a fair dice:\n",
    "\n",
    "| $X$ | 1 | 2 | 3 | 4 | 5 | 6 |\n",
    "|---|---|---|---|---|---|----|\n",
    "| $P(X = x)$  | $\\frac{1}{6}$  | $\\frac{1}{6}$  | $\\frac{1}{6}$  |  $\\frac{1}{6}$ | $\\frac{1}{6}$  |  $\\frac{1}{6}$  |\n",
    "\n",
    "Being $X$ a discrete random variable.\n",
    "\n",
    "We can plot this distribution:"
   ],
   "cell_type": "markdown",
   "metadata": {}
  },
  {
   "cell_type": "code",
   "execution_count": 8,
   "metadata": {},
   "outputs": [
    {
     "output_type": "display_data",
     "data": {
      "text/plain": "<Figure size 576x288 with 1 Axes>",
      "image/svg+xml": "<?xml version=\"1.0\" encoding=\"utf-8\" standalone=\"no\"?>\n<!DOCTYPE svg PUBLIC \"-//W3C//DTD SVG 1.1//EN\"\n  \"http://www.w3.org/Graphics/SVG/1.1/DTD/svg11.dtd\">\n<!-- Created with matplotlib (https://matplotlib.org/) -->\n<svg height=\"277.314375pt\" version=\"1.1\" viewBox=\"0 0 490.065625 277.314375\" width=\"490.065625pt\" xmlns=\"http://www.w3.org/2000/svg\" xmlns:xlink=\"http://www.w3.org/1999/xlink\">\n <defs>\n  <style type=\"text/css\">\n*{stroke-linecap:butt;stroke-linejoin:round;}\n  </style>\n </defs>\n <g id=\"figure_1\">\n  <g id=\"patch_1\">\n   <path d=\"M 0 277.314375 \nL 490.065625 277.314375 \nL 490.065625 0 \nL 0 0 \nz\n\" style=\"fill:none;\"/>\n  </g>\n  <g id=\"axes_1\">\n   <g id=\"patch_2\">\n    <path d=\"M 36.465625 239.758125 \nL 482.865625 239.758125 \nL 482.865625 22.318125 \nL 36.465625 22.318125 \nz\n\" style=\"fill:#ffffff;\"/>\n   </g>\n   <g id=\"patch_3\">\n    <path clip-path=\"url(#p22303aef7c)\" d=\"M 55.065625 239.758125 \nL 92.265625 239.758125 \nL 92.265625 32.672411 \nL 55.065625 32.672411 \nz\n\" style=\"fill:#1f77b4;\"/>\n   </g>\n   <g id=\"patch_4\">\n    <path clip-path=\"url(#p22303aef7c)\" d=\"M 129.465625 239.758125 \nL 166.665625 239.758125 \nL 166.665625 32.672411 \nL 129.465625 32.672411 \nz\n\" style=\"fill:#1f77b4;\"/>\n   </g>\n   <g id=\"patch_5\">\n    <path clip-path=\"url(#p22303aef7c)\" d=\"M 203.865625 239.758125 \nL 241.065625 239.758125 \nL 241.065625 32.672411 \nL 203.865625 32.672411 \nz\n\" style=\"fill:#1f77b4;\"/>\n   </g>\n   <g id=\"patch_6\">\n    <path clip-path=\"url(#p22303aef7c)\" d=\"M 278.265625 239.758125 \nL 315.465625 239.758125 \nL 315.465625 32.672411 \nL 278.265625 32.672411 \nz\n\" style=\"fill:#1f77b4;\"/>\n   </g>\n   <g id=\"patch_7\">\n    <path clip-path=\"url(#p22303aef7c)\" d=\"M 352.665625 239.758125 \nL 389.865625 239.758125 \nL 389.865625 32.672411 \nL 352.665625 32.672411 \nz\n\" style=\"fill:#1f77b4;\"/>\n   </g>\n   <g id=\"patch_8\">\n    <path clip-path=\"url(#p22303aef7c)\" d=\"M 427.065625 239.758125 \nL 464.265625 239.758125 \nL 464.265625 32.672411 \nL 427.065625 32.672411 \nz\n\" style=\"fill:#1f77b4;\"/>\n   </g>\n   <g id=\"matplotlib.axis_1\">\n    <g id=\"xtick_1\">\n     <g id=\"line2d_1\">\n      <defs>\n       <path d=\"M 0 0 \nL 0 3.5 \n\" id=\"mef6d89ab59\" style=\"stroke:#000000;stroke-width:0.8;\"/>\n      </defs>\n      <g>\n       <use style=\"stroke:#000000;stroke-width:0.8;\" x=\"73.665625\" xlink:href=\"#mef6d89ab59\" y=\"239.758125\"/>\n      </g>\n     </g>\n     <g id=\"text_1\">\n      <!-- 1 -->\n      <defs>\n       <path d=\"M 12.40625 8.296875 \nL 28.515625 8.296875 \nL 28.515625 63.921875 \nL 10.984375 60.40625 \nL 10.984375 69.390625 \nL 28.421875 72.90625 \nL 38.28125 72.90625 \nL 38.28125 8.296875 \nL 54.390625 8.296875 \nL 54.390625 0 \nL 12.40625 0 \nz\n\" id=\"DejaVuSans-49\"/>\n      </defs>\n      <g transform=\"translate(70.484375 254.356562)scale(0.1 -0.1)\">\n       <use xlink:href=\"#DejaVuSans-49\"/>\n      </g>\n     </g>\n    </g>\n    <g id=\"xtick_2\">\n     <g id=\"line2d_2\">\n      <g>\n       <use style=\"stroke:#000000;stroke-width:0.8;\" x=\"148.065625\" xlink:href=\"#mef6d89ab59\" y=\"239.758125\"/>\n      </g>\n     </g>\n     <g id=\"text_2\">\n      <!-- 2 -->\n      <defs>\n       <path d=\"M 19.1875 8.296875 \nL 53.609375 8.296875 \nL 53.609375 0 \nL 7.328125 0 \nL 7.328125 8.296875 \nQ 12.9375 14.109375 22.625 23.890625 \nQ 32.328125 33.6875 34.8125 36.53125 \nQ 39.546875 41.84375 41.421875 45.53125 \nQ 43.3125 49.21875 43.3125 52.78125 \nQ 43.3125 58.59375 39.234375 62.25 \nQ 35.15625 65.921875 28.609375 65.921875 \nQ 23.96875 65.921875 18.8125 64.3125 \nQ 13.671875 62.703125 7.8125 59.421875 \nL 7.8125 69.390625 \nQ 13.765625 71.78125 18.9375 73 \nQ 24.125 74.21875 28.421875 74.21875 \nQ 39.75 74.21875 46.484375 68.546875 \nQ 53.21875 62.890625 53.21875 53.421875 \nQ 53.21875 48.921875 51.53125 44.890625 \nQ 49.859375 40.875 45.40625 35.40625 \nQ 44.1875 33.984375 37.640625 27.21875 \nQ 31.109375 20.453125 19.1875 8.296875 \nz\n\" id=\"DejaVuSans-50\"/>\n      </defs>\n      <g transform=\"translate(144.884375 254.356562)scale(0.1 -0.1)\">\n       <use xlink:href=\"#DejaVuSans-50\"/>\n      </g>\n     </g>\n    </g>\n    <g id=\"xtick_3\">\n     <g id=\"line2d_3\">\n      <g>\n       <use style=\"stroke:#000000;stroke-width:0.8;\" x=\"222.465625\" xlink:href=\"#mef6d89ab59\" y=\"239.758125\"/>\n      </g>\n     </g>\n     <g id=\"text_3\">\n      <!-- 3 -->\n      <defs>\n       <path d=\"M 40.578125 39.3125 \nQ 47.65625 37.796875 51.625 33 \nQ 55.609375 28.21875 55.609375 21.1875 \nQ 55.609375 10.40625 48.1875 4.484375 \nQ 40.765625 -1.421875 27.09375 -1.421875 \nQ 22.515625 -1.421875 17.65625 -0.515625 \nQ 12.796875 0.390625 7.625 2.203125 \nL 7.625 11.71875 \nQ 11.71875 9.328125 16.59375 8.109375 \nQ 21.484375 6.890625 26.8125 6.890625 \nQ 36.078125 6.890625 40.9375 10.546875 \nQ 45.796875 14.203125 45.796875 21.1875 \nQ 45.796875 27.640625 41.28125 31.265625 \nQ 36.765625 34.90625 28.71875 34.90625 \nL 20.21875 34.90625 \nL 20.21875 43.015625 \nL 29.109375 43.015625 \nQ 36.375 43.015625 40.234375 45.921875 \nQ 44.09375 48.828125 44.09375 54.296875 \nQ 44.09375 59.90625 40.109375 62.90625 \nQ 36.140625 65.921875 28.71875 65.921875 \nQ 24.65625 65.921875 20.015625 65.03125 \nQ 15.375 64.15625 9.8125 62.3125 \nL 9.8125 71.09375 \nQ 15.4375 72.65625 20.34375 73.4375 \nQ 25.25 74.21875 29.59375 74.21875 \nQ 40.828125 74.21875 47.359375 69.109375 \nQ 53.90625 64.015625 53.90625 55.328125 \nQ 53.90625 49.265625 50.4375 45.09375 \nQ 46.96875 40.921875 40.578125 39.3125 \nz\n\" id=\"DejaVuSans-51\"/>\n      </defs>\n      <g transform=\"translate(219.284375 254.356562)scale(0.1 -0.1)\">\n       <use xlink:href=\"#DejaVuSans-51\"/>\n      </g>\n     </g>\n    </g>\n    <g id=\"xtick_4\">\n     <g id=\"line2d_4\">\n      <g>\n       <use style=\"stroke:#000000;stroke-width:0.8;\" x=\"296.865625\" xlink:href=\"#mef6d89ab59\" y=\"239.758125\"/>\n      </g>\n     </g>\n     <g id=\"text_4\">\n      <!-- 4 -->\n      <defs>\n       <path d=\"M 37.796875 64.3125 \nL 12.890625 25.390625 \nL 37.796875 25.390625 \nz\nM 35.203125 72.90625 \nL 47.609375 72.90625 \nL 47.609375 25.390625 \nL 58.015625 25.390625 \nL 58.015625 17.1875 \nL 47.609375 17.1875 \nL 47.609375 0 \nL 37.796875 0 \nL 37.796875 17.1875 \nL 4.890625 17.1875 \nL 4.890625 26.703125 \nz\n\" id=\"DejaVuSans-52\"/>\n      </defs>\n      <g transform=\"translate(293.684375 254.356562)scale(0.1 -0.1)\">\n       <use xlink:href=\"#DejaVuSans-52\"/>\n      </g>\n     </g>\n    </g>\n    <g id=\"xtick_5\">\n     <g id=\"line2d_5\">\n      <g>\n       <use style=\"stroke:#000000;stroke-width:0.8;\" x=\"371.265625\" xlink:href=\"#mef6d89ab59\" y=\"239.758125\"/>\n      </g>\n     </g>\n     <g id=\"text_5\">\n      <!-- 5 -->\n      <defs>\n       <path d=\"M 10.796875 72.90625 \nL 49.515625 72.90625 \nL 49.515625 64.59375 \nL 19.828125 64.59375 \nL 19.828125 46.734375 \nQ 21.96875 47.46875 24.109375 47.828125 \nQ 26.265625 48.1875 28.421875 48.1875 \nQ 40.625 48.1875 47.75 41.5 \nQ 54.890625 34.8125 54.890625 23.390625 \nQ 54.890625 11.625 47.5625 5.09375 \nQ 40.234375 -1.421875 26.90625 -1.421875 \nQ 22.3125 -1.421875 17.546875 -0.640625 \nQ 12.796875 0.140625 7.71875 1.703125 \nL 7.71875 11.625 \nQ 12.109375 9.234375 16.796875 8.0625 \nQ 21.484375 6.890625 26.703125 6.890625 \nQ 35.15625 6.890625 40.078125 11.328125 \nQ 45.015625 15.765625 45.015625 23.390625 \nQ 45.015625 31 40.078125 35.4375 \nQ 35.15625 39.890625 26.703125 39.890625 \nQ 22.75 39.890625 18.8125 39.015625 \nQ 14.890625 38.140625 10.796875 36.28125 \nz\n\" id=\"DejaVuSans-53\"/>\n      </defs>\n      <g transform=\"translate(368.084375 254.356562)scale(0.1 -0.1)\">\n       <use xlink:href=\"#DejaVuSans-53\"/>\n      </g>\n     </g>\n    </g>\n    <g id=\"xtick_6\">\n     <g id=\"line2d_6\">\n      <g>\n       <use style=\"stroke:#000000;stroke-width:0.8;\" x=\"445.665625\" xlink:href=\"#mef6d89ab59\" y=\"239.758125\"/>\n      </g>\n     </g>\n     <g id=\"text_6\">\n      <!-- 6 -->\n      <defs>\n       <path d=\"M 33.015625 40.375 \nQ 26.375 40.375 22.484375 35.828125 \nQ 18.609375 31.296875 18.609375 23.390625 \nQ 18.609375 15.53125 22.484375 10.953125 \nQ 26.375 6.390625 33.015625 6.390625 \nQ 39.65625 6.390625 43.53125 10.953125 \nQ 47.40625 15.53125 47.40625 23.390625 \nQ 47.40625 31.296875 43.53125 35.828125 \nQ 39.65625 40.375 33.015625 40.375 \nz\nM 52.59375 71.296875 \nL 52.59375 62.3125 \nQ 48.875 64.0625 45.09375 64.984375 \nQ 41.3125 65.921875 37.59375 65.921875 \nQ 27.828125 65.921875 22.671875 59.328125 \nQ 17.53125 52.734375 16.796875 39.40625 \nQ 19.671875 43.65625 24.015625 45.921875 \nQ 28.375 48.1875 33.59375 48.1875 \nQ 44.578125 48.1875 50.953125 41.515625 \nQ 57.328125 34.859375 57.328125 23.390625 \nQ 57.328125 12.15625 50.6875 5.359375 \nQ 44.046875 -1.421875 33.015625 -1.421875 \nQ 20.359375 -1.421875 13.671875 8.265625 \nQ 6.984375 17.96875 6.984375 36.375 \nQ 6.984375 53.65625 15.1875 63.9375 \nQ 23.390625 74.21875 37.203125 74.21875 \nQ 40.921875 74.21875 44.703125 73.484375 \nQ 48.484375 72.75 52.59375 71.296875 \nz\n\" id=\"DejaVuSans-54\"/>\n      </defs>\n      <g transform=\"translate(442.484375 254.356562)scale(0.1 -0.1)\">\n       <use xlink:href=\"#DejaVuSans-54\"/>\n      </g>\n     </g>\n    </g>\n    <g id=\"text_7\">\n     <!-- Value -->\n     <defs>\n      <path d=\"M 28.609375 0 \nL 0.78125 72.90625 \nL 11.078125 72.90625 \nL 34.1875 11.53125 \nL 57.328125 72.90625 \nL 67.578125 72.90625 \nL 39.796875 0 \nz\n\" id=\"DejaVuSans-86\"/>\n      <path d=\"M 34.28125 27.484375 \nQ 23.390625 27.484375 19.1875 25 \nQ 14.984375 22.515625 14.984375 16.5 \nQ 14.984375 11.71875 18.140625 8.90625 \nQ 21.296875 6.109375 26.703125 6.109375 \nQ 34.1875 6.109375 38.703125 11.40625 \nQ 43.21875 16.703125 43.21875 25.484375 \nL 43.21875 27.484375 \nz\nM 52.203125 31.203125 \nL 52.203125 0 \nL 43.21875 0 \nL 43.21875 8.296875 \nQ 40.140625 3.328125 35.546875 0.953125 \nQ 30.953125 -1.421875 24.3125 -1.421875 \nQ 15.921875 -1.421875 10.953125 3.296875 \nQ 6 8.015625 6 15.921875 \nQ 6 25.140625 12.171875 29.828125 \nQ 18.359375 34.515625 30.609375 34.515625 \nL 43.21875 34.515625 \nL 43.21875 35.40625 \nQ 43.21875 41.609375 39.140625 45 \nQ 35.0625 48.390625 27.6875 48.390625 \nQ 23 48.390625 18.546875 47.265625 \nQ 14.109375 46.140625 10.015625 43.890625 \nL 10.015625 52.203125 \nQ 14.9375 54.109375 19.578125 55.046875 \nQ 24.21875 56 28.609375 56 \nQ 40.484375 56 46.34375 49.84375 \nQ 52.203125 43.703125 52.203125 31.203125 \nz\n\" id=\"DejaVuSans-97\"/>\n      <path d=\"M 9.421875 75.984375 \nL 18.40625 75.984375 \nL 18.40625 0 \nL 9.421875 0 \nz\n\" id=\"DejaVuSans-108\"/>\n      <path d=\"M 8.5 21.578125 \nL 8.5 54.6875 \nL 17.484375 54.6875 \nL 17.484375 21.921875 \nQ 17.484375 14.15625 20.5 10.265625 \nQ 23.53125 6.390625 29.59375 6.390625 \nQ 36.859375 6.390625 41.078125 11.03125 \nQ 45.3125 15.671875 45.3125 23.6875 \nL 45.3125 54.6875 \nL 54.296875 54.6875 \nL 54.296875 0 \nL 45.3125 0 \nL 45.3125 8.40625 \nQ 42.046875 3.421875 37.71875 1 \nQ 33.40625 -1.421875 27.6875 -1.421875 \nQ 18.265625 -1.421875 13.375 4.4375 \nQ 8.5 10.296875 8.5 21.578125 \nz\nM 31.109375 56 \nz\n\" id=\"DejaVuSans-117\"/>\n      <path d=\"M 56.203125 29.59375 \nL 56.203125 25.203125 \nL 14.890625 25.203125 \nQ 15.484375 15.921875 20.484375 11.0625 \nQ 25.484375 6.203125 34.421875 6.203125 \nQ 39.59375 6.203125 44.453125 7.46875 \nQ 49.3125 8.734375 54.109375 11.28125 \nL 54.109375 2.78125 \nQ 49.265625 0.734375 44.1875 -0.34375 \nQ 39.109375 -1.421875 33.890625 -1.421875 \nQ 20.796875 -1.421875 13.15625 6.1875 \nQ 5.515625 13.8125 5.515625 26.8125 \nQ 5.515625 40.234375 12.765625 48.109375 \nQ 20.015625 56 32.328125 56 \nQ 43.359375 56 49.78125 48.890625 \nQ 56.203125 41.796875 56.203125 29.59375 \nz\nM 47.21875 32.234375 \nQ 47.125 39.59375 43.09375 43.984375 \nQ 39.0625 48.390625 32.421875 48.390625 \nQ 24.90625 48.390625 20.390625 44.140625 \nQ 15.875 39.890625 15.1875 32.171875 \nz\n\" id=\"DejaVuSans-101\"/>\n     </defs>\n     <g transform=\"translate(245.934375 268.034687)scale(0.1 -0.1)\">\n      <use xlink:href=\"#DejaVuSans-86\"/>\n      <use x=\"60.658203\" xlink:href=\"#DejaVuSans-97\"/>\n      <use x=\"121.9375\" xlink:href=\"#DejaVuSans-108\"/>\n      <use x=\"149.720703\" xlink:href=\"#DejaVuSans-117\"/>\n      <use x=\"213.099609\" xlink:href=\"#DejaVuSans-101\"/>\n     </g>\n    </g>\n   </g>\n   <g id=\"matplotlib.axis_2\">\n    <g id=\"ytick_1\">\n     <g id=\"line2d_7\">\n      <defs>\n       <path d=\"M 0 0 \nL -3.5 0 \n\" id=\"mb5c1e27e35\" style=\"stroke:#000000;stroke-width:0.8;\"/>\n      </defs>\n      <g>\n       <use style=\"stroke:#000000;stroke-width:0.8;\" x=\"36.465625\" xlink:href=\"#mb5c1e27e35\" y=\"239.758125\"/>\n      </g>\n     </g>\n     <g id=\"text_8\">\n      <!-- 0.00 -->\n      <defs>\n       <path d=\"M 31.78125 66.40625 \nQ 24.171875 66.40625 20.328125 58.90625 \nQ 16.5 51.421875 16.5 36.375 \nQ 16.5 21.390625 20.328125 13.890625 \nQ 24.171875 6.390625 31.78125 6.390625 \nQ 39.453125 6.390625 43.28125 13.890625 \nQ 47.125 21.390625 47.125 36.375 \nQ 47.125 51.421875 43.28125 58.90625 \nQ 39.453125 66.40625 31.78125 66.40625 \nz\nM 31.78125 74.21875 \nQ 44.046875 74.21875 50.515625 64.515625 \nQ 56.984375 54.828125 56.984375 36.375 \nQ 56.984375 17.96875 50.515625 8.265625 \nQ 44.046875 -1.421875 31.78125 -1.421875 \nQ 19.53125 -1.421875 13.0625 8.265625 \nQ 6.59375 17.96875 6.59375 36.375 \nQ 6.59375 54.828125 13.0625 64.515625 \nQ 19.53125 74.21875 31.78125 74.21875 \nz\n\" id=\"DejaVuSans-48\"/>\n       <path d=\"M 10.6875 12.40625 \nL 21 12.40625 \nL 21 0 \nL 10.6875 0 \nz\n\" id=\"DejaVuSans-46\"/>\n      </defs>\n      <g transform=\"translate(7.2 243.557344)scale(0.1 -0.1)\">\n       <use xlink:href=\"#DejaVuSans-48\"/>\n       <use x=\"63.623047\" xlink:href=\"#DejaVuSans-46\"/>\n       <use x=\"95.410156\" xlink:href=\"#DejaVuSans-48\"/>\n       <use x=\"159.033203\" xlink:href=\"#DejaVuSans-48\"/>\n      </g>\n     </g>\n    </g>\n    <g id=\"ytick_2\">\n     <g id=\"line2d_8\">\n      <g>\n       <use style=\"stroke:#000000;stroke-width:0.8;\" x=\"36.465625\" xlink:href=\"#mb5c1e27e35\" y=\"214.907839\"/>\n      </g>\n     </g>\n     <g id=\"text_9\">\n      <!-- 0.02 -->\n      <g transform=\"translate(7.2 218.707058)scale(0.1 -0.1)\">\n       <use xlink:href=\"#DejaVuSans-48\"/>\n       <use x=\"63.623047\" xlink:href=\"#DejaVuSans-46\"/>\n       <use x=\"95.410156\" xlink:href=\"#DejaVuSans-48\"/>\n       <use x=\"159.033203\" xlink:href=\"#DejaVuSans-50\"/>\n      </g>\n     </g>\n    </g>\n    <g id=\"ytick_3\">\n     <g id=\"line2d_9\">\n      <g>\n       <use style=\"stroke:#000000;stroke-width:0.8;\" x=\"36.465625\" xlink:href=\"#mb5c1e27e35\" y=\"190.057554\"/>\n      </g>\n     </g>\n     <g id=\"text_10\">\n      <!-- 0.04 -->\n      <g transform=\"translate(7.2 193.856772)scale(0.1 -0.1)\">\n       <use xlink:href=\"#DejaVuSans-48\"/>\n       <use x=\"63.623047\" xlink:href=\"#DejaVuSans-46\"/>\n       <use x=\"95.410156\" xlink:href=\"#DejaVuSans-48\"/>\n       <use x=\"159.033203\" xlink:href=\"#DejaVuSans-52\"/>\n      </g>\n     </g>\n    </g>\n    <g id=\"ytick_4\">\n     <g id=\"line2d_10\">\n      <g>\n       <use style=\"stroke:#000000;stroke-width:0.8;\" x=\"36.465625\" xlink:href=\"#mb5c1e27e35\" y=\"165.207268\"/>\n      </g>\n     </g>\n     <g id=\"text_11\">\n      <!-- 0.06 -->\n      <g transform=\"translate(7.2 169.006487)scale(0.1 -0.1)\">\n       <use xlink:href=\"#DejaVuSans-48\"/>\n       <use x=\"63.623047\" xlink:href=\"#DejaVuSans-46\"/>\n       <use x=\"95.410156\" xlink:href=\"#DejaVuSans-48\"/>\n       <use x=\"159.033203\" xlink:href=\"#DejaVuSans-54\"/>\n      </g>\n     </g>\n    </g>\n    <g id=\"ytick_5\">\n     <g id=\"line2d_11\">\n      <g>\n       <use style=\"stroke:#000000;stroke-width:0.8;\" x=\"36.465625\" xlink:href=\"#mb5c1e27e35\" y=\"140.356982\"/>\n      </g>\n     </g>\n     <g id=\"text_12\">\n      <!-- 0.08 -->\n      <defs>\n       <path d=\"M 31.78125 34.625 \nQ 24.75 34.625 20.71875 30.859375 \nQ 16.703125 27.09375 16.703125 20.515625 \nQ 16.703125 13.921875 20.71875 10.15625 \nQ 24.75 6.390625 31.78125 6.390625 \nQ 38.8125 6.390625 42.859375 10.171875 \nQ 46.921875 13.96875 46.921875 20.515625 \nQ 46.921875 27.09375 42.890625 30.859375 \nQ 38.875 34.625 31.78125 34.625 \nz\nM 21.921875 38.8125 \nQ 15.578125 40.375 12.03125 44.71875 \nQ 8.5 49.078125 8.5 55.328125 \nQ 8.5 64.0625 14.71875 69.140625 \nQ 20.953125 74.21875 31.78125 74.21875 \nQ 42.671875 74.21875 48.875 69.140625 \nQ 55.078125 64.0625 55.078125 55.328125 \nQ 55.078125 49.078125 51.53125 44.71875 \nQ 48 40.375 41.703125 38.8125 \nQ 48.828125 37.15625 52.796875 32.3125 \nQ 56.78125 27.484375 56.78125 20.515625 \nQ 56.78125 9.90625 50.3125 4.234375 \nQ 43.84375 -1.421875 31.78125 -1.421875 \nQ 19.734375 -1.421875 13.25 4.234375 \nQ 6.78125 9.90625 6.78125 20.515625 \nQ 6.78125 27.484375 10.78125 32.3125 \nQ 14.796875 37.15625 21.921875 38.8125 \nz\nM 18.3125 54.390625 \nQ 18.3125 48.734375 21.84375 45.5625 \nQ 25.390625 42.390625 31.78125 42.390625 \nQ 38.140625 42.390625 41.71875 45.5625 \nQ 45.3125 48.734375 45.3125 54.390625 \nQ 45.3125 60.0625 41.71875 63.234375 \nQ 38.140625 66.40625 31.78125 66.40625 \nQ 25.390625 66.40625 21.84375 63.234375 \nQ 18.3125 60.0625 18.3125 54.390625 \nz\n\" id=\"DejaVuSans-56\"/>\n      </defs>\n      <g transform=\"translate(7.2 144.156201)scale(0.1 -0.1)\">\n       <use xlink:href=\"#DejaVuSans-48\"/>\n       <use x=\"63.623047\" xlink:href=\"#DejaVuSans-46\"/>\n       <use x=\"95.410156\" xlink:href=\"#DejaVuSans-48\"/>\n       <use x=\"159.033203\" xlink:href=\"#DejaVuSans-56\"/>\n      </g>\n     </g>\n    </g>\n    <g id=\"ytick_6\">\n     <g id=\"line2d_12\">\n      <g>\n       <use style=\"stroke:#000000;stroke-width:0.8;\" x=\"36.465625\" xlink:href=\"#mb5c1e27e35\" y=\"115.506696\"/>\n      </g>\n     </g>\n     <g id=\"text_13\">\n      <!-- 0.10 -->\n      <g transform=\"translate(7.2 119.305915)scale(0.1 -0.1)\">\n       <use xlink:href=\"#DejaVuSans-48\"/>\n       <use x=\"63.623047\" xlink:href=\"#DejaVuSans-46\"/>\n       <use x=\"95.410156\" xlink:href=\"#DejaVuSans-49\"/>\n       <use x=\"159.033203\" xlink:href=\"#DejaVuSans-48\"/>\n      </g>\n     </g>\n    </g>\n    <g id=\"ytick_7\">\n     <g id=\"line2d_13\">\n      <g>\n       <use style=\"stroke:#000000;stroke-width:0.8;\" x=\"36.465625\" xlink:href=\"#mb5c1e27e35\" y=\"90.656411\"/>\n      </g>\n     </g>\n     <g id=\"text_14\">\n      <!-- 0.12 -->\n      <g transform=\"translate(7.2 94.455629)scale(0.1 -0.1)\">\n       <use xlink:href=\"#DejaVuSans-48\"/>\n       <use x=\"63.623047\" xlink:href=\"#DejaVuSans-46\"/>\n       <use x=\"95.410156\" xlink:href=\"#DejaVuSans-49\"/>\n       <use x=\"159.033203\" xlink:href=\"#DejaVuSans-50\"/>\n      </g>\n     </g>\n    </g>\n    <g id=\"ytick_8\">\n     <g id=\"line2d_14\">\n      <g>\n       <use style=\"stroke:#000000;stroke-width:0.8;\" x=\"36.465625\" xlink:href=\"#mb5c1e27e35\" y=\"65.806125\"/>\n      </g>\n     </g>\n     <g id=\"text_15\">\n      <!-- 0.14 -->\n      <g transform=\"translate(7.2 69.605344)scale(0.1 -0.1)\">\n       <use xlink:href=\"#DejaVuSans-48\"/>\n       <use x=\"63.623047\" xlink:href=\"#DejaVuSans-46\"/>\n       <use x=\"95.410156\" xlink:href=\"#DejaVuSans-49\"/>\n       <use x=\"159.033203\" xlink:href=\"#DejaVuSans-52\"/>\n      </g>\n     </g>\n    </g>\n    <g id=\"ytick_9\">\n     <g id=\"line2d_15\">\n      <g>\n       <use style=\"stroke:#000000;stroke-width:0.8;\" x=\"36.465625\" xlink:href=\"#mb5c1e27e35\" y=\"40.955839\"/>\n      </g>\n     </g>\n     <g id=\"text_16\">\n      <!-- 0.16 -->\n      <g transform=\"translate(7.2 44.755058)scale(0.1 -0.1)\">\n       <use xlink:href=\"#DejaVuSans-48\"/>\n       <use x=\"63.623047\" xlink:href=\"#DejaVuSans-46\"/>\n       <use x=\"95.410156\" xlink:href=\"#DejaVuSans-49\"/>\n       <use x=\"159.033203\" xlink:href=\"#DejaVuSans-54\"/>\n      </g>\n     </g>\n    </g>\n   </g>\n   <g id=\"patch_9\">\n    <path d=\"M 36.465625 239.758125 \nL 36.465625 22.318125 \n\" style=\"fill:none;stroke:#000000;stroke-linecap:square;stroke-linejoin:miter;stroke-width:0.8;\"/>\n   </g>\n   <g id=\"patch_10\">\n    <path d=\"M 482.865625 239.758125 \nL 482.865625 22.318125 \n\" style=\"fill:none;stroke:#000000;stroke-linecap:square;stroke-linejoin:miter;stroke-width:0.8;\"/>\n   </g>\n   <g id=\"patch_11\">\n    <path d=\"M 36.465625 239.758125 \nL 482.865625 239.758125 \n\" style=\"fill:none;stroke:#000000;stroke-linecap:square;stroke-linejoin:miter;stroke-width:0.8;\"/>\n   </g>\n   <g id=\"patch_12\">\n    <path d=\"M 36.465625 22.318125 \nL 482.865625 22.318125 \n\" style=\"fill:none;stroke:#000000;stroke-linecap:square;stroke-linejoin:miter;stroke-width:0.8;\"/>\n   </g>\n   <g id=\"text_17\">\n    <!-- Probability for dice values -->\n    <defs>\n     <path d=\"M 19.671875 64.796875 \nL 19.671875 37.40625 \nL 32.078125 37.40625 \nQ 38.96875 37.40625 42.71875 40.96875 \nQ 46.484375 44.53125 46.484375 51.125 \nQ 46.484375 57.671875 42.71875 61.234375 \nQ 38.96875 64.796875 32.078125 64.796875 \nz\nM 9.8125 72.90625 \nL 32.078125 72.90625 \nQ 44.34375 72.90625 50.609375 67.359375 \nQ 56.890625 61.8125 56.890625 51.125 \nQ 56.890625 40.328125 50.609375 34.8125 \nQ 44.34375 29.296875 32.078125 29.296875 \nL 19.671875 29.296875 \nL 19.671875 0 \nL 9.8125 0 \nz\n\" id=\"DejaVuSans-80\"/>\n     <path d=\"M 41.109375 46.296875 \nQ 39.59375 47.171875 37.8125 47.578125 \nQ 36.03125 48 33.890625 48 \nQ 26.265625 48 22.1875 43.046875 \nQ 18.109375 38.09375 18.109375 28.8125 \nL 18.109375 0 \nL 9.078125 0 \nL 9.078125 54.6875 \nL 18.109375 54.6875 \nL 18.109375 46.1875 \nQ 20.953125 51.171875 25.484375 53.578125 \nQ 30.03125 56 36.53125 56 \nQ 37.453125 56 38.578125 55.875 \nQ 39.703125 55.765625 41.0625 55.515625 \nz\n\" id=\"DejaVuSans-114\"/>\n     <path d=\"M 30.609375 48.390625 \nQ 23.390625 48.390625 19.1875 42.75 \nQ 14.984375 37.109375 14.984375 27.296875 \nQ 14.984375 17.484375 19.15625 11.84375 \nQ 23.34375 6.203125 30.609375 6.203125 \nQ 37.796875 6.203125 41.984375 11.859375 \nQ 46.1875 17.53125 46.1875 27.296875 \nQ 46.1875 37.015625 41.984375 42.703125 \nQ 37.796875 48.390625 30.609375 48.390625 \nz\nM 30.609375 56 \nQ 42.328125 56 49.015625 48.375 \nQ 55.71875 40.765625 55.71875 27.296875 \nQ 55.71875 13.875 49.015625 6.21875 \nQ 42.328125 -1.421875 30.609375 -1.421875 \nQ 18.84375 -1.421875 12.171875 6.21875 \nQ 5.515625 13.875 5.515625 27.296875 \nQ 5.515625 40.765625 12.171875 48.375 \nQ 18.84375 56 30.609375 56 \nz\n\" id=\"DejaVuSans-111\"/>\n     <path d=\"M 48.6875 27.296875 \nQ 48.6875 37.203125 44.609375 42.84375 \nQ 40.53125 48.484375 33.40625 48.484375 \nQ 26.265625 48.484375 22.1875 42.84375 \nQ 18.109375 37.203125 18.109375 27.296875 \nQ 18.109375 17.390625 22.1875 11.75 \nQ 26.265625 6.109375 33.40625 6.109375 \nQ 40.53125 6.109375 44.609375 11.75 \nQ 48.6875 17.390625 48.6875 27.296875 \nz\nM 18.109375 46.390625 \nQ 20.953125 51.265625 25.265625 53.625 \nQ 29.59375 56 35.59375 56 \nQ 45.5625 56 51.78125 48.09375 \nQ 58.015625 40.1875 58.015625 27.296875 \nQ 58.015625 14.40625 51.78125 6.484375 \nQ 45.5625 -1.421875 35.59375 -1.421875 \nQ 29.59375 -1.421875 25.265625 0.953125 \nQ 20.953125 3.328125 18.109375 8.203125 \nL 18.109375 0 \nL 9.078125 0 \nL 9.078125 75.984375 \nL 18.109375 75.984375 \nz\n\" id=\"DejaVuSans-98\"/>\n     <path d=\"M 9.421875 54.6875 \nL 18.40625 54.6875 \nL 18.40625 0 \nL 9.421875 0 \nz\nM 9.421875 75.984375 \nL 18.40625 75.984375 \nL 18.40625 64.59375 \nL 9.421875 64.59375 \nz\n\" id=\"DejaVuSans-105\"/>\n     <path d=\"M 18.3125 70.21875 \nL 18.3125 54.6875 \nL 36.8125 54.6875 \nL 36.8125 47.703125 \nL 18.3125 47.703125 \nL 18.3125 18.015625 \nQ 18.3125 11.328125 20.140625 9.421875 \nQ 21.96875 7.515625 27.59375 7.515625 \nL 36.8125 7.515625 \nL 36.8125 0 \nL 27.59375 0 \nQ 17.1875 0 13.234375 3.875 \nQ 9.28125 7.765625 9.28125 18.015625 \nL 9.28125 47.703125 \nL 2.6875 47.703125 \nL 2.6875 54.6875 \nL 9.28125 54.6875 \nL 9.28125 70.21875 \nz\n\" id=\"DejaVuSans-116\"/>\n     <path d=\"M 32.171875 -5.078125 \nQ 28.375 -14.84375 24.75 -17.8125 \nQ 21.140625 -20.796875 15.09375 -20.796875 \nL 7.90625 -20.796875 \nL 7.90625 -13.28125 \nL 13.1875 -13.28125 \nQ 16.890625 -13.28125 18.9375 -11.515625 \nQ 21 -9.765625 23.484375 -3.21875 \nL 25.09375 0.875 \nL 2.984375 54.6875 \nL 12.5 54.6875 \nL 29.59375 11.921875 \nL 46.6875 54.6875 \nL 56.203125 54.6875 \nz\n\" id=\"DejaVuSans-121\"/>\n     <path id=\"DejaVuSans-32\"/>\n     <path d=\"M 37.109375 75.984375 \nL 37.109375 68.5 \nL 28.515625 68.5 \nQ 23.6875 68.5 21.796875 66.546875 \nQ 19.921875 64.59375 19.921875 59.515625 \nL 19.921875 54.6875 \nL 34.71875 54.6875 \nL 34.71875 47.703125 \nL 19.921875 47.703125 \nL 19.921875 0 \nL 10.890625 0 \nL 10.890625 47.703125 \nL 2.296875 47.703125 \nL 2.296875 54.6875 \nL 10.890625 54.6875 \nL 10.890625 58.5 \nQ 10.890625 67.625 15.140625 71.796875 \nQ 19.390625 75.984375 28.609375 75.984375 \nz\n\" id=\"DejaVuSans-102\"/>\n     <path d=\"M 45.40625 46.390625 \nL 45.40625 75.984375 \nL 54.390625 75.984375 \nL 54.390625 0 \nL 45.40625 0 \nL 45.40625 8.203125 \nQ 42.578125 3.328125 38.25 0.953125 \nQ 33.9375 -1.421875 27.875 -1.421875 \nQ 17.96875 -1.421875 11.734375 6.484375 \nQ 5.515625 14.40625 5.515625 27.296875 \nQ 5.515625 40.1875 11.734375 48.09375 \nQ 17.96875 56 27.875 56 \nQ 33.9375 56 38.25 53.625 \nQ 42.578125 51.265625 45.40625 46.390625 \nz\nM 14.796875 27.296875 \nQ 14.796875 17.390625 18.875 11.75 \nQ 22.953125 6.109375 30.078125 6.109375 \nQ 37.203125 6.109375 41.296875 11.75 \nQ 45.40625 17.390625 45.40625 27.296875 \nQ 45.40625 37.203125 41.296875 42.84375 \nQ 37.203125 48.484375 30.078125 48.484375 \nQ 22.953125 48.484375 18.875 42.84375 \nQ 14.796875 37.203125 14.796875 27.296875 \nz\n\" id=\"DejaVuSans-100\"/>\n     <path d=\"M 48.78125 52.59375 \nL 48.78125 44.1875 \nQ 44.96875 46.296875 41.140625 47.34375 \nQ 37.3125 48.390625 33.40625 48.390625 \nQ 24.65625 48.390625 19.8125 42.84375 \nQ 14.984375 37.3125 14.984375 27.296875 \nQ 14.984375 17.28125 19.8125 11.734375 \nQ 24.65625 6.203125 33.40625 6.203125 \nQ 37.3125 6.203125 41.140625 7.25 \nQ 44.96875 8.296875 48.78125 10.40625 \nL 48.78125 2.09375 \nQ 45.015625 0.34375 40.984375 -0.53125 \nQ 36.96875 -1.421875 32.421875 -1.421875 \nQ 20.0625 -1.421875 12.78125 6.34375 \nQ 5.515625 14.109375 5.515625 27.296875 \nQ 5.515625 40.671875 12.859375 48.328125 \nQ 20.21875 56 33.015625 56 \nQ 37.15625 56 41.109375 55.140625 \nQ 45.0625 54.296875 48.78125 52.59375 \nz\n\" id=\"DejaVuSans-99\"/>\n     <path d=\"M 2.984375 54.6875 \nL 12.5 54.6875 \nL 29.59375 8.796875 \nL 46.6875 54.6875 \nL 56.203125 54.6875 \nL 35.6875 0 \nL 23.484375 0 \nz\n\" id=\"DejaVuSans-118\"/>\n     <path d=\"M 44.28125 53.078125 \nL 44.28125 44.578125 \nQ 40.484375 46.53125 36.375 47.5 \nQ 32.28125 48.484375 27.875 48.484375 \nQ 21.1875 48.484375 17.84375 46.4375 \nQ 14.5 44.390625 14.5 40.28125 \nQ 14.5 37.15625 16.890625 35.375 \nQ 19.28125 33.59375 26.515625 31.984375 \nL 29.59375 31.296875 \nQ 39.15625 29.25 43.1875 25.515625 \nQ 47.21875 21.78125 47.21875 15.09375 \nQ 47.21875 7.46875 41.1875 3.015625 \nQ 35.15625 -1.421875 24.609375 -1.421875 \nQ 20.21875 -1.421875 15.453125 -0.5625 \nQ 10.6875 0.296875 5.421875 2 \nL 5.421875 11.28125 \nQ 10.40625 8.6875 15.234375 7.390625 \nQ 20.0625 6.109375 24.8125 6.109375 \nQ 31.15625 6.109375 34.5625 8.28125 \nQ 37.984375 10.453125 37.984375 14.40625 \nQ 37.984375 18.0625 35.515625 20.015625 \nQ 33.0625 21.96875 24.703125 23.78125 \nL 21.578125 24.515625 \nQ 13.234375 26.265625 9.515625 29.90625 \nQ 5.8125 33.546875 5.8125 39.890625 \nQ 5.8125 47.609375 11.28125 51.796875 \nQ 16.75 56 26.8125 56 \nQ 31.78125 56 36.171875 55.265625 \nQ 40.578125 54.546875 44.28125 53.078125 \nz\n\" id=\"DejaVuSans-115\"/>\n    </defs>\n    <g transform=\"translate(181.998437 16.318125)scale(0.12 -0.12)\">\n     <use xlink:href=\"#DejaVuSans-80\"/>\n     <use x=\"58.552734\" xlink:href=\"#DejaVuSans-114\"/>\n     <use x=\"97.416016\" xlink:href=\"#DejaVuSans-111\"/>\n     <use x=\"158.597656\" xlink:href=\"#DejaVuSans-98\"/>\n     <use x=\"222.074219\" xlink:href=\"#DejaVuSans-97\"/>\n     <use x=\"283.353516\" xlink:href=\"#DejaVuSans-98\"/>\n     <use x=\"346.830078\" xlink:href=\"#DejaVuSans-105\"/>\n     <use x=\"374.613281\" xlink:href=\"#DejaVuSans-108\"/>\n     <use x=\"402.396484\" xlink:href=\"#DejaVuSans-105\"/>\n     <use x=\"430.179688\" xlink:href=\"#DejaVuSans-116\"/>\n     <use x=\"469.388672\" xlink:href=\"#DejaVuSans-121\"/>\n     <use x=\"528.568359\" xlink:href=\"#DejaVuSans-32\"/>\n     <use x=\"560.355469\" xlink:href=\"#DejaVuSans-102\"/>\n     <use x=\"595.560547\" xlink:href=\"#DejaVuSans-111\"/>\n     <use x=\"656.742188\" xlink:href=\"#DejaVuSans-114\"/>\n     <use x=\"697.855469\" xlink:href=\"#DejaVuSans-32\"/>\n     <use x=\"729.642578\" xlink:href=\"#DejaVuSans-100\"/>\n     <use x=\"793.119141\" xlink:href=\"#DejaVuSans-105\"/>\n     <use x=\"820.902344\" xlink:href=\"#DejaVuSans-99\"/>\n     <use x=\"875.882812\" xlink:href=\"#DejaVuSans-101\"/>\n     <use x=\"937.40625\" xlink:href=\"#DejaVuSans-32\"/>\n     <use x=\"969.193359\" xlink:href=\"#DejaVuSans-118\"/>\n     <use x=\"1028.373047\" xlink:href=\"#DejaVuSans-97\"/>\n     <use x=\"1089.652344\" xlink:href=\"#DejaVuSans-108\"/>\n     <use x=\"1117.435547\" xlink:href=\"#DejaVuSans-117\"/>\n     <use x=\"1180.814453\" xlink:href=\"#DejaVuSans-101\"/>\n     <use x=\"1242.337891\" xlink:href=\"#DejaVuSans-115\"/>\n    </g>\n   </g>\n   <g id=\"legend_1\">\n    <g id=\"patch_13\">\n     <path d=\"M 391.007812 44.99625 \nL 475.865625 44.99625 \nQ 477.865625 44.99625 477.865625 42.99625 \nL 477.865625 29.318125 \nQ 477.865625 27.318125 475.865625 27.318125 \nL 391.007812 27.318125 \nQ 389.007812 27.318125 389.007812 29.318125 \nL 389.007812 42.99625 \nQ 389.007812 44.99625 391.007812 44.99625 \nz\n\" style=\"fill:#ffffff;opacity:0.8;stroke:#cccccc;stroke-linejoin:miter;\"/>\n    </g>\n    <g id=\"patch_14\">\n     <path d=\"M 393.007812 38.916562 \nL 413.007812 38.916562 \nL 413.007812 31.916562 \nL 393.007812 31.916562 \nz\n\" style=\"fill:#1f77b4;\"/>\n    </g>\n    <g id=\"text_18\">\n     <!-- Probability -->\n     <g transform=\"translate(421.007812 38.916562)scale(0.1 -0.1)\">\n      <use xlink:href=\"#DejaVuSans-80\"/>\n      <use x=\"58.552734\" xlink:href=\"#DejaVuSans-114\"/>\n      <use x=\"97.416016\" xlink:href=\"#DejaVuSans-111\"/>\n      <use x=\"158.597656\" xlink:href=\"#DejaVuSans-98\"/>\n      <use x=\"222.074219\" xlink:href=\"#DejaVuSans-97\"/>\n      <use x=\"283.353516\" xlink:href=\"#DejaVuSans-98\"/>\n      <use x=\"346.830078\" xlink:href=\"#DejaVuSans-105\"/>\n      <use x=\"374.613281\" xlink:href=\"#DejaVuSans-108\"/>\n      <use x=\"402.396484\" xlink:href=\"#DejaVuSans-105\"/>\n      <use x=\"430.179688\" xlink:href=\"#DejaVuSans-116\"/>\n      <use x=\"469.388672\" xlink:href=\"#DejaVuSans-121\"/>\n     </g>\n    </g>\n   </g>\n  </g>\n </g>\n <defs>\n  <clipPath id=\"p22303aef7c\">\n   <rect height=\"217.44\" width=\"446.4\" x=\"36.465625\" y=\"22.318125\"/>\n  </clipPath>\n </defs>\n</svg>\n",
      "image/png": "[encoded data removed]"
     },
     "metadata": {
      "needs_background": "light"
     }
    }
   ],
   "source": [
    "import pandas as pd\n",
    "import seaborn as sns\n",
    "import matplotlib.pyplot as plt\n",
    "\n",
    "x = [1, 2, 3, 4, 5, 6]\n",
    "prob = [1/6, 1/6, 1/6, 1/6, 1/6, 1/6]\n",
    "\n",
    "df = pd.DataFrame({'Value': x,'Probability': prob})\n",
    "\n",
    "df.plot.bar(x = 'Value', y = 'Probability', rot = 0, title = \"Probability for dice values\")\n",
    "\n",
    "fig = plt.gcf()\n",
    "fig.set_size_inches(8, 4)\n",
    "\n",
    "plt.show(block=True)"
   ]
  },
  {
   "source": [
    "### Continuous random variables <a name=\"cont\"></a>"
   ],
   "cell_type": "markdown",
   "metadata": {}
  },
  {
   "source": [
    "On the other side we have continuous random variables, which has a range in the form of an interval or a union of non-overlapping intervals on the real line. Also, for any $x \\in \\mathbb{R},\\;P(X = x) = 0$.\n",
    "\n",
    "Let $X$ be a continuous random variable with following probability density function:\n",
    "\n",
    "$ f(x) = \\left\\{ \\begin{array}{cl}\n",
    "2x & : \\ 0 < x < 1 \\\\\n",
    "0 & : x \\leq 0 \\vee x \\geq 1\n",
    "\\end{array} \\right.$"
   ],
   "cell_type": "markdown",
   "metadata": {}
  },
  {
   "cell_type": "code",
   "execution_count": 48,
   "metadata": {},
   "outputs": [
    {
     "output_type": "display_data",
     "data": {
      "text/plain": "<Figure size 432x288 with 1 Axes>",
      "image/svg+xml": "<?xml version=\"1.0\" encoding=\"utf-8\" standalone=\"no\"?>\n<!DOCTYPE svg PUBLIC \"-//W3C//DTD SVG 1.1//EN\"\n  \"http://www.w3.org/Graphics/SVG/1.1/DTD/svg11.dtd\">\n<!-- Created with matplotlib (https://matplotlib.org/) -->\n<svg height=\"268.857813pt\" version=\"1.1\" viewBox=\"0 0 366 268.857813\" width=\"366pt\" xmlns=\"http://www.w3.org/2000/svg\" xmlns:xlink=\"http://www.w3.org/1999/xlink\">\n <defs>\n  <style type=\"text/css\">\n*{stroke-linecap:butt;stroke-linejoin:round;}\n  </style>\n </defs>\n <g id=\"figure_1\">\n  <g id=\"patch_1\">\n   <path d=\"M 0 268.857813 \nL 366 268.857813 \nL 366 0 \nL 0 0 \nz\n\" style=\"fill:none;\"/>\n  </g>\n  <g id=\"axes_1\">\n   <g id=\"patch_2\">\n    <path d=\"M 18 237.978125 \nL 352.8 237.978125 \nL 352.8 20.538125 \nL 18 20.538125 \nz\n\" style=\"fill:#ffffff;\"/>\n   </g>\n   <g id=\"patch_3\">\n    <path clip-path=\"url(#p102ca44516)\" d=\"M 177.428571 237.978125 \nL 177.428571 134.435268 \nL 180.682216 132.322148 \nL 183.93586 130.209029 \nL 187.189504 128.095909 \nL 190.443149 125.98279 \nL 193.696793 123.86967 \nL 196.950437 121.756551 \nL 200.204082 119.643431 \nL 203.457726 117.530312 \nL 206.71137 115.417192 \nL 209.965015 113.304073 \nL 213.218659 111.190953 \nL 216.472303 109.077833 \nL 219.725948 106.964714 \nL 222.979592 104.851594 \nL 226.233236 102.738475 \nL 229.48688 100.625355 \nL 232.740525 98.512236 \nL 235.994169 96.399116 \nL 239.247813 94.285997 \nL 242.501458 92.172877 \nL 245.755102 90.059758 \nL 249.008746 87.946638 \nL 252.262391 85.833519 \nL 255.516035 83.720399 \nL 258.769679 81.60728 \nL 262.023324 79.49416 \nL 265.276968 77.38104 \nL 268.530612 75.267921 \nL 271.784257 73.154801 \nL 275.037901 71.041682 \nL 278.291545 68.928562 \nL 281.54519 66.815443 \nL 284.798834 64.702323 \nL 288.052478 62.589204 \nL 291.306122 60.476084 \nL 294.559767 58.362965 \nL 297.813411 56.249845 \nL 301.067055 54.136726 \nL 304.3207 52.023606 \nL 307.574344 49.910487 \nL 310.827988 47.797367 \nL 314.081633 45.684247 \nL 317.335277 43.571128 \nL 320.588921 41.458008 \nL 323.842566 39.344889 \nL 327.09621 37.231769 \nL 330.349854 35.11865 \nL 333.603499 33.00553 \nL 336.857143 30.892411 \nL 336.857143 237.978125 \nz\n\" style=\"fill:#e6e6e6;stroke:#808080;stroke-linejoin:miter;\"/>\n   </g>\n   <g id=\"matplotlib.axis_1\">\n    <g id=\"xtick_1\">\n     <g id=\"line2d_1\">\n      <defs>\n       <path d=\"M 0 0 \nL 0 3.5 \n\" id=\"mc7f390d25e\" style=\"stroke:#000000;stroke-width:0.8;\"/>\n      </defs>\n      <g>\n       <use style=\"stroke:#000000;stroke-width:0.8;\" x=\"177.428571\" xlink:href=\"#mc7f390d25e\" y=\"237.978125\"/>\n      </g>\n     </g>\n     <g id=\"text_1\">\n      <!-- $a$ -->\n      <defs>\n       <path d=\"M 53.71875 31.203125 \nL 47.609375 0 \nL 38.625 0 \nL 40.28125 8.296875 \nQ 36.328125 3.421875 31.265625 1 \nQ 26.21875 -1.421875 20.015625 -1.421875 \nQ 13.03125 -1.421875 8.5625 2.84375 \nQ 4.109375 7.125 4.109375 13.8125 \nQ 4.109375 23.390625 11.75 28.953125 \nQ 19.390625 34.515625 32.8125 34.515625 \nL 45.3125 34.515625 \nL 45.796875 36.921875 \nQ 45.90625 37.3125 45.953125 37.765625 \nQ 46 38.234375 46 39.203125 \nQ 46 43.5625 42.453125 45.96875 \nQ 38.921875 48.390625 32.515625 48.390625 \nQ 28.125 48.390625 23.5 47.265625 \nQ 18.890625 46.140625 14.015625 43.890625 \nL 15.578125 52.203125 \nQ 20.65625 54.109375 25.515625 55.046875 \nQ 30.375 56 34.90625 56 \nQ 44.578125 56 49.625 51.796875 \nQ 54.6875 47.609375 54.6875 39.59375 \nQ 54.6875 37.984375 54.4375 35.8125 \nQ 54.203125 33.640625 53.71875 31.203125 \nz\nM 44 27.484375 \nL 35.015625 27.484375 \nQ 23.96875 27.484375 18.671875 24.53125 \nQ 13.375 21.578125 13.375 15.375 \nQ 13.375 11.078125 16.078125 8.640625 \nQ 18.796875 6.203125 23.578125 6.203125 \nQ 30.90625 6.203125 36.375 11.453125 \nQ 41.84375 16.703125 43.609375 25.484375 \nz\n\" id=\"DejaVuSans-Oblique-97\"/>\n      </defs>\n      <g transform=\"translate(174.328571 252.576563)scale(0.1 -0.1)\">\n       <use xlink:href=\"#DejaVuSans-Oblique-97\"/>\n      </g>\n     </g>\n    </g>\n    <g id=\"xtick_2\">\n     <g id=\"line2d_2\">\n      <g>\n       <use style=\"stroke:#000000;stroke-width:0.8;\" x=\"336.857143\" xlink:href=\"#mc7f390d25e\" y=\"237.978125\"/>\n      </g>\n     </g>\n     <g id=\"text_2\">\n      <!-- $b$ -->\n      <defs>\n       <path d=\"M 49.515625 33.40625 \nQ 49.515625 40.484375 46.265625 44.484375 \nQ 43.015625 48.484375 37.3125 48.484375 \nQ 33.15625 48.484375 29.515625 46.453125 \nQ 25.875 44.4375 23.1875 40.578125 \nQ 20.359375 36.53125 18.71875 31.171875 \nQ 17.09375 25.828125 17.09375 20.515625 \nQ 17.09375 13.765625 20.28125 9.9375 \nQ 23.484375 6.109375 29.109375 6.109375 \nQ 33.34375 6.109375 36.953125 8.078125 \nQ 40.578125 10.0625 43.3125 13.921875 \nQ 46.09375 17.921875 47.796875 23.234375 \nQ 49.515625 28.5625 49.515625 33.40625 \nz\nM 21.578125 46.390625 \nQ 24.90625 50.875 29.90625 53.4375 \nQ 34.90625 56 40.375 56 \nQ 48.78125 56 53.734375 50.328125 \nQ 58.6875 44.671875 58.6875 35.015625 \nQ 58.6875 27.09375 55.78125 19.671875 \nQ 52.875 12.25 47.515625 6.5 \nQ 44 2.6875 39.40625 0.625 \nQ 34.8125 -1.421875 29.78125 -1.421875 \nQ 24.46875 -1.421875 20.5625 1.015625 \nQ 16.65625 3.46875 14.203125 8.296875 \nL 12.59375 0 \nL 3.609375 0 \nL 18.40625 75.984375 \nL 27.390625 75.984375 \nz\n\" id=\"DejaVuSans-Oblique-98\"/>\n      </defs>\n      <g transform=\"translate(333.657143 252.576563)scale(0.1 -0.1)\">\n       <use transform=\"translate(0 0.015625)\" xlink:href=\"#DejaVuSans-Oblique-98\"/>\n      </g>\n     </g>\n    </g>\n   </g>\n   <g id=\"matplotlib.axis_2\"/>\n   <g id=\"line2d_3\">\n    <path clip-path=\"url(#p102ca44516)\" d=\"M 18 237.978125 \nL 24.507289 233.751886 \nL 31.014577 229.525647 \nL 37.521866 225.299408 \nL 44.029155 221.073169 \nL 50.536443 216.84693 \nL 57.043732 212.620691 \nL 63.55102 208.394452 \nL 70.058309 204.168212 \nL 76.565598 199.941973 \nL 83.072886 195.715734 \nL 89.580175 191.489495 \nL 96.087464 187.263256 \nL 102.594752 183.037017 \nL 109.102041 178.810778 \nL 115.609329 174.584539 \nL 122.116618 170.3583 \nL 128.623907 166.132061 \nL 135.131195 161.905822 \nL 141.638484 157.679583 \nL 148.145773 153.453344 \nL 154.653061 149.227105 \nL 161.16035 145.000866 \nL 167.667638 140.774626 \nL 174.174927 136.548387 \nL 180.682216 132.322148 \nL 187.189504 128.095909 \nL 193.696793 123.86967 \nL 200.204082 119.643431 \nL 206.71137 115.417192 \nL 213.218659 111.190953 \nL 219.725948 106.964714 \nL 226.233236 102.738475 \nL 232.740525 98.512236 \nL 239.247813 94.285997 \nL 245.755102 90.059758 \nL 252.262391 85.833519 \nL 258.769679 81.60728 \nL 265.276968 77.38104 \nL 271.784257 73.154801 \nL 278.291545 68.928562 \nL 284.798834 64.702323 \nL 291.306122 60.476084 \nL 297.813411 56.249845 \nL 304.3207 52.023606 \nL 310.827988 47.797367 \nL 317.335277 43.571128 \nL 323.842566 39.344889 \nL 330.349854 35.11865 \nL 336.857143 30.892411 \n\" style=\"fill:none;stroke:#ff0000;stroke-linecap:square;stroke-width:2;\"/>\n   </g>\n   <g id=\"patch_4\">\n    <path d=\"M 18 237.978125 \nL 18 20.538125 \n\" style=\"fill:none;stroke:#000000;stroke-linecap:square;stroke-linejoin:miter;stroke-width:0.8;\"/>\n   </g>\n   <g id=\"patch_5\">\n    <path d=\"M 18 237.978125 \nL 352.8 237.978125 \n\" style=\"fill:none;stroke:#000000;stroke-linecap:square;stroke-linejoin:miter;stroke-width:0.8;\"/>\n   </g>\n   <g id=\"text_3\">\n    <!-- $\\int_a^b f(x)\\mathrm{d}x = P(X \\geq a)$ -->\n    <defs>\n     <path d=\"M 33.34375 86.328125 \nQ 33.9375 97.859375 39.5 102.4375 \nQ 45.0625 107.03125 50.28125 107.03125 \nQ 55.515625 107.03125 59.890625 102.734375 \nQ 64.265625 98.4375 65.625 88.71875 \nL 55.375 87.703125 \nQ 54.203125 96.6875 50.296875 96.6875 \nQ 45.40625 96.6875 44.828125 84.578125 \nL 40.328125 -9.328125 \nQ 39.796875 -20.84375 34.171875 -25.4375 \nQ 28.5625 -30.03125 23.390625 -30.03125 \nQ 18.171875 -30.03125 13.796875 -25.734375 \nQ 9.421875 -21.4375 8.0625 -11.71875 \nL 18.3125 -10.6875 \nQ 19.484375 -19.671875 23.390625 -19.671875 \nQ 28.265625 -19.671875 28.859375 -7.625 \nz\n\" id=\"DejaVuSansDisplay-8747\"/>\n     <path d=\"M 47.796875 75.984375 \nL 46.390625 68.5 \nL 37.796875 68.5 \nQ 32.90625 68.5 30.6875 66.578125 \nQ 28.46875 64.65625 27.390625 59.515625 \nL 26.421875 54.6875 \nL 41.21875 54.6875 \nL 39.890625 47.703125 \nL 25.09375 47.703125 \nL 15.828125 0 \nL 6.78125 0 \nL 16.109375 47.703125 \nL 7.515625 47.703125 \nL 8.796875 54.6875 \nL 17.390625 54.6875 \nL 18.109375 58.5 \nQ 19.96875 68.171875 24.625 72.078125 \nQ 29.296875 75.984375 39.3125 75.984375 \nz\n\" id=\"DejaVuSans-Oblique-102\"/>\n     <path d=\"M 31 75.875 \nQ 24.46875 64.65625 21.28125 53.65625 \nQ 18.109375 42.671875 18.109375 31.390625 \nQ 18.109375 20.125 21.3125 9.0625 \nQ 24.515625 -2 31 -13.1875 \nL 23.1875 -13.1875 \nQ 15.875 -1.703125 12.234375 9.375 \nQ 8.59375 20.453125 8.59375 31.390625 \nQ 8.59375 42.28125 12.203125 53.3125 \nQ 15.828125 64.359375 23.1875 75.875 \nz\n\" id=\"DejaVuSans-40\"/>\n     <path d=\"M 60.015625 54.6875 \nL 34.90625 27.875 \nL 50.296875 0 \nL 39.984375 0 \nL 28.421875 21.6875 \nL 8.296875 0 \nL -2.59375 0 \nL 24.3125 28.8125 \nL 10.015625 54.6875 \nL 20.3125 54.6875 \nL 30.8125 34.90625 \nL 49.125 54.6875 \nz\n\" id=\"DejaVuSans-Oblique-120\"/>\n     <path d=\"M 8.015625 75.875 \nL 15.828125 75.875 \nQ 23.140625 64.359375 26.78125 53.3125 \nQ 30.421875 42.28125 30.421875 31.390625 \nQ 30.421875 20.453125 26.78125 9.375 \nQ 23.140625 -1.703125 15.828125 -13.1875 \nL 8.015625 -13.1875 \nQ 14.5 -2 17.703125 9.0625 \nQ 20.90625 20.125 20.90625 31.390625 \nQ 20.90625 42.671875 17.703125 53.65625 \nQ 14.5 64.65625 8.015625 75.875 \nz\n\" id=\"DejaVuSans-41\"/>\n     <path d=\"M 45.40625 46.390625 \nL 45.40625 75.984375 \nL 54.390625 75.984375 \nL 54.390625 0 \nL 45.40625 0 \nL 45.40625 8.203125 \nQ 42.578125 3.328125 38.25 0.953125 \nQ 33.9375 -1.421875 27.875 -1.421875 \nQ 17.96875 -1.421875 11.734375 6.484375 \nQ 5.515625 14.40625 5.515625 27.296875 \nQ 5.515625 40.1875 11.734375 48.09375 \nQ 17.96875 56 27.875 56 \nQ 33.9375 56 38.25 53.625 \nQ 42.578125 51.265625 45.40625 46.390625 \nz\nM 14.796875 27.296875 \nQ 14.796875 17.390625 18.875 11.75 \nQ 22.953125 6.109375 30.078125 6.109375 \nQ 37.203125 6.109375 41.296875 11.75 \nQ 45.40625 17.390625 45.40625 27.296875 \nQ 45.40625 37.203125 41.296875 42.84375 \nQ 37.203125 48.484375 30.078125 48.484375 \nQ 22.953125 48.484375 18.875 42.84375 \nQ 14.796875 37.203125 14.796875 27.296875 \nz\n\" id=\"DejaVuSans-100\"/>\n     <path d=\"M 10.59375 45.40625 \nL 73.1875 45.40625 \nL 73.1875 37.203125 \nL 10.59375 37.203125 \nz\nM 10.59375 25.484375 \nL 73.1875 25.484375 \nL 73.1875 17.1875 \nL 10.59375 17.1875 \nz\n\" id=\"DejaVuSans-61\"/>\n     <path d=\"M 16.890625 72.90625 \nL 39.703125 72.90625 \nQ 49.65625 72.90625 54.875 68.265625 \nQ 60.109375 63.625 60.109375 54.6875 \nQ 60.109375 42.671875 52.390625 35.984375 \nQ 44.671875 29.296875 30.71875 29.296875 \nL 18.3125 29.296875 \nL 12.59375 0 \nL 2.6875 0 \nz\nM 25.203125 64.796875 \nL 19.921875 37.40625 \nL 32.328125 37.40625 \nQ 40.71875 37.40625 45.203125 41.703125 \nQ 49.703125 46 49.703125 54 \nQ 49.703125 59.125 46.65625 61.953125 \nQ 43.609375 64.796875 38.09375 64.796875 \nz\n\" id=\"DejaVuSans-Oblique-80\"/>\n     <path d=\"M 13.71875 72.90625 \nL 23.6875 72.90625 \nL 36.1875 46.578125 \nL 58.796875 72.90625 \nL 70.3125 72.90625 \nL 40.28125 38.09375 \nL 58.40625 0 \nL 48.484375 0 \nL 33.796875 30.71875 \nL 7.171875 0 \nL -4.296875 0 \nL 29.78125 39.203125 \nz\n\" id=\"DejaVuSans-Oblique-88\"/>\n     <path d=\"M 10.59375 49.609375 \nL 10.59375 58.203125 \nL 73.1875 40.28125 \nL 73.1875 31.984375 \nL 10.59375 14.015625 \nL 10.59375 22.703125 \nL 57.515625 36.078125 \nz\nM 73.1875 8.296875 \nL 73.1875 0 \nL 10.59375 0 \nL 10.59375 8.296875 \nz\n\" id=\"DejaVuSans-8805\"/>\n    </defs>\n    <g transform=\"translate(191.342857 186.206696)scale(0.14 -0.14)\">\n     <use transform=\"translate(0 0.654688)\" xlink:href=\"#DejaVuSansDisplay-8747\"/>\n     <use transform=\"translate(86.744141 85.810937)scale(0.7)\" xlink:href=\"#DejaVuSans-Oblique-98\"/>\n     <use transform=\"translate(71.759766 -51.251563)scale(0.7)\" xlink:href=\"#DejaVuSans-Oblique-97\"/>\n     <use transform=\"translate(131.177734 0.654688)\" xlink:href=\"#DejaVuSans-Oblique-102\"/>\n     <use transform=\"translate(166.382812 0.654688)\" xlink:href=\"#DejaVuSans-40\"/>\n     <use transform=\"translate(205.396484 0.654688)\" xlink:href=\"#DejaVuSans-Oblique-120\"/>\n     <use transform=\"translate(264.576172 0.654688)\" xlink:href=\"#DejaVuSans-41\"/>\n     <use transform=\"translate(303.589844 0.654688)\" xlink:href=\"#DejaVuSans-100\"/>\n     <use transform=\"translate(367.066406 0.654688)\" xlink:href=\"#DejaVuSans-Oblique-120\"/>\n     <use transform=\"translate(445.728516 0.654688)\" xlink:href=\"#DejaVuSans-61\"/>\n     <use transform=\"translate(549 0.654688)\" xlink:href=\"#DejaVuSans-Oblique-80\"/>\n     <use transform=\"translate(609.302734 0.654688)\" xlink:href=\"#DejaVuSans-40\"/>\n     <use transform=\"translate(648.316406 0.654688)\" xlink:href=\"#DejaVuSans-Oblique-88\"/>\n     <use transform=\"translate(736.304688 0.654688)\" xlink:href=\"#DejaVuSans-8805\"/>\n     <use transform=\"translate(839.576172 0.654688)\" xlink:href=\"#DejaVuSans-Oblique-97\"/>\n     <use transform=\"translate(900.855469 0.654688)\" xlink:href=\"#DejaVuSans-41\"/>\n    </g>\n   </g>\n  </g>\n  <g id=\"text_4\">\n   <!-- $x$ -->\n   <g transform=\"translate(352.8 259.578125)scale(0.1 -0.1)\">\n    <use transform=\"translate(0 0.3125)\" xlink:href=\"#DejaVuSans-Oblique-120\"/>\n   </g>\n  </g>\n  <g id=\"text_5\">\n   <!-- $y$ -->\n   <defs>\n    <path d=\"M 24.8125 -5.078125 \nQ 18.5625 -15.578125 14.625 -18.1875 \nQ 10.6875 -20.796875 4.59375 -20.796875 \nL -2.484375 -20.796875 \nL -0.984375 -13.28125 \nL 4.203125 -13.28125 \nQ 7.953125 -13.28125 10.59375 -11.234375 \nQ 13.234375 -9.1875 16.5 -3.21875 \nL 19.28125 2 \nL 7.171875 54.6875 \nL 16.703125 54.6875 \nL 25.78125 12.796875 \nL 50.875 54.6875 \nL 60.296875 54.6875 \nz\n\" id=\"DejaVuSans-Oblique-121\"/>\n   </defs>\n   <g transform=\"translate(7.2 14.778125)scale(0.1 -0.1)\">\n    <use transform=\"translate(0 0.3125)\" xlink:href=\"#DejaVuSans-Oblique-121\"/>\n   </g>\n  </g>\n </g>\n <defs>\n  <clipPath id=\"p102ca44516\">\n   <rect height=\"217.44\" width=\"334.8\" x=\"18\" y=\"20.538125\"/>\n  </clipPath>\n </defs>\n</svg>\n",
      "image/png": "[encoded data removed]"
     },
     "metadata": {
      "needs_background": "light"
     }
    }
   ],
   "source": [
    "import numpy as np\n",
    "import matplotlib.pyplot as plt\n",
    "from matplotlib.patches import Polygon\n",
    "\n",
    "\n",
    "def func(x):\n",
    "    return 2 * x\n",
    "\n",
    "a, b = 0.5, 1  # integral limits\n",
    "x = np.linspace(0, 1)\n",
    "y = func(x)\n",
    "\n",
    "fig, ax = plt.subplots()\n",
    "ax.plot(x, y, 'r', linewidth=2)\n",
    "ax.set_ylim(bottom=0)\n",
    "ax.set_xlim(0)\n",
    "\n",
    "# Make the shaded region\n",
    "ix = np.linspace(a, b)\n",
    "iy = func(ix)\n",
    "verts = [(a, 0), *zip(ix, iy), (b, 0)]\n",
    "poly = Polygon(verts, facecolor='0.9', edgecolor='0.5')\n",
    "ax.add_patch(poly)\n",
    "\n",
    "ax.text(0.5 * (a + b), 0.5, r\"$\\int_a^b f(x)\\mathrm{d}x = P(X \\geq a)$\", horizontalalignment='center', fontsize=14)\n",
    "\n",
    "fig.text(0.9, 0.05, '$x$')\n",
    "fig.text(0.1, 0.9, '$y$')\n",
    "\n",
    "ax.spines['right'].set_visible(False)\n",
    "ax.spines['top'].set_visible(False)\n",
    "ax.xaxis.set_ticks_position('bottom')\n",
    "\n",
    "ax.set_xticks((a, b))\n",
    "ax.set_xticklabels(('$a$', '$b$'))\n",
    "ax.set_yticks([])\n",
    "\n",
    "plt.show()"
   ]
  },
  {
   "source": [
    "So, for $P(X \\geq \\frac{1}{2})$ we have:"
   ],
   "cell_type": "markdown",
   "metadata": {}
  },
  {
   "cell_type": "code",
   "execution_count": 39,
   "metadata": {},
   "outputs": [
    {
     "output_type": "execute_result",
     "data": {
      "text/plain": [
       "0.750000000000000"
      ],
      "text/latex": "$\\displaystyle 0.75$"
     },
     "metadata": {},
     "execution_count": 39
    }
   ],
   "source": [
    "import sympy as sp \n",
    "\n",
    "x = sp.Symbol('x') \n",
    "y = 2*x \n",
    "sp.integrate(y,(x, 1/2, 1))"
   ]
  },
  {
   "source": [
    "### Random variable simulation <a name=\"randsim\"></a>"
   ],
   "cell_type": "markdown",
   "metadata": {}
  },
  {
   "source": [
    "\n",
    "*Problem:* A player pays 5 dollars to participate in a dice game, disputing with the opponent who has the highest point. The player and the opponent each throw their dice and the following award rule is established:\n",
    "\n",
    "(i) If the player's point is higher, he wins 2 times the difference between his point and the one obtained by his opponent.\n",
    "\n",
    "(ii) If the player's point is less than or equal to that of the opponent, he wins nothing.\n",
    "\n",
    "Is this game favorable to the player?\n",
    "\n",
    "----\n",
    "\n",
    "We can solve it simulating many games to find the frequency of the player having profit."
   ],
   "cell_type": "markdown",
   "metadata": {}
  },
  {
   "cell_type": "code",
   "execution_count": 17,
   "metadata": {},
   "outputs": [
    {
     "output_type": "stream",
     "name": "stdout",
     "text": [
      "Bet: 5 dollars.\nProbability of profit: 0.166387\n"
     ]
    }
   ],
   "source": [
    "from random import randint\n",
    "\n",
    "bet = 5\n",
    "Ns = 1000000 # Number of games\n",
    "p = 0\n",
    "\n",
    "for n in range(1,Ns):\n",
    "    G = 0\n",
    "    j = randint(1, 6) # Player\n",
    "    b = randint(1, 6) # Oponent\n",
    "    if(j > b): # If the player has a greater value\n",
    "        G = 2*(j-b)\n",
    "    if(G > bet): # If there's profit\n",
    "        p = p + 1\n",
    "\n",
    "p = p/Ns # Probability of profit\n",
    "print('Bet:', bet, 'dollars.')\n",
    "print(\"Probability of profit:\", p)"
   ]
  },
  {
   "source": [
    "But we must understand that the profit is a function with the following form:\n",
    "\n",
    "$ G = \\left\\{ \\begin{array}{cl}\n",
    "2(Y - X) & : \\ Y > X \\\\\n",
    "0 & : \\ Y \\leq X\n",
    "\\end{array} \\right.$\n",
    "\n",
    "With the following probability distribution:\n",
    "\n",
    "| $G$ | 0 | 2 | 4 | 6 | 8 | 10 |\n",
    "|---|---|---|---|---|---|----|\n",
    "| $P(G = g)$  | $\\frac{21}{36}$  | $\\frac{5}{36}$  | $\\frac{4}{36}$  |  $\\frac{3}{36}$ | $\\frac{2}{36}$  |  $\\frac{1}{36}$  |"
   ],
   "cell_type": "markdown",
   "metadata": {}
  },
  {
   "cell_type": "code",
   "execution_count": 10,
   "metadata": {},
   "outputs": [
    {
     "output_type": "display_data",
     "data": {
      "text/plain": "<Figure size 576x288 with 1 Axes>",
      "image/svg+xml": "<?xml version=\"1.0\" encoding=\"utf-8\" standalone=\"no\"?>\n<!DOCTYPE svg PUBLIC \"-//W3C//DTD SVG 1.1//EN\"\n  \"http://www.w3.org/Graphics/SVG/1.1/DTD/svg11.dtd\">\n<!-- Created with matplotlib (https://matplotlib.org/) -->\n<svg height=\"277.314375pt\" version=\"1.1\" viewBox=\"0 0 483.703125 277.314375\" width=\"483.703125pt\" xmlns=\"http://www.w3.org/2000/svg\" xmlns:xlink=\"http://www.w3.org/1999/xlink\">\n <defs>\n  <style type=\"text/css\">\n*{stroke-linecap:butt;stroke-linejoin:round;}\n  </style>\n </defs>\n <g id=\"figure_1\">\n  <g id=\"patch_1\">\n   <path d=\"M 0 277.314375 \nL 483.703125 277.314375 \nL 483.703125 0 \nL 0 0 \nz\n\" style=\"fill:none;\"/>\n  </g>\n  <g id=\"axes_1\">\n   <g id=\"patch_2\">\n    <path d=\"M 30.103125 239.758125 \nL 476.503125 239.758125 \nL 476.503125 22.318125 \nL 30.103125 22.318125 \nz\n\" style=\"fill:#ffffff;\"/>\n   </g>\n   <g id=\"patch_3\">\n    <path clip-path=\"url(#p348c15801b)\" d=\"M 48.703125 239.758125 \nL 85.903125 239.758125 \nL 85.903125 32.672411 \nL 48.703125 32.672411 \nz\n\" style=\"fill:#1f77b4;\"/>\n   </g>\n   <g id=\"patch_4\">\n    <path clip-path=\"url(#p348c15801b)\" d=\"M 123.103125 239.758125 \nL 160.303125 239.758125 \nL 160.303125 190.452003 \nL 123.103125 190.452003 \nz\n\" style=\"fill:#1f77b4;\"/>\n   </g>\n   <g id=\"patch_5\">\n    <path clip-path=\"url(#p348c15801b)\" d=\"M 197.503125 239.758125 \nL 234.703125 239.758125 \nL 234.703125 200.313227 \nL 197.503125 200.313227 \nz\n\" style=\"fill:#1f77b4;\"/>\n   </g>\n   <g id=\"patch_6\">\n    <path clip-path=\"url(#p348c15801b)\" d=\"M 271.903125 239.758125 \nL 309.103125 239.758125 \nL 309.103125 210.174452 \nL 271.903125 210.174452 \nz\n\" style=\"fill:#1f77b4;\"/>\n   </g>\n   <g id=\"patch_7\">\n    <path clip-path=\"url(#p348c15801b)\" d=\"M 346.303125 239.758125 \nL 383.503125 239.758125 \nL 383.503125 220.035676 \nL 346.303125 220.035676 \nz\n\" style=\"fill:#1f77b4;\"/>\n   </g>\n   <g id=\"patch_8\">\n    <path clip-path=\"url(#p348c15801b)\" d=\"M 420.703125 239.758125 \nL 457.903125 239.758125 \nL 457.903125 229.896901 \nL 420.703125 229.896901 \nz\n\" style=\"fill:#1f77b4;\"/>\n   </g>\n   <g id=\"matplotlib.axis_1\">\n    <g id=\"xtick_1\">\n     <g id=\"line2d_1\">\n      <defs>\n       <path d=\"M 0 0 \nL 0 3.5 \n\" id=\"m19c385c340\" style=\"stroke:#000000;stroke-width:0.8;\"/>\n      </defs>\n      <g>\n       <use style=\"stroke:#000000;stroke-width:0.8;\" x=\"67.303125\" xlink:href=\"#m19c385c340\" y=\"239.758125\"/>\n      </g>\n     </g>\n     <g id=\"text_1\">\n      <!-- 0 -->\n      <defs>\n       <path d=\"M 31.78125 66.40625 \nQ 24.171875 66.40625 20.328125 58.90625 \nQ 16.5 51.421875 16.5 36.375 \nQ 16.5 21.390625 20.328125 13.890625 \nQ 24.171875 6.390625 31.78125 6.390625 \nQ 39.453125 6.390625 43.28125 13.890625 \nQ 47.125 21.390625 47.125 36.375 \nQ 47.125 51.421875 43.28125 58.90625 \nQ 39.453125 66.40625 31.78125 66.40625 \nz\nM 31.78125 74.21875 \nQ 44.046875 74.21875 50.515625 64.515625 \nQ 56.984375 54.828125 56.984375 36.375 \nQ 56.984375 17.96875 50.515625 8.265625 \nQ 44.046875 -1.421875 31.78125 -1.421875 \nQ 19.53125 -1.421875 13.0625 8.265625 \nQ 6.59375 17.96875 6.59375 36.375 \nQ 6.59375 54.828125 13.0625 64.515625 \nQ 19.53125 74.21875 31.78125 74.21875 \nz\n\" id=\"DejaVuSans-48\"/>\n      </defs>\n      <g transform=\"translate(64.121875 254.356562)scale(0.1 -0.1)\">\n       <use xlink:href=\"#DejaVuSans-48\"/>\n      </g>\n     </g>\n    </g>\n    <g id=\"xtick_2\">\n     <g id=\"line2d_2\">\n      <g>\n       <use style=\"stroke:#000000;stroke-width:0.8;\" x=\"141.703125\" xlink:href=\"#m19c385c340\" y=\"239.758125\"/>\n      </g>\n     </g>\n     <g id=\"text_2\">\n      <!-- 2 -->\n      <defs>\n       <path d=\"M 19.1875 8.296875 \nL 53.609375 8.296875 \nL 53.609375 0 \nL 7.328125 0 \nL 7.328125 8.296875 \nQ 12.9375 14.109375 22.625 23.890625 \nQ 32.328125 33.6875 34.8125 36.53125 \nQ 39.546875 41.84375 41.421875 45.53125 \nQ 43.3125 49.21875 43.3125 52.78125 \nQ 43.3125 58.59375 39.234375 62.25 \nQ 35.15625 65.921875 28.609375 65.921875 \nQ 23.96875 65.921875 18.8125 64.3125 \nQ 13.671875 62.703125 7.8125 59.421875 \nL 7.8125 69.390625 \nQ 13.765625 71.78125 18.9375 73 \nQ 24.125 74.21875 28.421875 74.21875 \nQ 39.75 74.21875 46.484375 68.546875 \nQ 53.21875 62.890625 53.21875 53.421875 \nQ 53.21875 48.921875 51.53125 44.890625 \nQ 49.859375 40.875 45.40625 35.40625 \nQ 44.1875 33.984375 37.640625 27.21875 \nQ 31.109375 20.453125 19.1875 8.296875 \nz\n\" id=\"DejaVuSans-50\"/>\n      </defs>\n      <g transform=\"translate(138.521875 254.356562)scale(0.1 -0.1)\">\n       <use xlink:href=\"#DejaVuSans-50\"/>\n      </g>\n     </g>\n    </g>\n    <g id=\"xtick_3\">\n     <g id=\"line2d_3\">\n      <g>\n       <use style=\"stroke:#000000;stroke-width:0.8;\" x=\"216.103125\" xlink:href=\"#m19c385c340\" y=\"239.758125\"/>\n      </g>\n     </g>\n     <g id=\"text_3\">\n      <!-- 4 -->\n      <defs>\n       <path d=\"M 37.796875 64.3125 \nL 12.890625 25.390625 \nL 37.796875 25.390625 \nz\nM 35.203125 72.90625 \nL 47.609375 72.90625 \nL 47.609375 25.390625 \nL 58.015625 25.390625 \nL 58.015625 17.1875 \nL 47.609375 17.1875 \nL 47.609375 0 \nL 37.796875 0 \nL 37.796875 17.1875 \nL 4.890625 17.1875 \nL 4.890625 26.703125 \nz\n\" id=\"DejaVuSans-52\"/>\n      </defs>\n      <g transform=\"translate(212.921875 254.356562)scale(0.1 -0.1)\">\n       <use xlink:href=\"#DejaVuSans-52\"/>\n      </g>\n     </g>\n    </g>\n    <g id=\"xtick_4\">\n     <g id=\"line2d_4\">\n      <g>\n       <use style=\"stroke:#000000;stroke-width:0.8;\" x=\"290.503125\" xlink:href=\"#m19c385c340\" y=\"239.758125\"/>\n      </g>\n     </g>\n     <g id=\"text_4\">\n      <!-- 6 -->\n      <defs>\n       <path d=\"M 33.015625 40.375 \nQ 26.375 40.375 22.484375 35.828125 \nQ 18.609375 31.296875 18.609375 23.390625 \nQ 18.609375 15.53125 22.484375 10.953125 \nQ 26.375 6.390625 33.015625 6.390625 \nQ 39.65625 6.390625 43.53125 10.953125 \nQ 47.40625 15.53125 47.40625 23.390625 \nQ 47.40625 31.296875 43.53125 35.828125 \nQ 39.65625 40.375 33.015625 40.375 \nz\nM 52.59375 71.296875 \nL 52.59375 62.3125 \nQ 48.875 64.0625 45.09375 64.984375 \nQ 41.3125 65.921875 37.59375 65.921875 \nQ 27.828125 65.921875 22.671875 59.328125 \nQ 17.53125 52.734375 16.796875 39.40625 \nQ 19.671875 43.65625 24.015625 45.921875 \nQ 28.375 48.1875 33.59375 48.1875 \nQ 44.578125 48.1875 50.953125 41.515625 \nQ 57.328125 34.859375 57.328125 23.390625 \nQ 57.328125 12.15625 50.6875 5.359375 \nQ 44.046875 -1.421875 33.015625 -1.421875 \nQ 20.359375 -1.421875 13.671875 8.265625 \nQ 6.984375 17.96875 6.984375 36.375 \nQ 6.984375 53.65625 15.1875 63.9375 \nQ 23.390625 74.21875 37.203125 74.21875 \nQ 40.921875 74.21875 44.703125 73.484375 \nQ 48.484375 72.75 52.59375 71.296875 \nz\n\" id=\"DejaVuSans-54\"/>\n      </defs>\n      <g transform=\"translate(287.321875 254.356562)scale(0.1 -0.1)\">\n       <use xlink:href=\"#DejaVuSans-54\"/>\n      </g>\n     </g>\n    </g>\n    <g id=\"xtick_5\">\n     <g id=\"line2d_5\">\n      <g>\n       <use style=\"stroke:#000000;stroke-width:0.8;\" x=\"364.903125\" xlink:href=\"#m19c385c340\" y=\"239.758125\"/>\n      </g>\n     </g>\n     <g id=\"text_5\">\n      <!-- 8 -->\n      <defs>\n       <path d=\"M 31.78125 34.625 \nQ 24.75 34.625 20.71875 30.859375 \nQ 16.703125 27.09375 16.703125 20.515625 \nQ 16.703125 13.921875 20.71875 10.15625 \nQ 24.75 6.390625 31.78125 6.390625 \nQ 38.8125 6.390625 42.859375 10.171875 \nQ 46.921875 13.96875 46.921875 20.515625 \nQ 46.921875 27.09375 42.890625 30.859375 \nQ 38.875 34.625 31.78125 34.625 \nz\nM 21.921875 38.8125 \nQ 15.578125 40.375 12.03125 44.71875 \nQ 8.5 49.078125 8.5 55.328125 \nQ 8.5 64.0625 14.71875 69.140625 \nQ 20.953125 74.21875 31.78125 74.21875 \nQ 42.671875 74.21875 48.875 69.140625 \nQ 55.078125 64.0625 55.078125 55.328125 \nQ 55.078125 49.078125 51.53125 44.71875 \nQ 48 40.375 41.703125 38.8125 \nQ 48.828125 37.15625 52.796875 32.3125 \nQ 56.78125 27.484375 56.78125 20.515625 \nQ 56.78125 9.90625 50.3125 4.234375 \nQ 43.84375 -1.421875 31.78125 -1.421875 \nQ 19.734375 -1.421875 13.25 4.234375 \nQ 6.78125 9.90625 6.78125 20.515625 \nQ 6.78125 27.484375 10.78125 32.3125 \nQ 14.796875 37.15625 21.921875 38.8125 \nz\nM 18.3125 54.390625 \nQ 18.3125 48.734375 21.84375 45.5625 \nQ 25.390625 42.390625 31.78125 42.390625 \nQ 38.140625 42.390625 41.71875 45.5625 \nQ 45.3125 48.734375 45.3125 54.390625 \nQ 45.3125 60.0625 41.71875 63.234375 \nQ 38.140625 66.40625 31.78125 66.40625 \nQ 25.390625 66.40625 21.84375 63.234375 \nQ 18.3125 60.0625 18.3125 54.390625 \nz\n\" id=\"DejaVuSans-56\"/>\n      </defs>\n      <g transform=\"translate(361.721875 254.356562)scale(0.1 -0.1)\">\n       <use xlink:href=\"#DejaVuSans-56\"/>\n      </g>\n     </g>\n    </g>\n    <g id=\"xtick_6\">\n     <g id=\"line2d_6\">\n      <g>\n       <use style=\"stroke:#000000;stroke-width:0.8;\" x=\"439.303125\" xlink:href=\"#m19c385c340\" y=\"239.758125\"/>\n      </g>\n     </g>\n     <g id=\"text_6\">\n      <!-- 10 -->\n      <defs>\n       <path d=\"M 12.40625 8.296875 \nL 28.515625 8.296875 \nL 28.515625 63.921875 \nL 10.984375 60.40625 \nL 10.984375 69.390625 \nL 28.421875 72.90625 \nL 38.28125 72.90625 \nL 38.28125 8.296875 \nL 54.390625 8.296875 \nL 54.390625 0 \nL 12.40625 0 \nz\n\" id=\"DejaVuSans-49\"/>\n      </defs>\n      <g transform=\"translate(432.940625 254.356562)scale(0.1 -0.1)\">\n       <use xlink:href=\"#DejaVuSans-49\"/>\n       <use x=\"63.623047\" xlink:href=\"#DejaVuSans-48\"/>\n      </g>\n     </g>\n    </g>\n    <g id=\"text_7\">\n     <!-- Value -->\n     <defs>\n      <path d=\"M 28.609375 0 \nL 0.78125 72.90625 \nL 11.078125 72.90625 \nL 34.1875 11.53125 \nL 57.328125 72.90625 \nL 67.578125 72.90625 \nL 39.796875 0 \nz\n\" id=\"DejaVuSans-86\"/>\n      <path d=\"M 34.28125 27.484375 \nQ 23.390625 27.484375 19.1875 25 \nQ 14.984375 22.515625 14.984375 16.5 \nQ 14.984375 11.71875 18.140625 8.90625 \nQ 21.296875 6.109375 26.703125 6.109375 \nQ 34.1875 6.109375 38.703125 11.40625 \nQ 43.21875 16.703125 43.21875 25.484375 \nL 43.21875 27.484375 \nz\nM 52.203125 31.203125 \nL 52.203125 0 \nL 43.21875 0 \nL 43.21875 8.296875 \nQ 40.140625 3.328125 35.546875 0.953125 \nQ 30.953125 -1.421875 24.3125 -1.421875 \nQ 15.921875 -1.421875 10.953125 3.296875 \nQ 6 8.015625 6 15.921875 \nQ 6 25.140625 12.171875 29.828125 \nQ 18.359375 34.515625 30.609375 34.515625 \nL 43.21875 34.515625 \nL 43.21875 35.40625 \nQ 43.21875 41.609375 39.140625 45 \nQ 35.0625 48.390625 27.6875 48.390625 \nQ 23 48.390625 18.546875 47.265625 \nQ 14.109375 46.140625 10.015625 43.890625 \nL 10.015625 52.203125 \nQ 14.9375 54.109375 19.578125 55.046875 \nQ 24.21875 56 28.609375 56 \nQ 40.484375 56 46.34375 49.84375 \nQ 52.203125 43.703125 52.203125 31.203125 \nz\n\" id=\"DejaVuSans-97\"/>\n      <path d=\"M 9.421875 75.984375 \nL 18.40625 75.984375 \nL 18.40625 0 \nL 9.421875 0 \nz\n\" id=\"DejaVuSans-108\"/>\n      <path d=\"M 8.5 21.578125 \nL 8.5 54.6875 \nL 17.484375 54.6875 \nL 17.484375 21.921875 \nQ 17.484375 14.15625 20.5 10.265625 \nQ 23.53125 6.390625 29.59375 6.390625 \nQ 36.859375 6.390625 41.078125 11.03125 \nQ 45.3125 15.671875 45.3125 23.6875 \nL 45.3125 54.6875 \nL 54.296875 54.6875 \nL 54.296875 0 \nL 45.3125 0 \nL 45.3125 8.40625 \nQ 42.046875 3.421875 37.71875 1 \nQ 33.40625 -1.421875 27.6875 -1.421875 \nQ 18.265625 -1.421875 13.375 4.4375 \nQ 8.5 10.296875 8.5 21.578125 \nz\nM 31.109375 56 \nz\n\" id=\"DejaVuSans-117\"/>\n      <path d=\"M 56.203125 29.59375 \nL 56.203125 25.203125 \nL 14.890625 25.203125 \nQ 15.484375 15.921875 20.484375 11.0625 \nQ 25.484375 6.203125 34.421875 6.203125 \nQ 39.59375 6.203125 44.453125 7.46875 \nQ 49.3125 8.734375 54.109375 11.28125 \nL 54.109375 2.78125 \nQ 49.265625 0.734375 44.1875 -0.34375 \nQ 39.109375 -1.421875 33.890625 -1.421875 \nQ 20.796875 -1.421875 13.15625 6.1875 \nQ 5.515625 13.8125 5.515625 26.8125 \nQ 5.515625 40.234375 12.765625 48.109375 \nQ 20.015625 56 32.328125 56 \nQ 43.359375 56 49.78125 48.890625 \nQ 56.203125 41.796875 56.203125 29.59375 \nz\nM 47.21875 32.234375 \nQ 47.125 39.59375 43.09375 43.984375 \nQ 39.0625 48.390625 32.421875 48.390625 \nQ 24.90625 48.390625 20.390625 44.140625 \nQ 15.875 39.890625 15.1875 32.171875 \nz\n\" id=\"DejaVuSans-101\"/>\n     </defs>\n     <g transform=\"translate(239.571875 268.034687)scale(0.1 -0.1)\">\n      <use xlink:href=\"#DejaVuSans-86\"/>\n      <use x=\"60.658203\" xlink:href=\"#DejaVuSans-97\"/>\n      <use x=\"121.9375\" xlink:href=\"#DejaVuSans-108\"/>\n      <use x=\"149.720703\" xlink:href=\"#DejaVuSans-117\"/>\n      <use x=\"213.099609\" xlink:href=\"#DejaVuSans-101\"/>\n     </g>\n    </g>\n   </g>\n   <g id=\"matplotlib.axis_2\">\n    <g id=\"ytick_1\">\n     <g id=\"line2d_7\">\n      <defs>\n       <path d=\"M 0 0 \nL -3.5 0 \n\" id=\"m15f9b1c2f3\" style=\"stroke:#000000;stroke-width:0.8;\"/>\n      </defs>\n      <g>\n       <use style=\"stroke:#000000;stroke-width:0.8;\" x=\"30.103125\" xlink:href=\"#m15f9b1c2f3\" y=\"239.758125\"/>\n      </g>\n     </g>\n     <g id=\"text_8\">\n      <!-- 0.0 -->\n      <defs>\n       <path d=\"M 10.6875 12.40625 \nL 21 12.40625 \nL 21 0 \nL 10.6875 0 \nz\n\" id=\"DejaVuSans-46\"/>\n      </defs>\n      <g transform=\"translate(7.2 243.557344)scale(0.1 -0.1)\">\n       <use xlink:href=\"#DejaVuSans-48\"/>\n       <use x=\"63.623047\" xlink:href=\"#DejaVuSans-46\"/>\n       <use x=\"95.410156\" xlink:href=\"#DejaVuSans-48\"/>\n      </g>\n     </g>\n    </g>\n    <g id=\"ytick_2\">\n     <g id=\"line2d_8\">\n      <g>\n       <use style=\"stroke:#000000;stroke-width:0.8;\" x=\"30.103125\" xlink:href=\"#m15f9b1c2f3\" y=\"204.257717\"/>\n      </g>\n     </g>\n     <g id=\"text_9\">\n      <!-- 0.1 -->\n      <g transform=\"translate(7.2 208.056936)scale(0.1 -0.1)\">\n       <use xlink:href=\"#DejaVuSans-48\"/>\n       <use x=\"63.623047\" xlink:href=\"#DejaVuSans-46\"/>\n       <use x=\"95.410156\" xlink:href=\"#DejaVuSans-49\"/>\n      </g>\n     </g>\n    </g>\n    <g id=\"ytick_3\">\n     <g id=\"line2d_9\">\n      <g>\n       <use style=\"stroke:#000000;stroke-width:0.8;\" x=\"30.103125\" xlink:href=\"#m15f9b1c2f3\" y=\"168.757309\"/>\n      </g>\n     </g>\n     <g id=\"text_10\">\n      <!-- 0.2 -->\n      <g transform=\"translate(7.2 172.556527)scale(0.1 -0.1)\">\n       <use xlink:href=\"#DejaVuSans-48\"/>\n       <use x=\"63.623047\" xlink:href=\"#DejaVuSans-46\"/>\n       <use x=\"95.410156\" xlink:href=\"#DejaVuSans-50\"/>\n      </g>\n     </g>\n    </g>\n    <g id=\"ytick_4\">\n     <g id=\"line2d_10\">\n      <g>\n       <use style=\"stroke:#000000;stroke-width:0.8;\" x=\"30.103125\" xlink:href=\"#m15f9b1c2f3\" y=\"133.256901\"/>\n      </g>\n     </g>\n     <g id=\"text_11\">\n      <!-- 0.3 -->\n      <defs>\n       <path d=\"M 40.578125 39.3125 \nQ 47.65625 37.796875 51.625 33 \nQ 55.609375 28.21875 55.609375 21.1875 \nQ 55.609375 10.40625 48.1875 4.484375 \nQ 40.765625 -1.421875 27.09375 -1.421875 \nQ 22.515625 -1.421875 17.65625 -0.515625 \nQ 12.796875 0.390625 7.625 2.203125 \nL 7.625 11.71875 \nQ 11.71875 9.328125 16.59375 8.109375 \nQ 21.484375 6.890625 26.8125 6.890625 \nQ 36.078125 6.890625 40.9375 10.546875 \nQ 45.796875 14.203125 45.796875 21.1875 \nQ 45.796875 27.640625 41.28125 31.265625 \nQ 36.765625 34.90625 28.71875 34.90625 \nL 20.21875 34.90625 \nL 20.21875 43.015625 \nL 29.109375 43.015625 \nQ 36.375 43.015625 40.234375 45.921875 \nQ 44.09375 48.828125 44.09375 54.296875 \nQ 44.09375 59.90625 40.109375 62.90625 \nQ 36.140625 65.921875 28.71875 65.921875 \nQ 24.65625 65.921875 20.015625 65.03125 \nQ 15.375 64.15625 9.8125 62.3125 \nL 9.8125 71.09375 \nQ 15.4375 72.65625 20.34375 73.4375 \nQ 25.25 74.21875 29.59375 74.21875 \nQ 40.828125 74.21875 47.359375 69.109375 \nQ 53.90625 64.015625 53.90625 55.328125 \nQ 53.90625 49.265625 50.4375 45.09375 \nQ 46.96875 40.921875 40.578125 39.3125 \nz\n\" id=\"DejaVuSans-51\"/>\n      </defs>\n      <g transform=\"translate(7.2 137.056119)scale(0.1 -0.1)\">\n       <use xlink:href=\"#DejaVuSans-48\"/>\n       <use x=\"63.623047\" xlink:href=\"#DejaVuSans-46\"/>\n       <use x=\"95.410156\" xlink:href=\"#DejaVuSans-51\"/>\n      </g>\n     </g>\n    </g>\n    <g id=\"ytick_5\">\n     <g id=\"line2d_11\">\n      <g>\n       <use style=\"stroke:#000000;stroke-width:0.8;\" x=\"30.103125\" xlink:href=\"#m15f9b1c2f3\" y=\"97.756492\"/>\n      </g>\n     </g>\n     <g id=\"text_12\">\n      <!-- 0.4 -->\n      <g transform=\"translate(7.2 101.555711)scale(0.1 -0.1)\">\n       <use xlink:href=\"#DejaVuSans-48\"/>\n       <use x=\"63.623047\" xlink:href=\"#DejaVuSans-46\"/>\n       <use x=\"95.410156\" xlink:href=\"#DejaVuSans-52\"/>\n      </g>\n     </g>\n    </g>\n    <g id=\"ytick_6\">\n     <g id=\"line2d_12\">\n      <g>\n       <use style=\"stroke:#000000;stroke-width:0.8;\" x=\"30.103125\" xlink:href=\"#m15f9b1c2f3\" y=\"62.256084\"/>\n      </g>\n     </g>\n     <g id=\"text_13\">\n      <!-- 0.5 -->\n      <defs>\n       <path d=\"M 10.796875 72.90625 \nL 49.515625 72.90625 \nL 49.515625 64.59375 \nL 19.828125 64.59375 \nL 19.828125 46.734375 \nQ 21.96875 47.46875 24.109375 47.828125 \nQ 26.265625 48.1875 28.421875 48.1875 \nQ 40.625 48.1875 47.75 41.5 \nQ 54.890625 34.8125 54.890625 23.390625 \nQ 54.890625 11.625 47.5625 5.09375 \nQ 40.234375 -1.421875 26.90625 -1.421875 \nQ 22.3125 -1.421875 17.546875 -0.640625 \nQ 12.796875 0.140625 7.71875 1.703125 \nL 7.71875 11.625 \nQ 12.109375 9.234375 16.796875 8.0625 \nQ 21.484375 6.890625 26.703125 6.890625 \nQ 35.15625 6.890625 40.078125 11.328125 \nQ 45.015625 15.765625 45.015625 23.390625 \nQ 45.015625 31 40.078125 35.4375 \nQ 35.15625 39.890625 26.703125 39.890625 \nQ 22.75 39.890625 18.8125 39.015625 \nQ 14.890625 38.140625 10.796875 36.28125 \nz\n\" id=\"DejaVuSans-53\"/>\n      </defs>\n      <g transform=\"translate(7.2 66.055303)scale(0.1 -0.1)\">\n       <use xlink:href=\"#DejaVuSans-48\"/>\n       <use x=\"63.623047\" xlink:href=\"#DejaVuSans-46\"/>\n       <use x=\"95.410156\" xlink:href=\"#DejaVuSans-53\"/>\n      </g>\n     </g>\n    </g>\n    <g id=\"ytick_7\">\n     <g id=\"line2d_13\">\n      <g>\n       <use style=\"stroke:#000000;stroke-width:0.8;\" x=\"30.103125\" xlink:href=\"#m15f9b1c2f3\" y=\"26.755676\"/>\n      </g>\n     </g>\n     <g id=\"text_14\">\n      <!-- 0.6 -->\n      <g transform=\"translate(7.2 30.554895)scale(0.1 -0.1)\">\n       <use xlink:href=\"#DejaVuSans-48\"/>\n       <use x=\"63.623047\" xlink:href=\"#DejaVuSans-46\"/>\n       <use x=\"95.410156\" xlink:href=\"#DejaVuSans-54\"/>\n      </g>\n     </g>\n    </g>\n   </g>\n   <g id=\"patch_9\">\n    <path d=\"M 30.103125 239.758125 \nL 30.103125 22.318125 \n\" style=\"fill:none;stroke:#000000;stroke-linecap:square;stroke-linejoin:miter;stroke-width:0.8;\"/>\n   </g>\n   <g id=\"patch_10\">\n    <path d=\"M 476.503125 239.758125 \nL 476.503125 22.318125 \n\" style=\"fill:none;stroke:#000000;stroke-linecap:square;stroke-linejoin:miter;stroke-width:0.8;\"/>\n   </g>\n   <g id=\"patch_11\">\n    <path d=\"M 30.103125 239.758125 \nL 476.503125 239.758125 \n\" style=\"fill:none;stroke:#000000;stroke-linecap:square;stroke-linejoin:miter;stroke-width:0.8;\"/>\n   </g>\n   <g id=\"patch_12\">\n    <path d=\"M 30.103125 22.318125 \nL 476.503125 22.318125 \n\" style=\"fill:none;stroke:#000000;stroke-linecap:square;stroke-linejoin:miter;stroke-width:0.8;\"/>\n   </g>\n   <g id=\"text_15\">\n    <!-- Probability for sum of points -->\n    <defs>\n     <path d=\"M 19.671875 64.796875 \nL 19.671875 37.40625 \nL 32.078125 37.40625 \nQ 38.96875 37.40625 42.71875 40.96875 \nQ 46.484375 44.53125 46.484375 51.125 \nQ 46.484375 57.671875 42.71875 61.234375 \nQ 38.96875 64.796875 32.078125 64.796875 \nz\nM 9.8125 72.90625 \nL 32.078125 72.90625 \nQ 44.34375 72.90625 50.609375 67.359375 \nQ 56.890625 61.8125 56.890625 51.125 \nQ 56.890625 40.328125 50.609375 34.8125 \nQ 44.34375 29.296875 32.078125 29.296875 \nL 19.671875 29.296875 \nL 19.671875 0 \nL 9.8125 0 \nz\n\" id=\"DejaVuSans-80\"/>\n     <path d=\"M 41.109375 46.296875 \nQ 39.59375 47.171875 37.8125 47.578125 \nQ 36.03125 48 33.890625 48 \nQ 26.265625 48 22.1875 43.046875 \nQ 18.109375 38.09375 18.109375 28.8125 \nL 18.109375 0 \nL 9.078125 0 \nL 9.078125 54.6875 \nL 18.109375 54.6875 \nL 18.109375 46.1875 \nQ 20.953125 51.171875 25.484375 53.578125 \nQ 30.03125 56 36.53125 56 \nQ 37.453125 56 38.578125 55.875 \nQ 39.703125 55.765625 41.0625 55.515625 \nz\n\" id=\"DejaVuSans-114\"/>\n     <path d=\"M 30.609375 48.390625 \nQ 23.390625 48.390625 19.1875 42.75 \nQ 14.984375 37.109375 14.984375 27.296875 \nQ 14.984375 17.484375 19.15625 11.84375 \nQ 23.34375 6.203125 30.609375 6.203125 \nQ 37.796875 6.203125 41.984375 11.859375 \nQ 46.1875 17.53125 46.1875 27.296875 \nQ 46.1875 37.015625 41.984375 42.703125 \nQ 37.796875 48.390625 30.609375 48.390625 \nz\nM 30.609375 56 \nQ 42.328125 56 49.015625 48.375 \nQ 55.71875 40.765625 55.71875 27.296875 \nQ 55.71875 13.875 49.015625 6.21875 \nQ 42.328125 -1.421875 30.609375 -1.421875 \nQ 18.84375 -1.421875 12.171875 6.21875 \nQ 5.515625 13.875 5.515625 27.296875 \nQ 5.515625 40.765625 12.171875 48.375 \nQ 18.84375 56 30.609375 56 \nz\n\" id=\"DejaVuSans-111\"/>\n     <path d=\"M 48.6875 27.296875 \nQ 48.6875 37.203125 44.609375 42.84375 \nQ 40.53125 48.484375 33.40625 48.484375 \nQ 26.265625 48.484375 22.1875 42.84375 \nQ 18.109375 37.203125 18.109375 27.296875 \nQ 18.109375 17.390625 22.1875 11.75 \nQ 26.265625 6.109375 33.40625 6.109375 \nQ 40.53125 6.109375 44.609375 11.75 \nQ 48.6875 17.390625 48.6875 27.296875 \nz\nM 18.109375 46.390625 \nQ 20.953125 51.265625 25.265625 53.625 \nQ 29.59375 56 35.59375 56 \nQ 45.5625 56 51.78125 48.09375 \nQ 58.015625 40.1875 58.015625 27.296875 \nQ 58.015625 14.40625 51.78125 6.484375 \nQ 45.5625 -1.421875 35.59375 -1.421875 \nQ 29.59375 -1.421875 25.265625 0.953125 \nQ 20.953125 3.328125 18.109375 8.203125 \nL 18.109375 0 \nL 9.078125 0 \nL 9.078125 75.984375 \nL 18.109375 75.984375 \nz\n\" id=\"DejaVuSans-98\"/>\n     <path d=\"M 9.421875 54.6875 \nL 18.40625 54.6875 \nL 18.40625 0 \nL 9.421875 0 \nz\nM 9.421875 75.984375 \nL 18.40625 75.984375 \nL 18.40625 64.59375 \nL 9.421875 64.59375 \nz\n\" id=\"DejaVuSans-105\"/>\n     <path d=\"M 18.3125 70.21875 \nL 18.3125 54.6875 \nL 36.8125 54.6875 \nL 36.8125 47.703125 \nL 18.3125 47.703125 \nL 18.3125 18.015625 \nQ 18.3125 11.328125 20.140625 9.421875 \nQ 21.96875 7.515625 27.59375 7.515625 \nL 36.8125 7.515625 \nL 36.8125 0 \nL 27.59375 0 \nQ 17.1875 0 13.234375 3.875 \nQ 9.28125 7.765625 9.28125 18.015625 \nL 9.28125 47.703125 \nL 2.6875 47.703125 \nL 2.6875 54.6875 \nL 9.28125 54.6875 \nL 9.28125 70.21875 \nz\n\" id=\"DejaVuSans-116\"/>\n     <path d=\"M 32.171875 -5.078125 \nQ 28.375 -14.84375 24.75 -17.8125 \nQ 21.140625 -20.796875 15.09375 -20.796875 \nL 7.90625 -20.796875 \nL 7.90625 -13.28125 \nL 13.1875 -13.28125 \nQ 16.890625 -13.28125 18.9375 -11.515625 \nQ 21 -9.765625 23.484375 -3.21875 \nL 25.09375 0.875 \nL 2.984375 54.6875 \nL 12.5 54.6875 \nL 29.59375 11.921875 \nL 46.6875 54.6875 \nL 56.203125 54.6875 \nz\n\" id=\"DejaVuSans-121\"/>\n     <path id=\"DejaVuSans-32\"/>\n     <path d=\"M 37.109375 75.984375 \nL 37.109375 68.5 \nL 28.515625 68.5 \nQ 23.6875 68.5 21.796875 66.546875 \nQ 19.921875 64.59375 19.921875 59.515625 \nL 19.921875 54.6875 \nL 34.71875 54.6875 \nL 34.71875 47.703125 \nL 19.921875 47.703125 \nL 19.921875 0 \nL 10.890625 0 \nL 10.890625 47.703125 \nL 2.296875 47.703125 \nL 2.296875 54.6875 \nL 10.890625 54.6875 \nL 10.890625 58.5 \nQ 10.890625 67.625 15.140625 71.796875 \nQ 19.390625 75.984375 28.609375 75.984375 \nz\n\" id=\"DejaVuSans-102\"/>\n     <path d=\"M 44.28125 53.078125 \nL 44.28125 44.578125 \nQ 40.484375 46.53125 36.375 47.5 \nQ 32.28125 48.484375 27.875 48.484375 \nQ 21.1875 48.484375 17.84375 46.4375 \nQ 14.5 44.390625 14.5 40.28125 \nQ 14.5 37.15625 16.890625 35.375 \nQ 19.28125 33.59375 26.515625 31.984375 \nL 29.59375 31.296875 \nQ 39.15625 29.25 43.1875 25.515625 \nQ 47.21875 21.78125 47.21875 15.09375 \nQ 47.21875 7.46875 41.1875 3.015625 \nQ 35.15625 -1.421875 24.609375 -1.421875 \nQ 20.21875 -1.421875 15.453125 -0.5625 \nQ 10.6875 0.296875 5.421875 2 \nL 5.421875 11.28125 \nQ 10.40625 8.6875 15.234375 7.390625 \nQ 20.0625 6.109375 24.8125 6.109375 \nQ 31.15625 6.109375 34.5625 8.28125 \nQ 37.984375 10.453125 37.984375 14.40625 \nQ 37.984375 18.0625 35.515625 20.015625 \nQ 33.0625 21.96875 24.703125 23.78125 \nL 21.578125 24.515625 \nQ 13.234375 26.265625 9.515625 29.90625 \nQ 5.8125 33.546875 5.8125 39.890625 \nQ 5.8125 47.609375 11.28125 51.796875 \nQ 16.75 56 26.8125 56 \nQ 31.78125 56 36.171875 55.265625 \nQ 40.578125 54.546875 44.28125 53.078125 \nz\n\" id=\"DejaVuSans-115\"/>\n     <path d=\"M 52 44.1875 \nQ 55.375 50.25 60.0625 53.125 \nQ 64.75 56 71.09375 56 \nQ 79.640625 56 84.28125 50.015625 \nQ 88.921875 44.046875 88.921875 33.015625 \nL 88.921875 0 \nL 79.890625 0 \nL 79.890625 32.71875 \nQ 79.890625 40.578125 77.09375 44.375 \nQ 74.3125 48.1875 68.609375 48.1875 \nQ 61.625 48.1875 57.5625 43.546875 \nQ 53.515625 38.921875 53.515625 30.90625 \nL 53.515625 0 \nL 44.484375 0 \nL 44.484375 32.71875 \nQ 44.484375 40.625 41.703125 44.40625 \nQ 38.921875 48.1875 33.109375 48.1875 \nQ 26.21875 48.1875 22.15625 43.53125 \nQ 18.109375 38.875 18.109375 30.90625 \nL 18.109375 0 \nL 9.078125 0 \nL 9.078125 54.6875 \nL 18.109375 54.6875 \nL 18.109375 46.1875 \nQ 21.1875 51.21875 25.484375 53.609375 \nQ 29.78125 56 35.6875 56 \nQ 41.65625 56 45.828125 52.96875 \nQ 50 49.953125 52 44.1875 \nz\n\" id=\"DejaVuSans-109\"/>\n     <path d=\"M 18.109375 8.203125 \nL 18.109375 -20.796875 \nL 9.078125 -20.796875 \nL 9.078125 54.6875 \nL 18.109375 54.6875 \nL 18.109375 46.390625 \nQ 20.953125 51.265625 25.265625 53.625 \nQ 29.59375 56 35.59375 56 \nQ 45.5625 56 51.78125 48.09375 \nQ 58.015625 40.1875 58.015625 27.296875 \nQ 58.015625 14.40625 51.78125 6.484375 \nQ 45.5625 -1.421875 35.59375 -1.421875 \nQ 29.59375 -1.421875 25.265625 0.953125 \nQ 20.953125 3.328125 18.109375 8.203125 \nz\nM 48.6875 27.296875 \nQ 48.6875 37.203125 44.609375 42.84375 \nQ 40.53125 48.484375 33.40625 48.484375 \nQ 26.265625 48.484375 22.1875 42.84375 \nQ 18.109375 37.203125 18.109375 27.296875 \nQ 18.109375 17.390625 22.1875 11.75 \nQ 26.265625 6.109375 33.40625 6.109375 \nQ 40.53125 6.109375 44.609375 11.75 \nQ 48.6875 17.390625 48.6875 27.296875 \nz\n\" id=\"DejaVuSans-112\"/>\n     <path d=\"M 54.890625 33.015625 \nL 54.890625 0 \nL 45.90625 0 \nL 45.90625 32.71875 \nQ 45.90625 40.484375 42.875 44.328125 \nQ 39.84375 48.1875 33.796875 48.1875 \nQ 26.515625 48.1875 22.3125 43.546875 \nQ 18.109375 38.921875 18.109375 30.90625 \nL 18.109375 0 \nL 9.078125 0 \nL 9.078125 54.6875 \nL 18.109375 54.6875 \nL 18.109375 46.1875 \nQ 21.34375 51.125 25.703125 53.5625 \nQ 30.078125 56 35.796875 56 \nQ 45.21875 56 50.046875 50.171875 \nQ 54.890625 44.34375 54.890625 33.015625 \nz\n\" id=\"DejaVuSans-110\"/>\n    </defs>\n    <g transform=\"translate(168.7275 16.318125)scale(0.12 -0.12)\">\n     <use xlink:href=\"#DejaVuSans-80\"/>\n     <use x=\"58.552734\" xlink:href=\"#DejaVuSans-114\"/>\n     <use x=\"97.416016\" xlink:href=\"#DejaVuSans-111\"/>\n     <use x=\"158.597656\" xlink:href=\"#DejaVuSans-98\"/>\n     <use x=\"222.074219\" xlink:href=\"#DejaVuSans-97\"/>\n     <use x=\"283.353516\" xlink:href=\"#DejaVuSans-98\"/>\n     <use x=\"346.830078\" xlink:href=\"#DejaVuSans-105\"/>\n     <use x=\"374.613281\" xlink:href=\"#DejaVuSans-108\"/>\n     <use x=\"402.396484\" xlink:href=\"#DejaVuSans-105\"/>\n     <use x=\"430.179688\" xlink:href=\"#DejaVuSans-116\"/>\n     <use x=\"469.388672\" xlink:href=\"#DejaVuSans-121\"/>\n     <use x=\"528.568359\" xlink:href=\"#DejaVuSans-32\"/>\n     <use x=\"560.355469\" xlink:href=\"#DejaVuSans-102\"/>\n     <use x=\"595.560547\" xlink:href=\"#DejaVuSans-111\"/>\n     <use x=\"656.742188\" xlink:href=\"#DejaVuSans-114\"/>\n     <use x=\"697.855469\" xlink:href=\"#DejaVuSans-32\"/>\n     <use x=\"729.642578\" xlink:href=\"#DejaVuSans-115\"/>\n     <use x=\"781.742188\" xlink:href=\"#DejaVuSans-117\"/>\n     <use x=\"845.121094\" xlink:href=\"#DejaVuSans-109\"/>\n     <use x=\"942.533203\" xlink:href=\"#DejaVuSans-32\"/>\n     <use x=\"974.320312\" xlink:href=\"#DejaVuSans-111\"/>\n     <use x=\"1035.501953\" xlink:href=\"#DejaVuSans-102\"/>\n     <use x=\"1070.707031\" xlink:href=\"#DejaVuSans-32\"/>\n     <use x=\"1102.494141\" xlink:href=\"#DejaVuSans-112\"/>\n     <use x=\"1165.970703\" xlink:href=\"#DejaVuSans-111\"/>\n     <use x=\"1227.152344\" xlink:href=\"#DejaVuSans-105\"/>\n     <use x=\"1254.935547\" xlink:href=\"#DejaVuSans-110\"/>\n     <use x=\"1318.314453\" xlink:href=\"#DejaVuSans-116\"/>\n     <use x=\"1357.523438\" xlink:href=\"#DejaVuSans-115\"/>\n    </g>\n   </g>\n   <g id=\"legend_1\">\n    <g id=\"patch_13\">\n     <path d=\"M 384.645312 44.99625 \nL 469.503125 44.99625 \nQ 471.503125 44.99625 471.503125 42.99625 \nL 471.503125 29.318125 \nQ 471.503125 27.318125 469.503125 27.318125 \nL 384.645312 27.318125 \nQ 382.645312 27.318125 382.645312 29.318125 \nL 382.645312 42.99625 \nQ 382.645312 44.99625 384.645312 44.99625 \nz\n\" style=\"fill:#ffffff;opacity:0.8;stroke:#cccccc;stroke-linejoin:miter;\"/>\n    </g>\n    <g id=\"patch_14\">\n     <path d=\"M 386.645312 38.916562 \nL 406.645312 38.916562 \nL 406.645312 31.916562 \nL 386.645312 31.916562 \nz\n\" style=\"fill:#1f77b4;\"/>\n    </g>\n    <g id=\"text_16\">\n     <!-- Probability -->\n     <g transform=\"translate(414.645312 38.916562)scale(0.1 -0.1)\">\n      <use xlink:href=\"#DejaVuSans-80\"/>\n      <use x=\"58.552734\" xlink:href=\"#DejaVuSans-114\"/>\n      <use x=\"97.416016\" xlink:href=\"#DejaVuSans-111\"/>\n      <use x=\"158.597656\" xlink:href=\"#DejaVuSans-98\"/>\n      <use x=\"222.074219\" xlink:href=\"#DejaVuSans-97\"/>\n      <use x=\"283.353516\" xlink:href=\"#DejaVuSans-98\"/>\n      <use x=\"346.830078\" xlink:href=\"#DejaVuSans-105\"/>\n      <use x=\"374.613281\" xlink:href=\"#DejaVuSans-108\"/>\n      <use x=\"402.396484\" xlink:href=\"#DejaVuSans-105\"/>\n      <use x=\"430.179688\" xlink:href=\"#DejaVuSans-116\"/>\n      <use x=\"469.388672\" xlink:href=\"#DejaVuSans-121\"/>\n     </g>\n    </g>\n   </g>\n  </g>\n </g>\n <defs>\n  <clipPath id=\"p348c15801b\">\n   <rect height=\"217.44\" width=\"446.4\" x=\"30.103125\" y=\"22.318125\"/>\n  </clipPath>\n </defs>\n</svg>\n",
      "image/png": "[encoded data removed]"
     },
     "metadata": {
      "needs_background": "light"
     }
    }
   ],
   "source": [
    "x = [0, 2, 4, 6, 8, 10]\n",
    "prob = [21/36, 5/36, 4/36, 3/36, 2/36, 1/36]\n",
    "\n",
    "df = pd.DataFrame({'Value': x,'Probability': prob})\n",
    "\n",
    "df.plot.bar(x = 'Value', y = 'Probability', rot = 0, title = \"Probability for sum of points\")\n",
    "\n",
    "fig = plt.gcf()\n",
    "fig.set_size_inches(8, 4)\n",
    "\n",
    "plt.show(block=True)"
   ]
  },
  {
   "source": [
    "For the player have some profit we need to have $P(G \\geq 6)$, so:\n",
    "\n",
    "$$P(G \\geq 6) = \\frac{3}{36} + \\frac{2}{36} + \\frac{1}{36} = \\frac{1}{6} \\cong 0.16667$$"
   ],
   "cell_type": "markdown",
   "metadata": {}
  },
  {
   "source": [
    "## Expected value and variance <a name=\"expvar\"></a>"
   ],
   "cell_type": "markdown",
   "metadata": {}
  },
  {
   "source": [
    "### Expected value <a name=\"exp\"></a>"
   ],
   "cell_type": "markdown",
   "metadata": {}
  },
  {
   "source": [
    "The expected value, also called mathematical hope or expectancy, of a random variable is the sum of the product of each probability of exit from the experience by its respective value. That is, it represents the average \"expected\" value of an experience if it is repeated many times.\n",
    "\n",
    "For discrete random variables we can calculate it with:\n",
    "\n",
    "$$EX=\\sum_{x_k \\in R_X} x_k P_X(x_k).$$\n",
    "\n",
    "And for continuous random variables:\n",
    "\n",
    "$$EX= \\int_{-\\infty}^{\\infty} xf_X(x)dx$$\n",
    "\n",
    "We can think intuitively that the expected value for a uniform distribution with $X \\sim Uniform(a,b)$ is $\\frac{a + b}{2}$, the mean and median for the distibution, using the idea that every probability has equal weight, but we can calculate using the idea of the probability density function, which is\n",
    "\n",
    "$\\begin{equation}\n",
    "                           \\nonumber f_X(x) = \\left\\{\n",
    "                            \\begin{array}{l l}\n",
    "                              \\frac{1}{b-a} & \\quad  a < x < b\\\\\n",
    "                              0 & \\quad x < a \\textrm{ or } x > b\n",
    "                            \\end{array} \\right.\n",
    "                          \\end{equation}$\n",
    "\n",
    "So for the expected value:\n",
    "\n",
    "$\\begin{array}{rcl}\n",
    "EX & = & \\int_{-\\infty}^{\\infty} xf_X(x)dx \\\\\n",
    " & = & \\int_{a}^{b} x (\\frac{1}{b-a}) dx \\\\\n",
    " & = & \\frac{1}{b-a} \\bigg[ \\frac{1}{2}x^2 \\bigg]_{a}^{b} dx\\\\\n",
    " & = & \\frac{a+b}{2}\n",
    "\\end{array}$\n"
   ],
   "cell_type": "markdown",
   "metadata": {}
  },
  {
   "source": [
    "#### Properties <a name=\"expproper\"></a>"
   ],
   "cell_type": "markdown",
   "metadata": {}
  },
  {
   "source": [
    "$E[aX + b] = aE[X] + b$\n",
    "\n",
    "In the general case we have:\n",
    "\n",
    "$E[XY] \\neq E[X]E[Y]$\n",
    "\n",
    "But if we have independent random variables $X, Y$:\n",
    "\n",
    "$E[XY] = E[X]E[Y]$"
   ],
   "cell_type": "markdown",
   "metadata": {}
  },
  {
   "source": [
    "#### Expected value simulation <a name=\"expsim\"></a>"
   ],
   "cell_type": "markdown",
   "metadata": {}
  },
  {
   "source": [
    "We can use the example from the random variable simulation to simulate the expected value:"
   ],
   "cell_type": "markdown",
   "metadata": {}
  },
  {
   "cell_type": "code",
   "execution_count": 9,
   "metadata": {},
   "outputs": [
    {
     "output_type": "stream",
     "name": "stdout",
     "text": [
      "Bet: 5 dollars.\nExpected value: 1.946174\n"
     ]
    }
   ],
   "source": [
    "from random import randint\n",
    "\n",
    "bet = 5\n",
    "Ns = 1000000 # Number of games\n",
    "vsim = [] # Simulation number\n",
    "p = 0\n",
    "\n",
    "for n in range(1,Ns):\n",
    "    G = 0\n",
    "    j = randint(1, 6) # Player\n",
    "    b = randint(1, 6) # Oponent\n",
    "    if(j > b): # If the player has a greater value\n",
    "        G = 2*(j-b)\n",
    "\n",
    "    vsim.append(G)\n",
    "\n",
    "E = sum(vsim)/Ns # Probability of profit\n",
    "print('Bet:', bet, 'dollars.')\n",
    "print(\"Expected value:\", E)"
   ]
  },
  {
   "source": [
    "Using probability distribution found before:\n",
    "\n",
    "| $G$ | 0 | 2 | 4 | 6 | 8 | 10 |\n",
    "|---|---|---|---|---|---|----|\n",
    "| $P(G = g)$  | $\\frac{21}{36}$  | $\\frac{5}{36}$  | $\\frac{4}{36}$  |  $\\frac{3}{36}$ | $\\frac{2}{36}$  |  $\\frac{1}{36}$  |\n",
    "\n",
    "$E[X] = 0\\cdot \\frac{21}{36} + 2\\cdot \\frac{5}{36} + 4\\cdot \\frac{4}{36} + 6\\cdot \\frac{3}{36} + 8\\cdot \\frac{2}{36} + 10\\cdot \\frac{1}{36} = \\frac{35}{18} \\cong 1.944$\n",
    "\n",
    "Beyond using probability, it becomes even more clear that it's not a good idea to make the bet."
   ],
   "cell_type": "markdown",
   "metadata": {}
  },
  {
   "source": [
    "A manufacturer produces parts such that 10 % of them are defective and 90 % are perfect. If a defective part is produced, the manufacturer loses \\$1.00, while a non defective part gives him a profit of \\$5.00. If $X$ is the net profit, calculate $E(X)$.\n",
    "\n",
    "The probability distribution of the profit:\n",
    "$P(X = -1) = 0.1$ and $P(X = 5) = 0.9$\n",
    "\n",
    "Let's simulate this experiment."
   ],
   "cell_type": "markdown",
   "metadata": {}
  },
  {
   "cell_type": "code",
   "execution_count": 4,
   "metadata": {},
   "outputs": [
    {
     "output_type": "stream",
     "name": "stdout",
     "text": [
      "Expected profit value: 4.3934\n"
     ]
    }
   ],
   "source": [
    "from random import seed\n",
    "import numpy as np\n",
    "seed(1) # Setting seed\n",
    "\n",
    "N = 100000 # number of parts\n",
    "X = 0 # profit by part\n",
    "p = 0.9 # probability for perfect part\n",
    "profit = 5 # profit for perfect part\n",
    "loss = 1 # loss for defective part\n",
    "for n in range(0,N):\n",
    "    r = np.random.uniform()\n",
    "    if(r <= p):\n",
    "        X = X + profit\n",
    "    else:\n",
    "        X = X - loss\n",
    "X = X/N # expectrd value\n",
    "\n",
    "print('Expected profit value:', X)"
   ]
  },
  {
   "source": [
    "The probability distribution is:\n",
    "\n",
    "| $X$ | -1 | 5 |\n",
    "|---|---|---|\n",
    "| $P(X = x)$  | $0.1$  | $0.9$  |\n",
    "\n",
    "So we have:\n",
    "\n",
    "$$E[X] = -1\\cdot 0.1 + 5\\cdot 0.9 = 4.4$$\n",
    "\n",
    "A very similar value from the simulation."
   ],
   "cell_type": "markdown",
   "metadata": {}
  },
  {
   "source": [
    "### Variance <a name=\"variance\"></a>"
   ],
   "cell_type": "markdown",
   "metadata": {}
  },
  {
   "source": [
    "The variance of a random variable or stochastic process is a measure of its statistical dispersion, indicating \"how far\" its values are in general from the expected value.\n",
    "\n",
    "Let $X$ be a discrete random variable. The n-th central moment is defined by:\n",
    "\n",
    "$$E[(X - E[X])^{m}]$$\n",
    "\n",
    "The 1st central moment is equal to zero;\n",
    "\n",
    "The 2nd central moment is the variance:\n",
    "\n",
    "$$Var(X) = E[(X - E[X])^{2}] = E[X^2] - E[X]^{2}$$\n",
    "\n",
    "With $X$ being a continuous random variable we have:\n",
    "\n",
    "$$Var(X) = E[(X - E[X])^{2}] = E[X^2] - E[X]^{2} = \\int_{-\\infty}^{\\infty}x^{2}f(x)dx - (\\int_{-\\infty}^{\\infty}xf(x)dx)^{2}$$"
   ],
   "cell_type": "markdown",
   "metadata": {}
  },
  {
   "source": [
    "#### Variance example <a name=\"varianceex\"></a>"
   ],
   "cell_type": "markdown",
   "metadata": {}
  },
  {
   "source": [
    "With probability distribution from before:\n",
    "\n",
    "| $G$ | 0 | 2 | 4 | 6 | 8 | 10 |\n",
    "|---|---|---|---|---|---|----|\n",
    "| $P(G = g)$  | $\\frac{21}{36}$  | $\\frac{5}{36}$  | $\\frac{4}{36}$  |  $\\frac{3}{36}$ | $\\frac{2}{36}$  |  $\\frac{1}{36}$  |\n",
    "\n",
    "$E[X^{2}] = 0^{2}\\cdot \\frac{21}{36} + 2^{2}\\cdot \\frac{5}{36} + 4^{2}\\cdot \\frac{4}{36} + 6^{2}\\cdot \\frac{3}{36} + 8^{2}\\cdot \\frac{2}{36} + 10^{2}\\cdot \\frac{1}{36} = \\frac{35}{3} \\cong 11.67$\n",
    "\n",
    "So we have:\n",
    "\n",
    "$$Var(X) = E[X^2] - E[X]^{2} = 11.67 - (1.944)^{2} \\cong 7.9$$\n",
    "\n",
    "Using this [numpy function](https://numpy.org/doc/stable/reference/generated/numpy.var.html) we can the find the variance for the simulation array from before:"
   ],
   "cell_type": "markdown",
   "metadata": {}
  },
  {
   "cell_type": "code",
   "execution_count": 10,
   "metadata": {},
   "outputs": [
    {
     "output_type": "execute_result",
     "data": {
      "text/plain": [
       "7.906206880333851"
      ]
     },
     "metadata": {},
     "execution_count": 10
    }
   ],
   "source": [
    "import numpy as np\n",
    "\n",
    "np.var(vsim)"
   ]
  }
 ]
}