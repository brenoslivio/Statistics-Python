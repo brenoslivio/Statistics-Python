{
  "nbformat": 4,
  "nbformat_minor": 0,
  "metadata": {
    "colab": {
      "name": "1-DescriptiveAnalysis.ipynb",
      "provenance": [],
      "authorship_tag": "ABX9TyOZ6SeITkDhTUa6IyxffV65",
      "include_colab_link": true
    },
    "kernelspec": {
      "name": "python3",
      "display_name": "Python 3"
    }
  },
  "cells": [
    {
      "cell_type": "markdown",
      "metadata": {
        "id": "view-in-github",
        "colab_type": "text"
      },
      "source": [
        "<a href=\"https://colab.research.google.com/github/brenoslivio/Statistics-Python/blob/main/1-DescriptiveAnalysis/1_DescriptiveAnalysis.ipynb\" target=\"_parent\"><img src=\"https://colab.research.google.com/assets/colab-badge.svg\" alt=\"Open In Colab\"/></a>"
      ]
    },
    {
      "cell_type": "markdown",
      "metadata": {
        "id": "Mk33yY8stlEd"
      },
      "source": [
        "# Descriptive Analysis"
      ]
    },
    {
      "cell_type": "markdown",
      "metadata": {
        "id": "ImoMuyWWtu-a"
      },
      "source": [
        "*There are many ways to analyse data, but one of the most known methods in Statistics is probably descriptive analysis,  which seeks to describe or summarize past and present data, helping to create accessible data insights. It's the field of Statistics that deals with the description and summarization of data. It will be given some pratical examples of these kind of analysis using a dataset. Recommended text for the subject are the Chapters 2 and 3 from **Introductory Statistics** by **Sheldon M. Ross**, which will be our main source of knowledge in this notebook.*"
      ]
    },
    {
      "cell_type": "markdown",
      "metadata": {
        "id": "7vHn5AdQthNh"
      },
      "source": [
        "\n",
        "\n",
        "---\n",
        "\n"
      ]
    },
    {
      "cell_type": "markdown",
      "metadata": {
        "id": "8YcFlMMrZn7p"
      },
      "source": [
        "## Table of contents\n",
        "\n",
        "\n",
        "1. [Data type](#type)\n",
        "\n",
        "  1.1 [Qualitative variables](#qualita)\n",
        "\n",
        "  * [Nominal](#nominal)\n",
        "\n",
        "  * [Ordinal](#ordinal)\n",
        "\n",
        "  1.2 [Quantitative variables](#quantita)\n",
        "\n",
        "  * [Discrete](#discrete)\n",
        "\n",
        "  * [Continuous](#cont)\n",
        "\n",
        "2. [Measures of position](#mespos)\n",
        "\n",
        "  2.1 [Quantiles](#quantiles)\n",
        "\n",
        "  * [Percentiles](#percentiles)\n",
        "\n",
        "  * [Deciles](#deciles)\n",
        "\n",
        "  * [Quartiles](#quartiles)\n",
        "\n",
        "  * [Median](#median)\n",
        "\n",
        "  2.2 [Mean](#mean)\n",
        "\n",
        "  2.3 [Mode](#mode)\n",
        "\n",
        "3. [Measures of dispersion](#mesdis)\n",
        "\n",
        "  3.1 [Variance](#variance)\n",
        "\n",
        "  3.2 [Standard deviation](#sd)\n",
        "\n",
        "  3.3 [Range](#range)\n",
        "\n",
        "  3.4 [Interquantile range](#iqr)\n",
        "\n",
        "4. [Table of frequencies](#table)\n",
        "\n",
        "  4.1 [Absolute](#absolute)\n",
        "\n",
        "  4.2 [Relative](#relative)\n",
        "\n",
        "  4.3 [Simple](#simple)\n",
        "\n",
        "  4.4 [Cumulative](#cumulative)\n",
        "\n",
        "5. [Graphs](#graphs)\n",
        "\n",
        "  5.1 [Sector](#sector)\n",
        "\n",
        "  5.2 [Bar](#bar)\n",
        "\n",
        "  5.3 [Boxplot](#boxplot)\n",
        "\n",
        "  5.4 [Dispersion](#dispersion)\n",
        "\n",
        "  5.5 [Line](#line)\n",
        "\n",
        "6. [Practicing with a dataset](#practice)\n",
        "\n"
      ]
    },
    {
      "cell_type": "markdown",
      "metadata": {
        "id": "YjQZ8oMkzNvR"
      },
      "source": [
        "\n",
        "\n",
        "---\n",
        "\n"
      ]
    },
    {
      "cell_type": "markdown",
      "metadata": {
        "id": "2HqNyurdzXpR"
      },
      "source": [
        "## Data type <a name=\"type\"></a>\n",
        "\n"
      ]
    },
    {
      "cell_type": "markdown",
      "metadata": {
        "id": "NGKi7JBv23Zy"
      },
      "source": [
        "### Qualitative variables <a name=\"qualita\"></a>"
      ]
    },
    {
      "cell_type": "markdown",
      "metadata": {
        "id": "3iV1mQlY3ioK"
      },
      "source": [
        "#### Nominal <a name=\"nominal\"></a>"
      ]
    },
    {
      "cell_type": "markdown",
      "metadata": {
        "id": "iAS3CaJN3it3"
      },
      "source": [
        "#### Ordinal <a name=\"ordinal\"></a>"
      ]
    },
    {
      "cell_type": "markdown",
      "metadata": {
        "id": "2FJD_vgX23jf"
      },
      "source": [
        "### Quantitative variables <a name=\"quantita\"></a>"
      ]
    },
    {
      "cell_type": "markdown",
      "metadata": {
        "id": "4ujbKVqB4aZq"
      },
      "source": [
        "#### Discrete <a name=\"discrete\"></a>"
      ]
    },
    {
      "cell_type": "markdown",
      "metadata": {
        "id": "n0O2T-PE4aZz"
      },
      "source": [
        "#### Continuous <a name=\"cont\"></a>"
      ]
    },
    {
      "cell_type": "markdown",
      "metadata": {
        "id": "uaaVvrjr48X4"
      },
      "source": [
        "## Measures of position <a name=\"mespos\"></a>"
      ]
    },
    {
      "cell_type": "markdown",
      "metadata": {
        "id": "8pszjfsA5ZFg"
      },
      "source": [
        "### Quantiles <a name=\"quantiles\"></a>"
      ]
    },
    {
      "cell_type": "markdown",
      "metadata": {
        "id": "BYEL8p4c55X0"
      },
      "source": [
        "#### Percentiles <a name=\"percentiles\"></a>"
      ]
    },
    {
      "cell_type": "markdown",
      "metadata": {
        "id": "ooI1N7QC6Co1"
      },
      "source": [
        "#### Deciles <a name=\"deciles\"></a>"
      ]
    },
    {
      "cell_type": "markdown",
      "metadata": {
        "id": "EVzUZu1J6Co-"
      },
      "source": [
        "#### Quartiles <a name=\"quartiles\"></a>"
      ]
    },
    {
      "cell_type": "markdown",
      "metadata": {
        "id": "jJqnByob6Ntm"
      },
      "source": [
        "#### Median <a name=\"median\"></a>"
      ]
    },
    {
      "cell_type": "markdown",
      "metadata": {
        "id": "0TpZaLgm6Q9X"
      },
      "source": [
        "### Mean <a name=\"mean\"></a>"
      ]
    },
    {
      "cell_type": "markdown",
      "metadata": {
        "id": "G2Sy8cTC6Ux2"
      },
      "source": [
        "### Mode <a name=\"mode\"></a>"
      ]
    },
    {
      "cell_type": "markdown",
      "metadata": {
        "id": "fpfPBhsC6dYw"
      },
      "source": [
        "## Measures of dispersion <a name=\"mesdis\"></a>"
      ]
    },
    {
      "cell_type": "markdown",
      "metadata": {
        "id": "BJAyGQOg6w0f"
      },
      "source": [
        "### Variance <a name=\"variance\"></a>"
      ]
    },
    {
      "cell_type": "markdown",
      "metadata": {
        "id": "oKhzpPNv6xMt"
      },
      "source": [
        "### Standard deviation (population and sample) <a name=\"sd\"></a>"
      ]
    },
    {
      "cell_type": "markdown",
      "metadata": {
        "id": "0ObzV9qf7E53"
      },
      "source": [
        "### Range <a name=\"range\"></a>"
      ]
    },
    {
      "cell_type": "markdown",
      "metadata": {
        "id": "QNGpOWbI9TiR"
      },
      "source": [
        "### Interquantile range <a name=\"iqr\"></a>\n",
        "\n"
      ]
    },
    {
      "cell_type": "markdown",
      "metadata": {
        "id": "YisCzs11-Urz"
      },
      "source": [
        "## Table of frequencies <a name=\"table\"></a>"
      ]
    },
    {
      "cell_type": "markdown",
      "metadata": {
        "id": "tWc9_0EB_2yE"
      },
      "source": [
        "### Absolute <a name=\"absolute\"></a>"
      ]
    },
    {
      "cell_type": "markdown",
      "metadata": {
        "id": "yo0nTmsm_2yK"
      },
      "source": [
        "### Relative <a name=\"relative\"></a>"
      ]
    },
    {
      "cell_type": "markdown",
      "metadata": {
        "id": "4_GL406S_2yP"
      },
      "source": [
        "### Simple <a name=\"simple\"></a>"
      ]
    },
    {
      "cell_type": "markdown",
      "metadata": {
        "id": "pSInRnXv_2yT"
      },
      "source": [
        "### Cumulative <a name=\"cumulative\"></a>\n",
        "\n"
      ]
    },
    {
      "cell_type": "markdown",
      "metadata": {
        "id": "ZOr0-0LYAK3g"
      },
      "source": [
        "## Graphs <a name=\"graphs\"></a>"
      ]
    },
    {
      "cell_type": "markdown",
      "metadata": {
        "id": "dECWcxBDANlN"
      },
      "source": [
        "### Sector <a name=\"sector\"></a>"
      ]
    },
    {
      "cell_type": "markdown",
      "metadata": {
        "id": "2PmB39aXAQjp"
      },
      "source": [
        "### Bar <a name=\"bar\"></a>"
      ]
    },
    {
      "cell_type": "markdown",
      "metadata": {
        "id": "qlr0pNKgAQjx"
      },
      "source": [
        "### Boxplot <a name=\"boxplot\"></a>"
      ]
    },
    {
      "cell_type": "markdown",
      "metadata": {
        "id": "BPHc1Ft_AQj3"
      },
      "source": [
        "### Dispersion <a name=\"dispersion\"></a>"
      ]
    },
    {
      "cell_type": "markdown",
      "metadata": {
        "id": "2fGQWpMbAQj8"
      },
      "source": [
        "### Line <a name=\"line\"></a>\n",
        "\n"
      ]
    },
    {
      "cell_type": "markdown",
      "metadata": {
        "id": "-5U1nildBaFS"
      },
      "source": [
        "## Practicing with a dataset <a name=\"practice\"></a>"
      ]
    }
  ]
}