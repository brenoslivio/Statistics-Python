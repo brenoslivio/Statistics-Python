{
  "nbformat": 4,
  "nbformat_minor": 0,
  "metadata": {
    "colab": {
      "name": "1-DescriptiveAnalysis.ipynb",
      "provenance": [],
      "authorship_tag": "ABX9TyMZj9YD79FGEUk0bl9KHoz2",
      "include_colab_link": true
    },
    "kernelspec": {
      "name": "python3",
      "display_name": "Python 3"
    }
  },
  "cells": [
    {
      "cell_type": "markdown",
      "metadata": {
        "id": "view-in-github",
        "colab_type": "text"
      },
      "source": [
        "<a href=\"https://colab.research.google.com/github/brenoslivio/Statistics-Python/blob/main/1-DescriptiveAnalysis/1_DescriptiveAnalysis.ipynb\" target=\"_parent\"><img src=\"https://colab.research.google.com/assets/colab-badge.svg\" alt=\"Open In Colab\"/></a>"
      ]
    },
    {
      "cell_type": "markdown",
      "metadata": {
        "id": "Mk33yY8stlEd"
      },
      "source": [
        "# Descriptive Analysis"
      ]
    },
    {
      "cell_type": "markdown",
      "metadata": {
        "id": "ImoMuyWWtu-a"
      },
      "source": [
        "*There are many ways to analyse data, but one of the most known methods in Statistics is probably descriptive analysis,  which seeks to describe or summarize past and present data, helping to create accessible data insights. It's the field of Statistics that deals with the description and summarization of data. It will be given some pratical examples of these kind of analysis using a dataset. Recommended text for the subject are the Chapters 2 and 3 from **Introductory Statistics** by **Sheldon M. Ross**, which will be our main source of knowledge in this notebook.*"
      ]
    },
    {
      "cell_type": "markdown",
      "metadata": {
        "id": "7vHn5AdQthNh"
      },
      "source": [
        "\n",
        "\n",
        "---\n",
        "\n"
      ]
    },
    {
      "cell_type": "markdown",
      "metadata": {
        "id": "8YcFlMMrZn7p"
      },
      "source": [
        "## Table of contents\n",
        "\n",
        "\n",
        "1. [Data type](#type)\n",
        "\n",
        "  1.1 [Qualitative variables](#qualita)\n",
        "\n",
        "  * [Nominal](#nominal)\n",
        "\n",
        "  * [Ordinal](#ordinal)\n",
        "\n",
        "  1.2 [Quantitative variables](#quantita)\n",
        "\n",
        "  * [Discrete](#discrete)\n",
        "\n",
        "  * [Continuous](#cont)\n",
        "\n",
        "2. [Measures of position](#mespos)\n",
        "\n",
        "  2.1 [Quantiles](#quantiles)\n",
        "\n",
        "  * [Percentiles](#percentiles)\n",
        "\n",
        "  * [Deciles](#deciles)\n",
        "\n",
        "  * [Quartiles](#quartiles)\n",
        "\n",
        "  * [Median](#median)\n",
        "\n",
        "  2.2 [Mean](#mean)\n",
        "\n",
        "  2.3 [Mode](#mode)\n",
        "\n",
        "3. [Measures of dispersion](#mesdis)\n",
        "\n",
        "  3.1 [Variance](#variance)\n",
        "\n",
        "  3.2 [Standard deviation](#sd)\n",
        "\n",
        "  3.3 [Range](#range)\n",
        "\n",
        "  3.4 [Interquantile range](#iqr)\n",
        "\n",
        "4. [Table of frequencies](#table)\n",
        "\n",
        "  4.1 [Absolute](#absolute)\n",
        "\n",
        "  4.2 [Relative](#relative)\n",
        "\n",
        "  4.3 [Simple](#simple)\n",
        "\n",
        "  4.4 [Cumulative](#cumulative)\n",
        "\n",
        "5. [Graphs](#graphs)\n",
        "\n",
        "  5.1 [Pie chart](#pie)\n",
        "\n",
        "  5.2 [Bar](#bar)\n",
        "\n",
        "  5.3 [Boxplot](#boxplot)\n",
        "\n",
        "  5.4 [Dispersion](#dispersion)\n",
        "\n",
        "  5.5 [Line](#line)\n",
        "\n",
        "6. [Practicing with a dataset](#practice)\n",
        "\n"
      ]
    },
    {
      "cell_type": "markdown",
      "metadata": {
        "id": "YjQZ8oMkzNvR"
      },
      "source": [
        "\n",
        "\n",
        "---\n",
        "\n"
      ]
    },
    {
      "cell_type": "markdown",
      "metadata": {
        "id": "2HqNyurdzXpR"
      },
      "source": [
        "## Data type <a name=\"type\"></a>\n",
        "\n"
      ]
    },
    {
      "cell_type": "markdown",
      "metadata": {
        "id": "NGKi7JBv23Zy"
      },
      "source": [
        "### Qualitative variables <a name=\"qualita\"></a>"
      ]
    },
    {
      "cell_type": "markdown",
      "metadata": {
        "id": "3iV1mQlY3ioK"
      },
      "source": [
        "#### Nominal <a name=\"nominal\"></a>"
      ]
    },
    {
      "cell_type": "markdown",
      "metadata": {
        "id": "iAS3CaJN3it3"
      },
      "source": [
        "#### Ordinal <a name=\"ordinal\"></a>"
      ]
    },
    {
      "cell_type": "markdown",
      "metadata": {
        "id": "2FJD_vgX23jf"
      },
      "source": [
        "### Quantitative variables <a name=\"quantita\"></a>"
      ]
    },
    {
      "cell_type": "markdown",
      "metadata": {
        "id": "4ujbKVqB4aZq"
      },
      "source": [
        "#### Discrete <a name=\"discrete\"></a>"
      ]
    },
    {
      "cell_type": "markdown",
      "metadata": {
        "id": "n0O2T-PE4aZz"
      },
      "source": [
        "#### Continuous <a name=\"cont\"></a>"
      ]
    },
    {
      "cell_type": "markdown",
      "metadata": {
        "id": "uaaVvrjr48X4"
      },
      "source": [
        "## Measures of position <a name=\"mespos\"></a>"
      ]
    },
    {
      "cell_type": "markdown",
      "metadata": {
        "id": "8pszjfsA5ZFg"
      },
      "source": [
        "### Quantiles <a name=\"quantiles\"></a>"
      ]
    },
    {
      "cell_type": "markdown",
      "metadata": {
        "id": "BYEL8p4c55X0"
      },
      "source": [
        "#### Percentiles <a name=\"percentiles\"></a>"
      ]
    },
    {
      "cell_type": "markdown",
      "metadata": {
        "id": "ooI1N7QC6Co1"
      },
      "source": [
        "#### Deciles <a name=\"deciles\"></a>"
      ]
    },
    {
      "cell_type": "markdown",
      "metadata": {
        "id": "EVzUZu1J6Co-"
      },
      "source": [
        "#### Quartiles <a name=\"quartiles\"></a>"
      ]
    },
    {
      "cell_type": "markdown",
      "metadata": {
        "id": "jJqnByob6Ntm"
      },
      "source": [
        "#### Median <a name=\"median\"></a>"
      ]
    },
    {
      "cell_type": "markdown",
      "metadata": {
        "id": "0TpZaLgm6Q9X"
      },
      "source": [
        "### Mean <a name=\"mean\"></a>"
      ]
    },
    {
      "cell_type": "markdown",
      "metadata": {
        "id": "G2Sy8cTC6Ux2"
      },
      "source": [
        "### Mode <a name=\"mode\"></a>"
      ]
    },
    {
      "cell_type": "markdown",
      "metadata": {
        "id": "fpfPBhsC6dYw"
      },
      "source": [
        "## Measures of dispersion <a name=\"mesdis\"></a>"
      ]
    },
    {
      "cell_type": "markdown",
      "metadata": {
        "id": "BJAyGQOg6w0f"
      },
      "source": [
        "### Variance <a name=\"variance\"></a>"
      ]
    },
    {
      "cell_type": "markdown",
      "metadata": {
        "id": "oKhzpPNv6xMt"
      },
      "source": [
        "### Standard deviation (population and sample) <a name=\"sd\"></a>"
      ]
    },
    {
      "cell_type": "markdown",
      "metadata": {
        "id": "0ObzV9qf7E53"
      },
      "source": [
        "### Range <a name=\"range\"></a>"
      ]
    },
    {
      "cell_type": "markdown",
      "metadata": {
        "id": "QNGpOWbI9TiR"
      },
      "source": [
        "### Interquantile range <a name=\"iqr\"></a>\n",
        "\n"
      ]
    },
    {
      "cell_type": "markdown",
      "metadata": {
        "id": "YisCzs11-Urz"
      },
      "source": [
        "## Table of frequencies <a name=\"table\"></a>"
      ]
    },
    {
      "cell_type": "markdown",
      "metadata": {
        "id": "tWc9_0EB_2yE"
      },
      "source": [
        "### Absolute <a name=\"absolute\"></a>"
      ]
    },
    {
      "cell_type": "markdown",
      "metadata": {
        "id": "yo0nTmsm_2yK"
      },
      "source": [
        "### Relative <a name=\"relative\"></a>"
      ]
    },
    {
      "cell_type": "markdown",
      "metadata": {
        "id": "4_GL406S_2yP"
      },
      "source": [
        "### Simple <a name=\"simple\"></a>"
      ]
    },
    {
      "cell_type": "markdown",
      "metadata": {
        "id": "pSInRnXv_2yT"
      },
      "source": [
        "### Cumulative <a name=\"cumulative\"></a>\n",
        "\n"
      ]
    },
    {
      "cell_type": "markdown",
      "metadata": {
        "id": "ZOr0-0LYAK3g"
      },
      "source": [
        "## Graphs <a name=\"graphs\"></a>"
      ]
    },
    {
      "cell_type": "markdown",
      "metadata": {
        "id": "dECWcxBDANlN"
      },
      "source": [
        "### Pie chart <a name=\"pie\"></a>"
      ]
    },
    {
      "cell_type": "markdown",
      "metadata": {
        "id": "2PmB39aXAQjp"
      },
      "source": [
        "### Bar <a name=\"bar\"></a>"
      ]
    },
    {
      "cell_type": "markdown",
      "metadata": {
        "id": "qlr0pNKgAQjx"
      },
      "source": [
        "### Boxplot <a name=\"boxplot\"></a>"
      ]
    },
    {
      "cell_type": "markdown",
      "metadata": {
        "id": "BPHc1Ft_AQj3"
      },
      "source": [
        "### Dispersion <a name=\"dispersion\"></a>"
      ]
    },
    {
      "cell_type": "markdown",
      "metadata": {
        "id": "2fGQWpMbAQj8"
      },
      "source": [
        "### Line <a name=\"line\"></a>\n",
        "\n"
      ]
    },
    {
      "cell_type": "markdown",
      "metadata": {
        "id": "-5U1nildBaFS"
      },
      "source": [
        "## Practicing with a dataset <a name=\"practice\"></a>\n",
        "\n",
        "Now we will practice with we saw in the notebook using a dataset in Brazilian Portuguese."
      ]
    },
    {
      "cell_type": "markdown",
      "metadata": {
        "id": "MwXOJ6JrQBpK"
      },
      "source": [
        "### Loading the dataset"
      ]
    },
    {
      "cell_type": "code",
      "metadata": {
        "id": "tYBTuSCpPxAD",
        "outputId": "c8b9d6f6-fb10-486a-94a5-d224bbeb27fe",
        "colab": {
          "base_uri": "https://localhost:8080/",
          "height": 424
        }
      },
      "source": [
        "import pandas as pd\n",
        "import numpy as np\n",
        "\n",
        "dfPoll = pd.read_csv(\"https://raw.githubusercontent.com/brenoslivio/Statistics-Python/main/1-DescriptiveAnalysis/dataset.csv\",\n",
        "    dtype={\n",
        "        \"Qual sua idade?\": np.int32,\n",
        "        \"Qual sua altura em metros?\": np.float64,\n",
        "        \"Seu peso em kg.\": np.int32,\n",
        "        \"Sexo?\": str,\n",
        "        \"Grau de escolaridade?\": str,\n",
        "        \"Em qual estado você nasceu?\": str,\n",
        "        \"Em quantos irmãos vocês são (contando contigo)?\": np.int32,\n",
        "        \"Quantos membros tem sua família? (Quantos moram contigo, ou 1 caso more sozinho)\": np.int32,\n",
        "        \"Você trabalha/estuda atualmente?\": str,\n",
        "        \"Qual atividade realiza com mais frequência?\": str,\n",
        "    },\n",
        "    na_values=\"\",\n",
        ")\n",
        "\n",
        "dfPoll.columns =['age', 'height_m', 'weight_kg', 'sex', 'schooling', 'state', 'brothers_you', 'family_members', 'work_study', 'freq_actitivity'] \n",
        "\n",
        "dfPoll"
      ],
      "execution_count": 7,
      "outputs": [
        {
          "output_type": "execute_result",
          "data": {
            "text/html": [
              "<div>\n",
              "<style scoped>\n",
              "    .dataframe tbody tr th:only-of-type {\n",
              "        vertical-align: middle;\n",
              "    }\n",
              "\n",
              "    .dataframe tbody tr th {\n",
              "        vertical-align: top;\n",
              "    }\n",
              "\n",
              "    .dataframe thead th {\n",
              "        text-align: right;\n",
              "    }\n",
              "</style>\n",
              "<table border=\"1\" class=\"dataframe\">\n",
              "  <thead>\n",
              "    <tr style=\"text-align: right;\">\n",
              "      <th></th>\n",
              "      <th>age</th>\n",
              "      <th>height_m</th>\n",
              "      <th>weight_kg</th>\n",
              "      <th>sex</th>\n",
              "      <th>schooling</th>\n",
              "      <th>state</th>\n",
              "      <th>brothers_you</th>\n",
              "      <th>family_members</th>\n",
              "      <th>work_study</th>\n",
              "      <th>freq_actitivity</th>\n",
              "    </tr>\n",
              "  </thead>\n",
              "  <tbody>\n",
              "    <tr>\n",
              "      <th>0</th>\n",
              "      <td>20</td>\n",
              "      <td>1.82</td>\n",
              "      <td>85</td>\n",
              "      <td>M</td>\n",
              "      <td>Ensino superior (completo ou incompleto)</td>\n",
              "      <td>SP</td>\n",
              "      <td>3</td>\n",
              "      <td>5</td>\n",
              "      <td>trabalho e estudo</td>\n",
              "      <td>Cozinhar</td>\n",
              "    </tr>\n",
              "    <tr>\n",
              "      <th>1</th>\n",
              "      <td>25</td>\n",
              "      <td>1.72</td>\n",
              "      <td>64</td>\n",
              "      <td>M</td>\n",
              "      <td>Pós-graduação (completo ou incompleto)</td>\n",
              "      <td>MS</td>\n",
              "      <td>5</td>\n",
              "      <td>1</td>\n",
              "      <td>estudo</td>\n",
              "      <td>Rede social</td>\n",
              "    </tr>\n",
              "    <tr>\n",
              "      <th>2</th>\n",
              "      <td>29</td>\n",
              "      <td>1.82</td>\n",
              "      <td>65</td>\n",
              "      <td>M</td>\n",
              "      <td>Pós-graduação (completo ou incompleto)</td>\n",
              "      <td>SP</td>\n",
              "      <td>1</td>\n",
              "      <td>2</td>\n",
              "      <td>estudo</td>\n",
              "      <td>Ler livro</td>\n",
              "    </tr>\n",
              "    <tr>\n",
              "      <th>3</th>\n",
              "      <td>27</td>\n",
              "      <td>1.63</td>\n",
              "      <td>60</td>\n",
              "      <td>F</td>\n",
              "      <td>Pós-graduação (completo ou incompleto)</td>\n",
              "      <td>MS</td>\n",
              "      <td>2</td>\n",
              "      <td>4</td>\n",
              "      <td>trabalho</td>\n",
              "      <td>Assistir TV</td>\n",
              "    </tr>\n",
              "    <tr>\n",
              "      <th>4</th>\n",
              "      <td>28</td>\n",
              "      <td>1.57</td>\n",
              "      <td>63</td>\n",
              "      <td>F</td>\n",
              "      <td>Ensino superior (completo ou incompleto)</td>\n",
              "      <td>MS</td>\n",
              "      <td>2</td>\n",
              "      <td>3</td>\n",
              "      <td>estudo</td>\n",
              "      <td>Rede social</td>\n",
              "    </tr>\n",
              "    <tr>\n",
              "      <th>...</th>\n",
              "      <td>...</td>\n",
              "      <td>...</td>\n",
              "      <td>...</td>\n",
              "      <td>...</td>\n",
              "      <td>...</td>\n",
              "      <td>...</td>\n",
              "      <td>...</td>\n",
              "      <td>...</td>\n",
              "      <td>...</td>\n",
              "      <td>...</td>\n",
              "    </tr>\n",
              "    <tr>\n",
              "      <th>63</th>\n",
              "      <td>22</td>\n",
              "      <td>1.81</td>\n",
              "      <td>92</td>\n",
              "      <td>M</td>\n",
              "      <td>Ensino superior (completo ou incompleto)</td>\n",
              "      <td>SP</td>\n",
              "      <td>3</td>\n",
              "      <td>4</td>\n",
              "      <td>estudo</td>\n",
              "      <td>Ler livro</td>\n",
              "    </tr>\n",
              "    <tr>\n",
              "      <th>64</th>\n",
              "      <td>25</td>\n",
              "      <td>1.55</td>\n",
              "      <td>56</td>\n",
              "      <td>F</td>\n",
              "      <td>Ensino superior (completo ou incompleto)</td>\n",
              "      <td>SP</td>\n",
              "      <td>3</td>\n",
              "      <td>5</td>\n",
              "      <td>estudo</td>\n",
              "      <td>Rede social</td>\n",
              "    </tr>\n",
              "    <tr>\n",
              "      <th>65</th>\n",
              "      <td>21</td>\n",
              "      <td>1.71</td>\n",
              "      <td>65</td>\n",
              "      <td>F</td>\n",
              "      <td>Ensino superior (completo ou incompleto)</td>\n",
              "      <td>MG</td>\n",
              "      <td>2</td>\n",
              "      <td>2</td>\n",
              "      <td>trabalho e estudo</td>\n",
              "      <td>Rede social</td>\n",
              "    </tr>\n",
              "    <tr>\n",
              "      <th>66</th>\n",
              "      <td>18</td>\n",
              "      <td>1.67</td>\n",
              "      <td>75</td>\n",
              "      <td>F</td>\n",
              "      <td>Ensino superior (completo ou incompleto)</td>\n",
              "      <td>SP</td>\n",
              "      <td>4</td>\n",
              "      <td>4</td>\n",
              "      <td>estudo</td>\n",
              "      <td>Ler livro</td>\n",
              "    </tr>\n",
              "    <tr>\n",
              "      <th>67</th>\n",
              "      <td>21</td>\n",
              "      <td>1.58</td>\n",
              "      <td>68</td>\n",
              "      <td>F</td>\n",
              "      <td>Ensino superior (completo ou incompleto)</td>\n",
              "      <td>SP</td>\n",
              "      <td>2</td>\n",
              "      <td>1</td>\n",
              "      <td>trabalho e estudo</td>\n",
              "      <td>Cozinhar</td>\n",
              "    </tr>\n",
              "  </tbody>\n",
              "</table>\n",
              "<p>68 rows × 10 columns</p>\n",
              "</div>"
            ],
            "text/plain": [
              "    age  height_m  weight_kg  ... family_members         work_study freq_actitivity\n",
              "0    20      1.82         85  ...              5  trabalho e estudo        Cozinhar\n",
              "1    25      1.72         64  ...              1             estudo     Rede social\n",
              "2    29      1.82         65  ...              2             estudo       Ler livro\n",
              "3    27      1.63         60  ...              4           trabalho     Assistir TV\n",
              "4    28      1.57         63  ...              3             estudo     Rede social\n",
              "..  ...       ...        ...  ...            ...                ...             ...\n",
              "63   22      1.81         92  ...              4             estudo       Ler livro\n",
              "64   25      1.55         56  ...              5             estudo     Rede social\n",
              "65   21      1.71         65  ...              2  trabalho e estudo     Rede social\n",
              "66   18      1.67         75  ...              4             estudo       Ler livro\n",
              "67   21      1.58         68  ...              1  trabalho e estudo        Cozinhar\n",
              "\n",
              "[68 rows x 10 columns]"
            ]
          },
          "metadata": {
            "tags": []
          },
          "execution_count": 7
        }
      ]
    },
    {
      "cell_type": "code",
      "metadata": {
        "id": "ImfCnsyKTWGJ",
        "outputId": "4e523b35-59ca-48ab-f9bb-dae01d73deec",
        "colab": {
          "base_uri": "https://localhost:8080/"
        }
      },
      "source": [
        "dfPoll['height_m'].quantile()"
      ],
      "execution_count": 10,
      "outputs": [
        {
          "output_type": "execute_result",
          "data": {
            "text/plain": [
              "1.705"
            ]
          },
          "metadata": {
            "tags": []
          },
          "execution_count": 10
        }
      ]
    }
  ]
}